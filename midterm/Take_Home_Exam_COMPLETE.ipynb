{
 "cells": [
  {
   "cell_type": "markdown",
   "metadata": {},
   "source": [
    "# Take Home Exam"
   ]
  },
  {
   "cell_type": "markdown",
   "metadata": {},
   "source": [
    "## Instructions:\n",
    "* Make sure that you run all code cells that are included in this notebook.\n",
    "* I will deduct points in **half-point steps** in the following cases:\n",
    "    * Your code does not work.\n",
    "    * You are not answering the question (Read carefully).\n",
    "    * Your code is slow or inefficient.\n",
    "    * You do not explain why you are doing what you are doing.\n",
    "    * Clean **unnecessary** elements before submission.\n",
    "    * **Check the rubric on Camino for this assignment!**\n",
    "    \n",
    "**The deadline is Saturday, February 10, 2018, 11:59PM**.\n",
    "\n",
    "**I am not available on Saturday and have only limited access to my email. If you have questions or issues, make sure you adress them on Friday. **"
   ]
  },
  {
   "cell_type": "markdown",
   "metadata": {
    "ExecuteTime": {
     "end_time": "2018-02-09T02:47:21.154845Z",
     "start_time": "2018-02-09T02:47:21.148053Z"
    }
   },
   "source": [
    "## Overview"
   ]
  },
  {
   "cell_type": "code",
   "execution_count": 2,
   "metadata": {
    "ExecuteTime": {
     "end_time": "2018-02-10T22:14:20.660768Z",
     "start_time": "2018-02-10T22:14:20.061113Z"
    }
   },
   "outputs": [],
   "source": [
    "import numpy as np\n",
    "import pandas as pd\n",
    "pd.options.display.float_format = '{:.4f}'.format"
   ]
  },
  {
   "cell_type": "code",
   "execution_count": 3,
   "metadata": {
    "ExecuteTime": {
     "end_time": "2018-02-10T22:14:21.642635Z",
     "start_time": "2018-02-10T22:14:21.425230Z"
    }
   },
   "outputs": [],
   "source": [
    "%matplotlib inline"
   ]
  },
  {
   "cell_type": "code",
   "execution_count": 4,
   "metadata": {
    "ExecuteTime": {
     "end_time": "2018-02-10T22:14:22.735684Z",
     "start_time": "2018-02-10T22:14:22.731153Z"
    }
   },
   "outputs": [],
   "source": [
    "from IPython.core.interactiveshell import InteractiveShell\n",
    "InteractiveShell.ast_node_interactivity = \"all\""
   ]
  },
  {
   "cell_type": "code",
   "execution_count": 5,
   "metadata": {
    "ExecuteTime": {
     "end_time": "2018-02-10T22:14:25.809121Z",
     "start_time": "2018-02-10T22:14:24.659401Z"
    }
   },
   "outputs": [],
   "source": [
    "cd = pd.read_csv('complications.csv', dtype=str).rename(columns=lambda x: x.strip())"
   ]
  },
  {
   "cell_type": "markdown",
   "metadata": {},
   "source": [
    "This dataset contains complications in U.S. hospitals. Each observation represents the number of complications and the 30-day death rate for a specific complication in a specific hospital."
   ]
  },
  {
   "cell_type": "markdown",
   "metadata": {},
   "source": [
    "The columns are as follows:"
   ]
  },
  {
   "cell_type": "code",
   "execution_count": 6,
   "metadata": {
    "ExecuteTime": {
     "end_time": "2018-02-10T22:14:27.238436Z",
     "start_time": "2018-02-10T22:14:27.223042Z"
    }
   },
   "outputs": [
    {
     "data": {
      "text/plain": [
       "Index(['Provider ID', 'Hospital Name', 'Address', 'City', 'ZIP Code',\n",
       "       'County Name', 'Phone Number', 'Year', 'Measure ID', 'Measure Name',\n",
       "       'Denominator', 'Score', 'Lower Estimate', 'Higher Estimate'],\n",
       "      dtype='object')"
      ]
     },
     "execution_count": 6,
     "metadata": {},
     "output_type": "execute_result"
    }
   ],
   "source": [
    "cd.columns"
   ]
  },
  {
   "cell_type": "markdown",
   "metadata": {},
   "source": [
    "| Column Name | Description|\n",
    "|-------------|------------|\n",
    "|Provider ID | Unique ID of the hospital |\n",
    "|Hospital Name| Name of the hospital|\n",
    "|Address| Address of the hospital|\n",
    "|City| Name of the city the hospital is in |\n",
    "|ZIP Code | Postal code of the hospital|\n",
    "|County Name | Name of the county the hospital is in|\n",
    "|Phone Number | Phone number of the hospital |\n",
    "|Year | The year in which the complications were recorded|\n",
    "|Measure ID | Code for the complication |\n",
    "|Measure Name | Name of the complication|\n",
    "|Denominator| Number of underlying medical procedures|\n",
    "|Score | Estimate for number of serious complications |\n",
    "|Lower Estimate | Lower boundary of score|\n",
    "|Higher Estimate | Upper boundary of score|"
   ]
  },
  {
   "cell_type": "markdown",
   "metadata": {},
   "source": [
    "A quick overview of the dataset:"
   ]
  },
  {
   "cell_type": "code",
   "execution_count": 7,
   "metadata": {
    "ExecuteTime": {
     "end_time": "2018-02-10T22:14:30.819025Z",
     "start_time": "2018-02-10T22:14:30.023445Z"
    },
    "collapsed": true
   },
   "outputs": [
    {
     "data": {
      "text/html": [
       "<div>\n",
       "<style scoped>\n",
       "    .dataframe tbody tr th:only-of-type {\n",
       "        vertical-align: middle;\n",
       "    }\n",
       "\n",
       "    .dataframe tbody tr th {\n",
       "        vertical-align: top;\n",
       "    }\n",
       "\n",
       "    .dataframe thead th {\n",
       "        text-align: right;\n",
       "    }\n",
       "</style>\n",
       "<table border=\"1\" class=\"dataframe\">\n",
       "  <thead>\n",
       "    <tr style=\"text-align: right;\">\n",
       "      <th></th>\n",
       "      <th>Provider ID</th>\n",
       "      <th>Hospital Name</th>\n",
       "      <th>Address</th>\n",
       "      <th>City</th>\n",
       "      <th>ZIP Code</th>\n",
       "      <th>County Name</th>\n",
       "      <th>Phone Number</th>\n",
       "      <th>Year</th>\n",
       "      <th>Measure ID</th>\n",
       "      <th>Measure Name</th>\n",
       "      <th>Denominator</th>\n",
       "      <th>Score</th>\n",
       "      <th>Lower Estimate</th>\n",
       "      <th>Higher Estimate</th>\n",
       "    </tr>\n",
       "  </thead>\n",
       "  <tbody>\n",
       "    <tr>\n",
       "      <th>count</th>\n",
       "      <td>272788</td>\n",
       "      <td>272788</td>\n",
       "      <td>272788</td>\n",
       "      <td>272788</td>\n",
       "      <td>272788</td>\n",
       "      <td>272626</td>\n",
       "      <td>272788</td>\n",
       "      <td>272788</td>\n",
       "      <td>272788</td>\n",
       "      <td>272788</td>\n",
       "      <td>272788</td>\n",
       "      <td>272788</td>\n",
       "      <td>272788</td>\n",
       "      <td>272788</td>\n",
       "    </tr>\n",
       "    <tr>\n",
       "      <th>unique</th>\n",
       "      <td>4746</td>\n",
       "      <td>5119</td>\n",
       "      <td>4915</td>\n",
       "      <td>2874</td>\n",
       "      <td>4368</td>\n",
       "      <td>1526</td>\n",
       "      <td>5028</td>\n",
       "      <td>6</td>\n",
       "      <td>26</td>\n",
       "      <td>26</td>\n",
       "      <td>23771</td>\n",
       "      <td>6373</td>\n",
       "      <td>8690</td>\n",
       "      <td>11699</td>\n",
       "    </tr>\n",
       "    <tr>\n",
       "      <th>top</th>\n",
       "      <td>140116</td>\n",
       "      <td>MEMORIAL HOSPITAL</td>\n",
       "      <td>100 HOSPITAL DRIVE</td>\n",
       "      <td>CHICAGO</td>\n",
       "      <td>76104</td>\n",
       "      <td>LOS ANGELES</td>\n",
       "      <td>6104022273</td>\n",
       "      <td>2013</td>\n",
       "      <td>MORT_30_PN</td>\n",
       "      <td>Pneumonia (PN) 30-Day Mortality Rate</td>\n",
       "      <td>26.0</td>\n",
       "      <td>0.06</td>\n",
       "      <td>0.0</td>\n",
       "      <td>0.06</td>\n",
       "    </tr>\n",
       "    <tr>\n",
       "      <th>freq</th>\n",
       "      <td>89</td>\n",
       "      <td>710</td>\n",
       "      <td>378</td>\n",
       "      <td>1957</td>\n",
       "      <td>353</td>\n",
       "      <td>5421</td>\n",
       "      <td>178</td>\n",
       "      <td>58668</td>\n",
       "      <td>24942</td>\n",
       "      <td>24942</td>\n",
       "      <td>1435</td>\n",
       "      <td>2947</td>\n",
       "      <td>23907</td>\n",
       "      <td>2897</td>\n",
       "    </tr>\n",
       "  </tbody>\n",
       "</table>\n",
       "</div>"
      ],
      "text/plain": [
       "       Provider ID      Hospital Name             Address     City ZIP Code  \\\n",
       "count       272788             272788              272788   272788   272788   \n",
       "unique        4746               5119                4915     2874     4368   \n",
       "top         140116  MEMORIAL HOSPITAL  100 HOSPITAL DRIVE  CHICAGO    76104   \n",
       "freq            89                710                 378     1957      353   \n",
       "\n",
       "        County Name Phone Number    Year  Measure ID  \\\n",
       "count        272626       272788  272788      272788   \n",
       "unique         1526         5028       6          26   \n",
       "top     LOS ANGELES   6104022273    2013  MORT_30_PN   \n",
       "freq           5421          178   58668       24942   \n",
       "\n",
       "                                Measure Name Denominator   Score  \\\n",
       "count                                 272788      272788  272788   \n",
       "unique                                    26       23771    6373   \n",
       "top     Pneumonia (PN) 30-Day Mortality Rate        26.0    0.06   \n",
       "freq                                   24942        1435    2947   \n",
       "\n",
       "       Lower Estimate Higher Estimate  \n",
       "count          272788          272788  \n",
       "unique           8690           11699  \n",
       "top               0.0            0.06  \n",
       "freq            23907            2897  "
      ]
     },
     "execution_count": 7,
     "metadata": {},
     "output_type": "execute_result"
    }
   ],
   "source": [
    "cd.describe()"
   ]
  },
  {
   "cell_type": "markdown",
   "metadata": {},
   "source": [
    "A sample of the dataset:"
   ]
  },
  {
   "cell_type": "code",
   "execution_count": 8,
   "metadata": {
    "ExecuteTime": {
     "end_time": "2018-02-10T22:14:34.015148Z",
     "start_time": "2018-02-10T22:14:33.952420Z"
    },
    "collapsed": true
   },
   "outputs": [
    {
     "data": {
      "text/html": [
       "<div>\n",
       "<style scoped>\n",
       "    .dataframe tbody tr th:only-of-type {\n",
       "        vertical-align: middle;\n",
       "    }\n",
       "\n",
       "    .dataframe tbody tr th {\n",
       "        vertical-align: top;\n",
       "    }\n",
       "\n",
       "    .dataframe thead th {\n",
       "        text-align: right;\n",
       "    }\n",
       "</style>\n",
       "<table border=\"1\" class=\"dataframe\">\n",
       "  <thead>\n",
       "    <tr style=\"text-align: right;\">\n",
       "      <th></th>\n",
       "      <th>Provider ID</th>\n",
       "      <th>Hospital Name</th>\n",
       "      <th>Address</th>\n",
       "      <th>City</th>\n",
       "      <th>ZIP Code</th>\n",
       "      <th>County Name</th>\n",
       "      <th>Phone Number</th>\n",
       "      <th>Year</th>\n",
       "      <th>Measure ID</th>\n",
       "      <th>Measure Name</th>\n",
       "      <th>Denominator</th>\n",
       "      <th>Score</th>\n",
       "      <th>Lower Estimate</th>\n",
       "      <th>Higher Estimate</th>\n",
       "    </tr>\n",
       "  </thead>\n",
       "  <tbody>\n",
       "    <tr>\n",
       "      <th>22678</th>\n",
       "      <td>050222</td>\n",
       "      <td>SHARP CHULA VISTA MEDICAL CENTER</td>\n",
       "      <td>751 MEDICAL CENTER COURT</td>\n",
       "      <td>CHULA VISTA</td>\n",
       "      <td>91911</td>\n",
       "      <td>SAN DIEGO</td>\n",
       "      <td>6195025800</td>\n",
       "      <td>2016</td>\n",
       "      <td>MORT_30_PN</td>\n",
       "      <td>Pneumonia (PN) 30-Day Mortality Rate</td>\n",
       "      <td>474.0</td>\n",
       "      <td>14.3</td>\n",
       "      <td>12.1</td>\n",
       "      <td>16.8</td>\n",
       "    </tr>\n",
       "    <tr>\n",
       "      <th>22088</th>\n",
       "      <td>050191</td>\n",
       "      <td>ST MARY MEDICAL CENTER</td>\n",
       "      <td>1050 LINDEN AVE</td>\n",
       "      <td>LONG BEACH</td>\n",
       "      <td>90813</td>\n",
       "      <td>LOS ANGELES</td>\n",
       "      <td>5624919000</td>\n",
       "      <td>2012</td>\n",
       "      <td>PSI_14_POSTOP_DEHIS</td>\n",
       "      <td>A wound that splits open  after surgery on the...</td>\n",
       "      <td>102.0</td>\n",
       "      <td>1.78</td>\n",
       "      <td>0.0</td>\n",
       "      <td>3.64</td>\n",
       "    </tr>\n",
       "    <tr>\n",
       "      <th>111295</th>\n",
       "      <td>201309</td>\n",
       "      <td>MAYO REGIONAL HOSPITAL</td>\n",
       "      <td>897 WEST MAIN STREET</td>\n",
       "      <td>DOVER FOXCROFT</td>\n",
       "      <td>04426</td>\n",
       "      <td>PISCATAQUIS</td>\n",
       "      <td>2075644251</td>\n",
       "      <td>2014</td>\n",
       "      <td>MORT_30_STK</td>\n",
       "      <td>Death rate for stroke patients</td>\n",
       "      <td>43.0</td>\n",
       "      <td>14.1</td>\n",
       "      <td>10.2</td>\n",
       "      <td>18.9</td>\n",
       "    </tr>\n",
       "    <tr>\n",
       "      <th>44865</th>\n",
       "      <td>100012</td>\n",
       "      <td>LEE MEMORIAL HOSPITAL</td>\n",
       "      <td>2776 CLEVELAND AVE</td>\n",
       "      <td>FORT MYERS</td>\n",
       "      <td>33901</td>\n",
       "      <td>LEE</td>\n",
       "      <td>2393321111</td>\n",
       "      <td>2012</td>\n",
       "      <td>MORT_30_PN</td>\n",
       "      <td>Pneumonia (PN) 30-Day Mortality Rate</td>\n",
       "      <td>971.0</td>\n",
       "      <td>10.6</td>\n",
       "      <td>8.9</td>\n",
       "      <td>12.5</td>\n",
       "    </tr>\n",
       "    <tr>\n",
       "      <th>208974</th>\n",
       "      <td>390194</td>\n",
       "      <td>BLUE MOUNTAIN HOSPITAL-GNADEN HUETTEN CAMPUS</td>\n",
       "      <td>211 NORTH 12TH STREET</td>\n",
       "      <td>LEHIGHTON</td>\n",
       "      <td>18235</td>\n",
       "      <td>CARBON</td>\n",
       "      <td>6073771300</td>\n",
       "      <td>2016</td>\n",
       "      <td>MORT_30_STK</td>\n",
       "      <td>Death rate for stroke patients</td>\n",
       "      <td>72.0</td>\n",
       "      <td>15.7</td>\n",
       "      <td>11.7</td>\n",
       "      <td>20.8</td>\n",
       "    </tr>\n",
       "  </tbody>\n",
       "</table>\n",
       "</div>"
      ],
      "text/plain": [
       "       Provider ID                                 Hospital Name  \\\n",
       "22678       050222              SHARP CHULA VISTA MEDICAL CENTER   \n",
       "22088       050191                        ST MARY MEDICAL CENTER   \n",
       "111295      201309                        MAYO REGIONAL HOSPITAL   \n",
       "44865       100012                         LEE MEMORIAL HOSPITAL   \n",
       "208974      390194  BLUE MOUNTAIN HOSPITAL-GNADEN HUETTEN CAMPUS   \n",
       "\n",
       "                         Address            City ZIP Code  County Name  \\\n",
       "22678   751 MEDICAL CENTER COURT     CHULA VISTA    91911    SAN DIEGO   \n",
       "22088            1050 LINDEN AVE      LONG BEACH    90813  LOS ANGELES   \n",
       "111295      897 WEST MAIN STREET  DOVER FOXCROFT    04426  PISCATAQUIS   \n",
       "44865         2776 CLEVELAND AVE      FORT MYERS    33901          LEE   \n",
       "208974     211 NORTH 12TH STREET       LEHIGHTON    18235       CARBON   \n",
       "\n",
       "       Phone Number  Year           Measure ID  \\\n",
       "22678    6195025800  2016           MORT_30_PN   \n",
       "22088    5624919000  2012  PSI_14_POSTOP_DEHIS   \n",
       "111295   2075644251  2014          MORT_30_STK   \n",
       "44865    2393321111  2012           MORT_30_PN   \n",
       "208974   6073771300  2016          MORT_30_STK   \n",
       "\n",
       "                                             Measure Name Denominator Score  \\\n",
       "22678                Pneumonia (PN) 30-Day Mortality Rate       474.0  14.3   \n",
       "22088   A wound that splits open  after surgery on the...       102.0  1.78   \n",
       "111295                     Death rate for stroke patients        43.0  14.1   \n",
       "44865                Pneumonia (PN) 30-Day Mortality Rate       971.0  10.6   \n",
       "208974                     Death rate for stroke patients        72.0  15.7   \n",
       "\n",
       "       Lower Estimate Higher Estimate  \n",
       "22678            12.1            16.8  \n",
       "22088             0.0            3.64  \n",
       "111295           10.2            18.9  \n",
       "44865             8.9            12.5  \n",
       "208974           11.7            20.8  "
      ]
     },
     "execution_count": 8,
     "metadata": {},
     "output_type": "execute_result"
    }
   ],
   "source": [
    "cd.sample(5, random_state=1234).head()"
   ]
  },
  {
   "cell_type": "markdown",
   "metadata": {
    "ExecuteTime": {
     "end_time": "2018-02-09T01:16:45.300896Z",
     "start_time": "2018-02-09T01:16:45.295156Z"
    }
   },
   "source": [
    "# Transform relevant columns"
   ]
  },
  {
   "cell_type": "markdown",
   "metadata": {},
   "source": [
    "All columns in the dataset are of type `str` (to preserve the ZIP code information). For **five** columns, str is the wrong type. Change the columns and explain why you changed which column."
   ]
  },
  {
   "cell_type": "code",
   "execution_count": 10,
   "metadata": {
    "ExecuteTime": {
     "end_time": "2018-02-10T22:14:48.162127Z",
     "start_time": "2018-02-10T22:14:48.119927Z"
    }
   },
   "outputs": [],
   "source": [
    "# copy of original dataframe\n",
    "cd1= cd.copy()"
   ]
  },
  {
   "cell_type": "code",
   "execution_count": 11,
   "metadata": {
    "ExecuteTime": {
     "end_time": "2018-02-10T22:15:24.816025Z",
     "start_time": "2018-02-10T22:15:24.443731Z"
    }
   },
   "outputs": [],
   "source": [
    "cd1.Year = pd.to_datetime(cd1.Year)\n",
    "cd1.Denominator = pd.to_numeric(cd1.Denominator)\n",
    "cd1.Score = pd.to_numeric(cd1.Score)\n",
    "cd1['Lower Estimate'] = pd.to_numeric(cd1['Lower Estimate'])\n",
    "cd1['Higher Estimate'] = pd.to_numeric(cd1['Lower Estimate'])"
   ]
  },
  {
   "cell_type": "markdown",
   "metadata": {},
   "source": [
    "- Year column should be change to 'datetime' data type, since we could with time calculations easier. For example, we may want to calculate the total number of years that has a score above 3.5<br>\n",
    "- Denominator, Score, Lower Estimate, and Higher Estimate columns should all be changed to numeric type columns, since we might want to do calculations with those columns."
   ]
  },
  {
   "cell_type": "markdown",
   "metadata": {
    "ExecuteTime": {
     "end_time": "2018-02-09T01:31:41.847890Z",
     "start_time": "2018-02-09T01:31:41.839019Z"
    }
   },
   "source": [
    "# Create a ratio between the score and the denominator"
   ]
  },
  {
   "cell_type": "markdown",
   "metadata": {
    "ExecuteTime": {
     "end_time": "2018-02-09T01:34:20.308451Z",
     "start_time": "2018-02-09T01:34:20.287272Z"
    }
   },
   "source": [
    "Create a new column in the dataset that contains the ratio value."
   ]
  },
  {
   "cell_type": "code",
   "execution_count": 248,
   "metadata": {
    "ExecuteTime": {
     "end_time": "2018-02-11T07:37:34.848628Z",
     "start_time": "2018-02-11T07:37:34.839292Z"
    }
   },
   "outputs": [],
   "source": [
    "# Creates an empty column\n",
    "cd1['ratio'] = cd1.Score/cd1.Denominator"
   ]
  },
  {
   "cell_type": "markdown",
   "metadata": {
    "ExecuteTime": {
     "end_time": "2018-02-09T01:33:13.551872Z",
     "start_time": "2018-02-09T01:33:13.546879Z"
    }
   },
   "source": [
    "# Create an overview of the ratio for deathly complications"
   ]
  },
  {
   "cell_type": "markdown",
   "metadata": {},
   "source": [
    "0. **Be careful when you identify 'deathly' complications and make sure that you catch all of them.**\n",
    "1. Create the overview (Make sure that the overview is understandable to everyone.)\n",
    "2. Choose an appropriate measure to aggregate the data. **Ignore that the data is for multiple years**.\n",
    "2. Sort with the highest ratio on top."
   ]
  },
  {
   "cell_type": "code",
   "execution_count": 249,
   "metadata": {
    "ExecuteTime": {
     "end_time": "2018-02-11T07:37:38.609084Z",
     "start_time": "2018-02-11T07:37:38.456550Z"
    },
    "collapsed": true
   },
   "outputs": [
    {
     "data": {
      "text/plain": [
       "Provider ID        False\n",
       "Hospital Name      False\n",
       "Address            False\n",
       "City               False\n",
       "ZIP Code           False\n",
       "County Name         True\n",
       "Phone Number       False\n",
       "Year               False\n",
       "Measure ID         False\n",
       "Measure Name       False\n",
       "Denominator        False\n",
       "Score              False\n",
       "Lower Estimate     False\n",
       "Higher Estimate    False\n",
       "ratio              False\n",
       "dtype: bool"
      ]
     },
     "execution_count": 249,
     "metadata": {},
     "output_type": "execute_result"
    }
   ],
   "source": [
    "# Check for null values in all columns\n",
    "cd1.isna().any()"
   ]
  },
  {
   "cell_type": "code",
   "execution_count": 250,
   "metadata": {
    "ExecuteTime": {
     "end_time": "2018-02-11T07:38:35.289960Z",
     "start_time": "2018-02-11T07:38:35.261572Z"
    },
    "collapsed": true
   },
   "outputs": [
    {
     "data": {
      "text/plain": [
       "array(['Rate of complications for hip/knee replacement patients',\n",
       "       'Acute Myocardial Infarction (AMI) 30-Day Mortality Rate',\n",
       "       'Death rate for CABG',\n",
       "       'Death rate for chronic obstructive pulmonary disease (COPD) patients',\n",
       "       'Heart failure (HF) 30-Day Mortality Rate',\n",
       "       'Pneumonia (PN) 30-Day Mortality Rate',\n",
       "       'Death rate for stroke patients',\n",
       "       'Postoperative Acute Kidney Injury Requiring Dialysis Rate',\n",
       "       'Postoperative Respiratory Failure Rate',\n",
       "       'Serious blood clots after surgery',\n",
       "       'Blood stream infection after surgery',\n",
       "       'A wound that splits open  after surgery on the abdomen or pelvis',\n",
       "       'Accidental cuts and tears from medical treatment',\n",
       "       'Pressure sores',\n",
       "       'Deaths among Patients with Serious Treatable Complications after Surgery',\n",
       "       'Collapsed lung due to medical treatment',\n",
       "       'Infections from a large venous catheter',\n",
       "       'Broken hip from a fall after surgery',\n",
       "       'Perioperative Hemorrhage or Hematoma Rate',\n",
       "       'Acute Myocardial Infarction (AMI) 30-Day Readmission Rate',\n",
       "       'Rate of unplanned readmission for chronic obstructive pulmonary disease (COPD) patients',\n",
       "       'Heart failure (HF) 30-Day Readmission Rate',\n",
       "       'Rate of readmission after hip/knee surgery',\n",
       "       'Rate of readmission after discharge from hospital (hospital-wide)',\n",
       "       'Pneumonia (PN) 30-Day Readmission Rate',\n",
       "       'Rate of unplanned readmission for stroke patients'], dtype=object)"
      ]
     },
     "execution_count": 250,
     "metadata": {},
     "output_type": "execute_result"
    }
   ],
   "source": [
    "cd1['Measure Name'].unique()"
   ]
  },
  {
   "cell_type": "markdown",
   "metadata": {},
   "source": [
    "- By examining the unique Measure Name column, we will get an idea of the complication details. Several conditions may be considered \"deathly\" upon glance:<br>\n",
    "&nbsp;&nbsp;&nbsp; 'Death rate for CABG'\n",
    "&nbsp;&nbsp;&nbsp; 'Death rate for chronic obstructive pulmonary disease (COPD) patients'<br>\n",
    "&nbsp;&nbsp;&nbsp; 'Heart failure (HF) 30-Day Mortality Rate'<br>\n",
    "&nbsp;&nbsp;&nbsp; 'Pneumonia (PN) 30-Day Mortality Rate'<br>\n",
    "&nbsp;&nbsp;&nbsp; 'Death rate for stroke patients'<br>\n",
    "&nbsp;&nbsp;&nbsp; 'Deaths among Patients with Serious Treatable Complications after Surgery'<br><br>\n",
    "\n",
    "- Several key words can be used to categorize these conditions:\"Deaths\", \"Death\", \"Mortality\" <br>\n",
    "- Note: mask could not be put on all three key words in the same expression; dtype error result: unsupported operand type(s) for &: 'str' and 'int'\n",
    "\n",
    "\n"
   ]
  },
  {
   "cell_type": "code",
   "execution_count": 252,
   "metadata": {
    "ExecuteTime": {
     "end_time": "2018-02-11T07:39:20.211857Z",
     "start_time": "2018-02-11T07:39:19.436981Z"
    },
    "collapsed": true
   },
   "outputs": [
    {
     "data": {
      "text/plain": [
       "0         [Rate, of, complications, for, hip/knee, repla...\n",
       "1         [Rate, of, complications, for, hip/knee, repla...\n",
       "2         [Rate, of, complications, for, hip/knee, repla...\n",
       "3         [Rate, of, complications, for, hip/knee, repla...\n",
       "4         [Rate, of, complications, for, hip/knee, repla...\n",
       "5         [Rate, of, complications, for, hip/knee, repla...\n",
       "6         [Acute, Myocardial, Infarction, (AMI), 30-Day,...\n",
       "7         [Acute, Myocardial, Infarction, (AMI), 30-Day,...\n",
       "8         [Acute, Myocardial, Infarction, (AMI), 30-Day,...\n",
       "9         [Acute, Myocardial, Infarction, (AMI), 30-Day,...\n",
       "10        [Acute, Myocardial, Infarction, (AMI), 30-Day,...\n",
       "11        [Acute, Myocardial, Infarction, (AMI), 30-Day,...\n",
       "12                                 [Death, rate, for, CABG]\n",
       "13                                 [Death, rate, for, CABG]\n",
       "14                                 [Death, rate, for, CABG]\n",
       "15        [Death, rate, for, chronic, obstructive, pulmo...\n",
       "16        [Death, rate, for, chronic, obstructive, pulmo...\n",
       "17        [Death, rate, for, chronic, obstructive, pulmo...\n",
       "18        [Death, rate, for, chronic, obstructive, pulmo...\n",
       "19        [Death, rate, for, chronic, obstructive, pulmo...\n",
       "20        [Death, rate, for, chronic, obstructive, pulmo...\n",
       "21          [Heart, failure, (HF), 30-Day, Mortality, Rate]\n",
       "22          [Heart, failure, (HF), 30-Day, Mortality, Rate]\n",
       "23          [Heart, failure, (HF), 30-Day, Mortality, Rate]\n",
       "24          [Heart, failure, (HF), 30-Day, Mortality, Rate]\n",
       "25          [Heart, failure, (HF), 30-Day, Mortality, Rate]\n",
       "26          [Heart, failure, (HF), 30-Day, Mortality, Rate]\n",
       "27               [Pneumonia, (PN), 30-Day, Mortality, Rate]\n",
       "28               [Pneumonia, (PN), 30-Day, Mortality, Rate]\n",
       "29               [Pneumonia, (PN), 30-Day, Mortality, Rate]\n",
       "                                ...                        \n",
       "272758         [Broken, hip, from, a, fall, after, surgery]\n",
       "272759      [Perioperative, Hemorrhage, or, Hematoma, Rate]\n",
       "272760           [Pneumonia, (PN), 30-Day, Mortality, Rate]\n",
       "272761           [Pneumonia, (PN), 30-Day, Mortality, Rate]\n",
       "272762           [Pneumonia, (PN), 30-Day, Mortality, Rate]\n",
       "272763    [Accidental, cuts, and, tears, from, medical, ...\n",
       "272764    [Accidental, cuts, and, tears, from, medical, ...\n",
       "272765                                    [Pressure, sores]\n",
       "272766       [Collapsed, lung, due, to, medical, treatment]\n",
       "272767       [Collapsed, lung, due, to, medical, treatment]\n",
       "272768       [Infections, from, a, large, venous, catheter]\n",
       "272769       [Infections, from, a, large, venous, catheter]\n",
       "272770         [Broken, hip, from, a, fall, after, surgery]\n",
       "272771      [Heart, failure, (HF), 30-Day, Mortality, Rate]\n",
       "272772      [Heart, failure, (HF), 30-Day, Mortality, Rate]\n",
       "272773      [Heart, failure, (HF), 30-Day, Mortality, Rate]\n",
       "272774    [Accidental, cuts, and, tears, from, medical, ...\n",
       "272775    [Accidental, cuts, and, tears, from, medical, ...\n",
       "272776                                    [Pressure, sores]\n",
       "272777       [Collapsed, lung, due, to, medical, treatment]\n",
       "272778       [Collapsed, lung, due, to, medical, treatment]\n",
       "272779       [Infections, from, a, large, venous, catheter]\n",
       "272780       [Infections, from, a, large, venous, catheter]\n",
       "272781         [Broken, hip, from, a, fall, after, surgery]\n",
       "272782    [Death, rate, for, chronic, obstructive, pulmo...\n",
       "272783    [Death, rate, for, chronic, obstructive, pulmo...\n",
       "272784    [Death, rate, for, chronic, obstructive, pulmo...\n",
       "272785           [Pneumonia, (PN), 30-Day, Mortality, Rate]\n",
       "272786           [Pneumonia, (PN), 30-Day, Mortality, Rate]\n",
       "272787           [Pneumonia, (PN), 30-Day, Mortality, Rate]\n",
       "Name: Measure Name, Length: 272788, dtype: object"
      ]
     },
     "execution_count": 252,
     "metadata": {},
     "output_type": "execute_result"
    }
   ],
   "source": [
    "# Tokenize each word in this column to work with the strings\n",
    "cd1['Measure Name'].str.split()"
   ]
  },
  {
   "cell_type": "code",
   "execution_count": 154,
   "metadata": {
    "ExecuteTime": {
     "end_time": "2018-02-11T06:03:51.249621Z",
     "start_time": "2018-02-11T06:03:50.782767Z"
    }
   },
   "outputs": [],
   "source": [
    "# Filter for data that contains words associated with deathly complications\n",
    "deathly = cd1[cd1['Measure Name'].str.contains('Death') | cd1['Measure Name'].str.contains('Mortality')|cd1['Measure Name'].str.contains('Deaths') ]"
   ]
  },
  {
   "cell_type": "code",
   "execution_count": 81,
   "metadata": {
    "ExecuteTime": {
     "end_time": "2018-02-11T04:12:23.464533Z",
     "start_time": "2018-02-11T04:12:23.459898Z"
    }
   },
   "outputs": [],
   "source": [
    "d1 = deathly.groupby(['Measure Name'])"
   ]
  },
  {
   "cell_type": "code",
   "execution_count": 87,
   "metadata": {
    "ExecuteTime": {
     "end_time": "2018-02-11T04:16:00.000923Z",
     "start_time": "2018-02-11T04:15:59.981230Z"
    }
   },
   "outputs": [
    {
     "data": {
      "text/html": [
       "<div>\n",
       "<style scoped>\n",
       "    .dataframe tbody tr th:only-of-type {\n",
       "        vertical-align: middle;\n",
       "    }\n",
       "\n",
       "    .dataframe tbody tr th {\n",
       "        vertical-align: top;\n",
       "    }\n",
       "\n",
       "    .dataframe thead th {\n",
       "        text-align: right;\n",
       "    }\n",
       "</style>\n",
       "<table border=\"1\" class=\"dataframe\">\n",
       "  <thead>\n",
       "    <tr style=\"text-align: right;\">\n",
       "      <th></th>\n",
       "      <th>min</th>\n",
       "      <th>max</th>\n",
       "      <th>mean</th>\n",
       "    </tr>\n",
       "    <tr>\n",
       "      <th>Measure Name</th>\n",
       "      <th></th>\n",
       "      <th></th>\n",
       "      <th></th>\n",
       "    </tr>\n",
       "  </thead>\n",
       "  <tbody>\n",
       "    <tr>\n",
       "      <th>Deaths among Patients with Serious Treatable Complications after Surgery</th>\n",
       "      <td>0.1132</td>\n",
       "      <td>0.9997</td>\n",
       "      <td>0.5244</td>\n",
       "    </tr>\n",
       "    <tr>\n",
       "      <th>Death rate for stroke patients</th>\n",
       "      <td>0.0070</td>\n",
       "      <td>0.7000</td>\n",
       "      <td>0.1848</td>\n",
       "    </tr>\n",
       "    <tr>\n",
       "      <th>Acute Myocardial Infarction (AMI) 30-Day Mortality Rate</th>\n",
       "      <td>0.0068</td>\n",
       "      <td>0.6680</td>\n",
       "      <td>0.1599</td>\n",
       "    </tr>\n",
       "    <tr>\n",
       "      <th>Heart failure (HF) 30-Day Mortality Rate</th>\n",
       "      <td>0.0033</td>\n",
       "      <td>0.6360</td>\n",
       "      <td>0.1217</td>\n",
       "    </tr>\n",
       "    <tr>\n",
       "      <th>Pneumonia (PN) 30-Day Mortality Rate</th>\n",
       "      <td>0.0044</td>\n",
       "      <td>0.7520</td>\n",
       "      <td>0.1159</td>\n",
       "    </tr>\n",
       "    <tr>\n",
       "      <th>Death rate for chronic obstructive pulmonary disease (COPD) patients</th>\n",
       "      <td>0.0028</td>\n",
       "      <td>0.3640</td>\n",
       "      <td>0.0833</td>\n",
       "    </tr>\n",
       "    <tr>\n",
       "      <th>Death rate for CABG</th>\n",
       "      <td>0.0016</td>\n",
       "      <td>0.1750</td>\n",
       "      <td>0.0415</td>\n",
       "    </tr>\n",
       "  </tbody>\n",
       "</table>\n",
       "</div>"
      ],
      "text/plain": [
       "                                                      min    max   mean\n",
       "Measure Name                                                           \n",
       "Deaths among Patients with Serious Treatable Co... 0.1132 0.9997 0.5244\n",
       "Death rate for stroke patients                     0.0070 0.7000 0.1848\n",
       "Acute Myocardial Infarction (AMI) 30-Day Mortal... 0.0068 0.6680 0.1599\n",
       "Heart failure (HF) 30-Day Mortality Rate           0.0033 0.6360 0.1217\n",
       "Pneumonia (PN) 30-Day Mortality Rate               0.0044 0.7520 0.1159\n",
       "Death rate for chronic obstructive pulmonary di... 0.0028 0.3640 0.0833\n",
       "Death rate for CABG                                0.0016 0.1750 0.0415"
      ]
     },
     "execution_count": 87,
     "metadata": {},
     "output_type": "execute_result"
    }
   ],
   "source": [
    "d1.ratio.agg(['min','max','mean']).sort_values(by='mean', ascending=False)"
   ]
  },
  {
   "cell_type": "code",
   "execution_count": null,
   "metadata": {},
   "outputs": [],
   "source": []
  },
  {
   "cell_type": "markdown",
   "metadata": {
    "ExecuteTime": {
     "end_time": "2018-02-09T01:37:40.834697Z",
     "start_time": "2018-02-09T01:37:40.831044Z"
    }
   },
   "source": [
    "# Identify the five safest hospitals"
   ]
  },
  {
   "cell_type": "markdown",
   "metadata": {},
   "source": [
    "Return a **list** with the hospitals that have, on average, the lowest rate of deadly complications. **Be careful when you identify 'deathly' complications.** (Again, ignore that the dataset covers multiple years)."
   ]
  },
  {
   "cell_type": "code",
   "execution_count": 91,
   "metadata": {
    "ExecuteTime": {
     "end_time": "2018-02-11T04:25:36.059864Z",
     "start_time": "2018-02-11T04:25:36.035964Z"
    }
   },
   "outputs": [
    {
     "data": {
      "text/plain": [
       "Hospital Name\n",
       "UNIVERITY OF MD BALTO WASHINGTON  MEDICAL CENTER   0.0206\n",
       "NEW YORK-PRESBYTERIAN HOSPITAL                     0.0220\n",
       "NORTON HOSPITALS, INC                              0.0226\n",
       "SAN JUAN VA MEDICAL CENTER                         0.0240\n",
       "FLORIDA HOSPITAL                                   0.0256\n",
       "Name: ratio, dtype: float64"
      ]
     },
     "execution_count": 91,
     "metadata": {},
     "output_type": "execute_result"
    }
   ],
   "source": [
    "deathly.groupby('Hospital Name')['ratio'].mean().nsmallest(5)"
   ]
  },
  {
   "cell_type": "markdown",
   "metadata": {
    "ExecuteTime": {
     "end_time": "2018-02-09T01:54:20.635175Z",
     "start_time": "2018-02-09T01:54:20.626192Z"
    }
   },
   "source": [
    "# Augment the datset with information about the state"
   ]
  },
  {
   "cell_type": "markdown",
   "metadata": {
    "ExecuteTime": {
     "end_time": "2018-02-09T01:55:10.296708Z",
     "start_time": "2018-02-09T01:55:10.285834Z"
    }
   },
   "source": [
    "Read the file `geo-data.csv` into an object `zip_codes`. **Make sure that you read all columns as string.** ([Link](https://github.com/scpike/us-state-county-zip))"
   ]
  },
  {
   "cell_type": "code",
   "execution_count": 103,
   "metadata": {
    "ExecuteTime": {
     "end_time": "2018-02-11T05:24:13.659729Z",
     "start_time": "2018-02-11T05:24:13.597046Z"
    }
   },
   "outputs": [],
   "source": [
    "zip_codes = pd.read_csv('geo-data.csv', dtype=str)"
   ]
  },
  {
   "cell_type": "markdown",
   "metadata": {},
   "source": [
    "This file contains information about the relationship of zip codes, counties, and U.S. states. "
   ]
  },
  {
   "cell_type": "code",
   "execution_count": 104,
   "metadata": {
    "ExecuteTime": {
     "end_time": "2018-02-11T05:24:15.485837Z",
     "start_time": "2018-02-11T05:24:15.476757Z"
    },
    "scrolled": true
   },
   "outputs": [
    {
     "data": {
      "text/plain": [
       "Index(['state_fips', 'state', 'state_abbr', 'zipcode', 'county', 'city'], dtype='object')"
      ]
     },
     "execution_count": 104,
     "metadata": {},
     "output_type": "execute_result"
    }
   ],
   "source": [
    "zip_codes.columns"
   ]
  },
  {
   "cell_type": "markdown",
   "metadata": {},
   "source": [
    "| Column Name | Description|\n",
    "|-------------|------------|\n",
    "|state_fips | FIPS code for the state |\n",
    "|state| Name of the state|\n",
    "|state_abbr| Abbreviation of the state|\n",
    "|zipcode | Postal code|\n",
    "|county | County name|\n",
    "|city | City name  |"
   ]
  },
  {
   "cell_type": "markdown",
   "metadata": {},
   "source": [
    "1. Combine the dataset on complications with the dateset on zip codes.\n",
    "2. Explain why you chose the column that used to combine the datasets.\n",
    "3. **Do not worry, not all states will be matched.**"
   ]
  },
  {
   "cell_type": "markdown",
   "metadata": {},
   "source": [
    "- First, I will clean up the zip_codes dataframe by selecting only the 'zipcode' and 'state'columns, since these are the only columns we want. I then rename the 'zipcode' column to match the 'ZIP code' column from complications frame. In the actual merge, a left merge is used to only preserve the states which found a match in the complications dataframe (here named 'deathly').<br>\n",
    "\n",
    "- I chose to join only on the zip code column, because after checking the complications dataframe earlier, I found that there were NaN values in the county column. If I had chosen to join on both zip code and county, there would be rows of data that could be cut off and thereby, affect the integrity of the entire set."
   ]
  },
  {
   "cell_type": "code",
   "execution_count": 253,
   "metadata": {
    "ExecuteTime": {
     "end_time": "2018-02-11T07:40:29.083535Z",
     "start_time": "2018-02-11T07:40:29.074973Z"
    }
   },
   "outputs": [],
   "source": [
    "df = zip_codes[['state','zipcode']]\n",
    "df.columns = ['state','ZIP Code']"
   ]
  },
  {
   "cell_type": "code",
   "execution_count": 255,
   "metadata": {
    "ExecuteTime": {
     "end_time": "2018-02-11T07:40:35.247329Z",
     "start_time": "2018-02-11T07:40:35.143343Z"
    }
   },
   "outputs": [],
   "source": [
    "merged_df = cd1.merge(df, how = 'left', on = \"ZIP Code\")\n"
   ]
  },
  {
   "cell_type": "markdown",
   "metadata": {
    "ExecuteTime": {
     "end_time": "2018-02-09T02:01:36.232035Z",
     "start_time": "2018-02-09T02:01:36.225785Z"
    }
   },
   "source": [
    "# Create an overview of the complications per U.S. state"
   ]
  },
  {
   "cell_type": "markdown",
   "metadata": {},
   "source": [
    "* Return a sorted list with the overall complication rate per state. \n",
    "* Ignore that the data is for multiple years. \n",
    "* Focus on the **best** ten states."
   ]
  },
  {
   "cell_type": "code",
   "execution_count": 256,
   "metadata": {
    "ExecuteTime": {
     "end_time": "2018-02-11T07:40:38.652368Z",
     "start_time": "2018-02-11T07:40:38.567748Z"
    }
   },
   "outputs": [
    {
     "data": {
      "text/plain": [
       "state\n",
       "Utah           10.1762\n",
       "New mexico     10.6304\n",
       "Hawaii         10.7439\n",
       "Louisiana      10.8218\n",
       "Pennsylvania   10.8478\n",
       "Texas          10.8674\n",
       "South dakota   10.9352\n",
       "California     10.9853\n",
       "Wyoming        10.9981\n",
       "Oklahoma       10.9985\n",
       "Name: Score, dtype: float64"
      ]
     },
     "execution_count": 256,
     "metadata": {},
     "output_type": "execute_result"
    }
   ],
   "source": [
    "stateComp = merged_df.groupby(['state'])\n",
    "stateComp.Score.mean().nsmallest(10)"
   ]
  },
  {
   "cell_type": "markdown",
   "metadata": {},
   "source": [
    "# Create an overview of the change in complications across U.S. states"
   ]
  },
  {
   "cell_type": "markdown",
   "metadata": {},
   "source": [
    "* Focus on the deadly complications only.\n",
    "* Calculate the change as follows: **(average rate for last year in dataset - average rate for first year in dataset)/(average rate for first year in dataset)**"
   ]
  },
  {
   "cell_type": "markdown",
   "metadata": {},
   "source": [
    "- First, I merged the dataframe with only deathly complications('deathly') with zipcode dataframe, joined on zip code.<br>\n",
    "- Second, I pulled two individual sets of series; one is on the average complication rate of 2011 for each state, and one is the average complication rate of 2016 for each state<br>\n",
    "- I then combined these series to create a new dataframe, where I finally calculated the change rate between the two.<br>"
   ]
  },
  {
   "cell_type": "code",
   "execution_count": 257,
   "metadata": {
    "ExecuteTime": {
     "end_time": "2018-02-11T07:40:50.781127Z",
     "start_time": "2018-02-11T07:40:50.711765Z"
    }
   },
   "outputs": [],
   "source": [
    "merged_df2 = deathly.merge(df, how = 'left', on = \"ZIP Code\")"
   ]
  },
  {
   "cell_type": "code",
   "execution_count": 282,
   "metadata": {
    "ExecuteTime": {
     "end_time": "2018-02-11T08:03:52.573801Z",
     "start_time": "2018-02-11T08:03:52.549112Z"
    }
   },
   "outputs": [],
   "source": [
    "group11 = merged_df2[(merged_df2.Year =='2011-01-01')].groupby(['state','Year'])['Score'].mean()\n",
    "group16 = merged_df2[(merged_df2.Year =='2016-01-01')].groupby(['state','Year'])['Score'].mean()"
   ]
  },
  {
   "cell_type": "code",
   "execution_count": 283,
   "metadata": {
    "ExecuteTime": {
     "end_time": "2018-02-11T08:03:56.054569Z",
     "start_time": "2018-02-11T08:03:56.034504Z"
    }
   },
   "outputs": [],
   "source": [
    "# Combine both series into one dataframe\n",
    "newmerged = pd.merge(group11.reset_index(), group16.reset_index(),on='state')"
   ]
  },
  {
   "cell_type": "code",
   "execution_count": 284,
   "metadata": {
    "ExecuteTime": {
     "end_time": "2018-02-11T08:03:58.595891Z",
     "start_time": "2018-02-11T08:03:58.580550Z"
    }
   },
   "outputs": [],
   "source": [
    "# Calculate the change rate\n",
    "newmerged['rate'] = (newmerged.Score_y - newmerged.Score_x)/newmerged.Score_x"
   ]
  },
  {
   "cell_type": "markdown",
   "metadata": {},
   "source": [
    "Which state has improved the most?<br><br>\n",
    "**Wyoming**"
   ]
  },
  {
   "cell_type": "code",
   "execution_count": 285,
   "metadata": {
    "ExecuteTime": {
     "end_time": "2018-02-11T08:04:00.965007Z",
     "start_time": "2018-02-11T08:04:00.932361Z"
    }
   },
   "outputs": [
    {
     "data": {
      "text/html": [
       "<div>\n",
       "<style scoped>\n",
       "    .dataframe tbody tr th:only-of-type {\n",
       "        vertical-align: middle;\n",
       "    }\n",
       "\n",
       "    .dataframe tbody tr th {\n",
       "        vertical-align: top;\n",
       "    }\n",
       "\n",
       "    .dataframe thead th {\n",
       "        text-align: right;\n",
       "    }\n",
       "</style>\n",
       "<table border=\"1\" class=\"dataframe\">\n",
       "  <thead>\n",
       "    <tr style=\"text-align: right;\">\n",
       "      <th></th>\n",
       "      <th>state</th>\n",
       "      <th>Year_x</th>\n",
       "      <th>Score_x</th>\n",
       "      <th>Year_y</th>\n",
       "      <th>Score_y</th>\n",
       "      <th>rate</th>\n",
       "    </tr>\n",
       "  </thead>\n",
       "  <tbody>\n",
       "    <tr>\n",
       "      <th>43</th>\n",
       "      <td>Wyoming</td>\n",
       "      <td>2011-01-01</td>\n",
       "      <td>12.0308</td>\n",
       "      <td>2016-01-01</td>\n",
       "      <td>13.3884</td>\n",
       "      <td>0.1128</td>\n",
       "    </tr>\n",
       "  </tbody>\n",
       "</table>\n",
       "</div>"
      ],
      "text/plain": [
       "      state     Year_x  Score_x     Year_y  Score_y   rate\n",
       "43  Wyoming 2011-01-01  12.0308 2016-01-01  13.3884 0.1128"
      ]
     },
     "execution_count": 285,
     "metadata": {},
     "output_type": "execute_result"
    }
   ],
   "source": [
    "newmerged.nlargest(columns='rate', n=1)"
   ]
  },
  {
   "cell_type": "markdown",
   "metadata": {},
   "source": [
    "Which state has the worst development?<br><br>\n",
    "**Nevada**"
   ]
  },
  {
   "cell_type": "code",
   "execution_count": 286,
   "metadata": {
    "ExecuteTime": {
     "end_time": "2018-02-11T08:04:03.174399Z",
     "start_time": "2018-02-11T08:04:03.155078Z"
    }
   },
   "outputs": [
    {
     "data": {
      "text/html": [
       "<div>\n",
       "<style scoped>\n",
       "    .dataframe tbody tr th:only-of-type {\n",
       "        vertical-align: middle;\n",
       "    }\n",
       "\n",
       "    .dataframe tbody tr th {\n",
       "        vertical-align: top;\n",
       "    }\n",
       "\n",
       "    .dataframe thead th {\n",
       "        text-align: right;\n",
       "    }\n",
       "</style>\n",
       "<table border=\"1\" class=\"dataframe\">\n",
       "  <thead>\n",
       "    <tr style=\"text-align: right;\">\n",
       "      <th></th>\n",
       "      <th>state</th>\n",
       "      <th>Year_x</th>\n",
       "      <th>Score_x</th>\n",
       "      <th>Year_y</th>\n",
       "      <th>Score_y</th>\n",
       "      <th>rate</th>\n",
       "    </tr>\n",
       "  </thead>\n",
       "  <tbody>\n",
       "    <tr>\n",
       "      <th>25</th>\n",
       "      <td>Nevada</td>\n",
       "      <td>2011-01-01</td>\n",
       "      <td>12.7653</td>\n",
       "      <td>2016-01-01</td>\n",
       "      <td>12.2444</td>\n",
       "      <td>-0.0408</td>\n",
       "    </tr>\n",
       "  </tbody>\n",
       "</table>\n",
       "</div>"
      ],
      "text/plain": [
       "     state     Year_x  Score_x     Year_y  Score_y    rate\n",
       "25  Nevada 2011-01-01  12.7653 2016-01-01  12.2444 -0.0408"
      ]
     },
     "execution_count": 286,
     "metadata": {},
     "output_type": "execute_result"
    }
   ],
   "source": [
    "newmerged.nsmallest(columns='rate', n=1)"
   ]
  },
  {
   "cell_type": "markdown",
   "metadata": {
    "ExecuteTime": {
     "end_time": "2018-02-09T02:30:33.122083Z",
     "start_time": "2018-02-09T02:30:33.116370Z"
    }
   },
   "source": [
    "# Bonus"
   ]
  },
  {
   "cell_type": "markdown",
   "metadata": {},
   "source": [
    "Which state has the worst development for 'Deaths among Patients with Serious Treatable Complications after Surgery'?<br><br>\n",
    "- same process as above, but when data is filtered for the specified measure, only 2012 to 2015 data is available. Process is slightly modified to take this into account; worst state is Hawaii"
   ]
  },
  {
   "cell_type": "code",
   "execution_count": 287,
   "metadata": {
    "ExecuteTime": {
     "end_time": "2018-02-11T08:04:06.651744Z",
     "start_time": "2018-02-11T08:04:06.195038Z"
    }
   },
   "outputs": [],
   "source": [
    "deathly2 = cd1[cd1['Measure Name'].str.contains('Patients') | cd1['Measure Name'].str.contains('Treatable')|cd1['Measure Name'].str.contains('Surgery') ]\n",
    "merged_dff = deathly2.merge(df, how = 'left', on = \"ZIP Code\")\n"
   ]
  },
  {
   "cell_type": "code",
   "execution_count": 293,
   "metadata": {
    "ExecuteTime": {
     "end_time": "2018-02-11T08:05:31.941909Z",
     "start_time": "2018-02-11T08:05:31.926235Z"
    },
    "scrolled": true
   },
   "outputs": [],
   "source": [
    "newgroup12 = merged_dff[(merged_dff.Year =='2012-01-01')].groupby(['state','Year'])['Score'].mean()\n",
    "newgroup15 = merged_dff[(merged_dff.Year =='2015-01-01')].groupby(['state','Year'])['Score'].mean()\n"
   ]
  },
  {
   "cell_type": "code",
   "execution_count": 295,
   "metadata": {
    "ExecuteTime": {
     "end_time": "2018-02-11T08:05:40.796102Z",
     "start_time": "2018-02-11T08:05:40.776643Z"
    }
   },
   "outputs": [],
   "source": [
    "# Combine both series into one dataframe\n",
    "newmerged2 = pd.merge(newgroup12.reset_index(), newgroup15.reset_index(),on='state')\n"
   ]
  },
  {
   "cell_type": "code",
   "execution_count": 297,
   "metadata": {
    "ExecuteTime": {
     "end_time": "2018-02-11T08:05:51.576280Z",
     "start_time": "2018-02-11T08:05:51.568832Z"
    }
   },
   "outputs": [],
   "source": [
    "# Calculate the change rate\n",
    "newmerged2['rate'] = (newmerged2.Score_y - newmerged2.Score_x)/newmerged2.Score_x"
   ]
  },
  {
   "cell_type": "code",
   "execution_count": 298,
   "metadata": {
    "ExecuteTime": {
     "end_time": "2018-02-11T08:05:54.065826Z",
     "start_time": "2018-02-11T08:05:54.026991Z"
    }
   },
   "outputs": [
    {
     "data": {
      "text/html": [
       "<div>\n",
       "<style scoped>\n",
       "    .dataframe tbody tr th:only-of-type {\n",
       "        vertical-align: middle;\n",
       "    }\n",
       "\n",
       "    .dataframe tbody tr th {\n",
       "        vertical-align: top;\n",
       "    }\n",
       "\n",
       "    .dataframe thead th {\n",
       "        text-align: right;\n",
       "    }\n",
       "</style>\n",
       "<table border=\"1\" class=\"dataframe\">\n",
       "  <thead>\n",
       "    <tr style=\"text-align: right;\">\n",
       "      <th></th>\n",
       "      <th>state</th>\n",
       "      <th>Year_x</th>\n",
       "      <th>Score_x</th>\n",
       "      <th>Year_y</th>\n",
       "      <th>Score_y</th>\n",
       "      <th>rate</th>\n",
       "    </tr>\n",
       "  </thead>\n",
       "  <tbody>\n",
       "    <tr>\n",
       "      <th>10</th>\n",
       "      <td>Hawaii</td>\n",
       "      <td>2012-01-01</td>\n",
       "      <td>62.9300</td>\n",
       "      <td>2015-01-01</td>\n",
       "      <td>52.6667</td>\n",
       "      <td>-0.1631</td>\n",
       "    </tr>\n",
       "  </tbody>\n",
       "</table>\n",
       "</div>"
      ],
      "text/plain": [
       "     state     Year_x  Score_x     Year_y  Score_y    rate\n",
       "10  Hawaii 2012-01-01  62.9300 2015-01-01  52.6667 -0.1631"
      ]
     },
     "execution_count": 298,
     "metadata": {},
     "output_type": "execute_result"
    }
   ],
   "source": [
    "newmerged2.nsmallest(columns='rate', n=1)"
   ]
  },
  {
   "cell_type": "markdown",
   "metadata": {},
   "source": [
    "### SOURCES:<BR>\n",
    "   https://www.youtube.com/watch?v=h4hOPGo4UVU - join dataframe <br>\n",
    "   https://stackoverflow.com/questions/27975069/how-to-filter-rows-containing-a-string-pattern-from-a-pandas-dataframe - string pattern <br>\n",
    "   https://stackoverflow.com/questions/18062135/combining-two-series-into-a-dataframe-in-pandas - combine series <br>\n",
    "   https://stackoverflow.com/questions/27925055/join-series-on-multiindex-in-pandas - combine series<br>"
   ]
  }
 ],
 "metadata": {
  "kernelspec": {
   "display_name": "Python 3",
   "language": "python",
   "name": "python3"
  },
  "language_info": {
   "codemirror_mode": {
    "name": "ipython",
    "version": 3
   },
   "file_extension": ".py",
   "mimetype": "text/x-python",
   "name": "python",
   "nbconvert_exporter": "python",
   "pygments_lexer": "ipython3",
   "version": "3.6.4"
  },
  "toc": {
   "nav_menu": {},
   "number_sections": true,
   "sideBar": true,
   "skip_h1_title": false,
   "title_cell": "Table of Contents",
   "title_sidebar": "Contents",
   "toc_cell": false,
   "toc_position": {},
   "toc_section_display": true,
   "toc_window_display": false
  },
  "varInspector": {
   "cols": {
    "lenName": 16,
    "lenType": 16,
    "lenVar": 40
   },
   "kernels_config": {
    "python": {
     "delete_cmd_postfix": "",
     "delete_cmd_prefix": "del ",
     "library": "var_list.py",
     "varRefreshCmd": "print(var_dic_list())"
    },
    "r": {
     "delete_cmd_postfix": ") ",
     "delete_cmd_prefix": "rm(",
     "library": "var_list.r",
     "varRefreshCmd": "cat(var_dic_list()) "
    }
   },
   "types_to_exclude": [
    "module",
    "function",
    "builtin_function_or_method",
    "instance",
    "_Feature"
   ],
   "window_display": false
  }
 },
 "nbformat": 4,
 "nbformat_minor": 2
}
