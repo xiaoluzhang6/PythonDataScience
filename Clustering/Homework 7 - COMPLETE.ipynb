{
 "cells": [
  {
   "cell_type": "markdown",
   "metadata": {
    "deletable": true,
    "editable": true
   },
   "source": [
    "# Homework 7 - Let's have another look at the Titanic"
   ]
  },
  {
   "cell_type": "markdown",
   "metadata": {
    "deletable": true,
    "editable": true
   },
   "source": [
    "The objective of this homework is to practice k-means clustering. To successfully complete this homework, you may use any resources available to you. \n",
    "\n",
    "Last week, we used supervised classification to understand what drives survivability. This week we explore whether the machine can figure it out on it's own.\n",
    "\n",
    "Get the `titanic3.csv` data (Source: [Link](http://biostat.mc.vanderbilt.edu/wiki/pub/Main/DataSets/titanic3info.txt)).\n",
    "\n",
    "1. Analyze the data using pandas.\n",
    "    * Create a column `child` that specifies whether the person is a child (age <= 10).\n",
    "    * Create a column `family_size` that specifies the size of the family of that person (Please note that there are two relevant columns for this step.\n",
    "2. Develop clusters for the dataset.\n",
    "    * Impute the `age` column with the **median** (Please note that this a very simplified step. Imputing is usually way more complex).\n",
    "    * Drop all remaining NaN values.\n",
    "    * Preprocess the `sex` column using LabelEncoder.\n",
    "    * Preprocess the `child` column using LabelEncoder (not actually necessary but for systematic purposes).\n",
    "    * Scale the data set to standardize the dataset using `sklearn.preprocessing.scale`\n",
    "    * Run a KMeans cluster analysis. Pick an appropriate number of clusters.\n",
    "    * Interpret the results.\n",
    "3. Implement a search for the best number of clusters using the silhouette score from `sklearn.metrics`.\n",
    "    * Set the parameters to 2,3,4,5,6 clusters.\n",
    "    * Interpret the best results.\n",
    "    * Try to find names for the clusters.\n",
    "    \n",
    "Hints:\n",
    "* Explain what you are doing.\n",
    "* Use references."
   ]
  },
  {
   "cell_type": "code",
   "execution_count": 61,
   "metadata": {
    "ExecuteTime": {
     "end_time": "2018-02-27T19:41:31.487185Z",
     "start_time": "2018-02-27T19:41:30.755880Z"
    },
    "collapsed": true,
    "deletable": true,
    "editable": true
   },
   "outputs": [],
   "source": [
    "import numpy as np\n",
    "import pandas as pd\n",
    "import seaborn as sns"
   ]
  },
  {
   "cell_type": "code",
   "execution_count": 62,
   "metadata": {
    "ExecuteTime": {
     "end_time": "2018-02-27T19:41:31.689679Z",
     "start_time": "2018-02-27T19:41:31.574603Z"
    },
    "collapsed": true,
    "deletable": true,
    "editable": true
   },
   "outputs": [],
   "source": [
    "import sklearn as sk\n",
    "import sklearn.tree as tree\n",
    "import sklearn.preprocessing as pp\n",
    "import sklearn.metrics as sm\n",
    "from sklearn.preprocessing import scale"
   ]
  },
  {
   "cell_type": "code",
   "execution_count": 63,
   "metadata": {
    "ExecuteTime": {
     "end_time": "2018-02-27T19:41:32.387335Z",
     "start_time": "2018-02-27T19:41:32.379470Z"
    },
    "collapsed": true,
    "deletable": true,
    "editable": true
   },
   "outputs": [],
   "source": [
    "from IPython.core.interactiveshell import InteractiveShell\n",
    "InteractiveShell.ast_node_interactivity = \"all\""
   ]
  },
  {
   "cell_type": "code",
   "execution_count": 228,
   "metadata": {
    "collapsed": true
   },
   "outputs": [],
   "source": [
    "import warnings\n",
    "warnings.filterwarnings('ignore')"
   ]
  },
  {
   "cell_type": "code",
   "execution_count": 64,
   "metadata": {
    "ExecuteTime": {
     "end_time": "2018-02-27T19:41:32.885233Z",
     "start_time": "2018-02-27T19:41:32.871864Z"
    },
    "collapsed": true,
    "deletable": true,
    "editable": true
   },
   "outputs": [],
   "source": [
    "%matplotlib inline"
   ]
  },
  {
   "cell_type": "code",
   "execution_count": 65,
   "metadata": {
    "ExecuteTime": {
     "end_time": "2018-02-27T22:16:10.048620Z",
     "start_time": "2018-02-27T22:16:09.855661Z"
    },
    "collapsed": true,
    "deletable": true,
    "editable": true
   },
   "outputs": [],
   "source": [
    "raw = pd.read_csv(\"https://raw.githubusercontent.com/mschermann/msis2802winter2018homework/master/\\\n",
    "titanic3.csv\")"
   ]
  },
  {
   "cell_type": "code",
   "execution_count": 7,
   "metadata": {
    "ExecuteTime": {
     "end_time": "2018-02-27T22:16:11.049640Z",
     "start_time": "2018-02-27T22:16:11.037255Z"
    },
    "collapsed": true,
    "deletable": true,
    "editable": true
   },
   "outputs": [],
   "source": [
    "tc = raw.copy()"
   ]
  },
  {
   "cell_type": "markdown",
   "metadata": {
    "deletable": true,
    "editable": true
   },
   "source": [
    "## Description of the dataset\n",
    "\n",
    "Each row is a passenger on the Titanic. The columns report attributes for the passengers:\n",
    "\n",
    "| Column | Description | Relevant for this homework|\n",
    "|--------|-------------|--------|\n",
    "|`survived`|1 = survived, 0 = died | **X**|\n",
    "|`pclass`| 1 = first class, 2 = second class, 3 = third class |**X**|\n",
    "|`name`| Name of the passenger| |\n",
    "|`sex`| male or female|**X**|\n",
    "|`age`| age in years|**X**|\n",
    "|`sibsp`| The number of siblings or spouses that are also traveling on the Titanic| **X**|\n",
    "|`parch`| The number of parents or childen that are also traveling on the Titanic| **X**|\n",
    "|`ticket`|The ticket number| |\n",
    "|`fare`| The ticket price | |\n",
    "|`cabin`| The cabin number | |\n",
    "|`embarked`| The starting city | |\n",
    "|`boat`| The emergency boat number | |\n",
    "|`body`| The identification number of the body | |\n",
    "|`home.dest`| The destination of the passenger | |"
   ]
  },
  {
   "cell_type": "code",
   "execution_count": 8,
   "metadata": {
    "collapsed": true,
    "deletable": true,
    "editable": true
   },
   "outputs": [],
   "source": [
    "tc1 = tc.copy()"
   ]
  },
  {
   "cell_type": "code",
   "execution_count": 9,
   "metadata": {
    "collapsed": true,
    "deletable": true,
    "editable": true
   },
   "outputs": [],
   "source": [
    "# create function to code child column;\n",
    "# those below age 10 is equal to 1.0 and is a child\n",
    "\n",
    "def child(x):\n",
    "    if x <= 10.0000:\n",
    "        return 1.0\n",
    "    else:\n",
    "        return 0.0"
   ]
  },
  {
   "cell_type": "code",
   "execution_count": 10,
   "metadata": {
    "collapsed": true,
    "deletable": true,
    "editable": true
   },
   "outputs": [],
   "source": [
    "# apply to age column and find those who are children\n",
    "tc1['child'] = tc1['age'].apply(lambda x:child(x))"
   ]
  },
  {
   "cell_type": "code",
   "execution_count": 14,
   "metadata": {
    "collapsed": true,
    "deletable": true,
    "editable": true
   },
   "outputs": [],
   "source": [
    "# create and fill new column for family size\n",
    "tc1['famsize'] = tc1.sibsp + tc1.parch + 1"
   ]
  },
  {
   "cell_type": "code",
   "execution_count": 125,
   "metadata": {
    "collapsed": false,
    "deletable": true,
    "editable": true
   },
   "outputs": [],
   "source": [
    "# impute nan values with mean for 'age'column\n",
    "tc1.age.fillna(tc1.age.mean(), inplace=True)"
   ]
  },
  {
   "cell_type": "code",
   "execution_count": 101,
   "metadata": {
    "collapsed": false,
    "deletable": true,
    "editable": true
   },
   "outputs": [
    {
     "data": {
      "text/html": [
       "<div>\n",
       "<style>\n",
       "    .dataframe thead tr:only-child th {\n",
       "        text-align: right;\n",
       "    }\n",
       "\n",
       "    .dataframe thead th {\n",
       "        text-align: left;\n",
       "    }\n",
       "\n",
       "    .dataframe tbody tr th {\n",
       "        vertical-align: top;\n",
       "    }\n",
       "</style>\n",
       "<table border=\"1\" class=\"dataframe\">\n",
       "  <thead>\n",
       "    <tr style=\"text-align: right;\">\n",
       "      <th></th>\n",
       "      <th>survived</th>\n",
       "      <th>pclass</th>\n",
       "      <th>sex</th>\n",
       "      <th>age</th>\n",
       "      <th>sibsp</th>\n",
       "      <th>parch</th>\n",
       "      <th>child</th>\n",
       "      <th>famsize</th>\n",
       "    </tr>\n",
       "  </thead>\n",
       "  <tbody>\n",
       "    <tr>\n",
       "      <th>0</th>\n",
       "      <td>1.0</td>\n",
       "      <td>1.0</td>\n",
       "      <td>female</td>\n",
       "      <td>29.0000</td>\n",
       "      <td>0.0</td>\n",
       "      <td>0.0</td>\n",
       "      <td>0.0</td>\n",
       "      <td>1.0</td>\n",
       "    </tr>\n",
       "    <tr>\n",
       "      <th>1</th>\n",
       "      <td>1.0</td>\n",
       "      <td>1.0</td>\n",
       "      <td>male</td>\n",
       "      <td>0.9167</td>\n",
       "      <td>1.0</td>\n",
       "      <td>2.0</td>\n",
       "      <td>1.0</td>\n",
       "      <td>4.0</td>\n",
       "    </tr>\n",
       "    <tr>\n",
       "      <th>2</th>\n",
       "      <td>0.0</td>\n",
       "      <td>1.0</td>\n",
       "      <td>female</td>\n",
       "      <td>2.0000</td>\n",
       "      <td>1.0</td>\n",
       "      <td>2.0</td>\n",
       "      <td>1.0</td>\n",
       "      <td>4.0</td>\n",
       "    </tr>\n",
       "    <tr>\n",
       "      <th>3</th>\n",
       "      <td>0.0</td>\n",
       "      <td>1.0</td>\n",
       "      <td>male</td>\n",
       "      <td>30.0000</td>\n",
       "      <td>1.0</td>\n",
       "      <td>2.0</td>\n",
       "      <td>0.0</td>\n",
       "      <td>4.0</td>\n",
       "    </tr>\n",
       "    <tr>\n",
       "      <th>4</th>\n",
       "      <td>0.0</td>\n",
       "      <td>1.0</td>\n",
       "      <td>female</td>\n",
       "      <td>25.0000</td>\n",
       "      <td>1.0</td>\n",
       "      <td>2.0</td>\n",
       "      <td>0.0</td>\n",
       "      <td>4.0</td>\n",
       "    </tr>\n",
       "  </tbody>\n",
       "</table>\n",
       "</div>"
      ],
      "text/plain": [
       "   survived  pclass     sex      age  sibsp  parch  child  famsize\n",
       "0       1.0     1.0  female  29.0000    0.0    0.0    0.0      1.0\n",
       "1       1.0     1.0    male   0.9167    1.0    2.0    1.0      4.0\n",
       "2       0.0     1.0  female   2.0000    1.0    2.0    1.0      4.0\n",
       "3       0.0     1.0    male  30.0000    1.0    2.0    0.0      4.0\n",
       "4       0.0     1.0  female  25.0000    1.0    2.0    0.0      4.0"
      ]
     },
     "execution_count": 101,
     "metadata": {},
     "output_type": "execute_result"
    }
   ],
   "source": [
    "# limit dataframe to the columns we are interested in\n",
    "tcc = tc1[['survived', 'pclass','sex','age', 'sibsp', 'parch', 'child', 'famsize']]\n",
    "tcc.head()"
   ]
  },
  {
   "cell_type": "code",
   "execution_count": 229,
   "metadata": {
    "collapsed": false,
    "deletable": true,
    "editable": true
   },
   "outputs": [],
   "source": [
    "# drop all nan values\n",
    "tcc.dropna(inplace=True)"
   ]
  },
  {
   "cell_type": "code",
   "execution_count": 230,
   "metadata": {
    "collapsed": false,
    "deletable": true,
    "editable": true
   },
   "outputs": [],
   "source": [
    "# preprocess these 2 columns\n",
    "le = pp.LabelEncoder()\n",
    "tcc['sex'] = le.fit_transform(tcc['sex'].astype(str))\n",
    "tcc['child'] = le.fit_transform(tcc['sex'].astype(str))"
   ]
  },
  {
   "cell_type": "markdown",
   "metadata": {},
   "source": [
    "**I want to check and see if the 'survived'column will make a difference when clustering, so I will run KMeans on two version of the dataframe, one with 'survived' column and one with out. Thus, each of the steps will be repeated twice below.**"
   ]
  },
  {
   "cell_type": "code",
   "execution_count": 231,
   "metadata": {
    "collapsed": false
   },
   "outputs": [],
   "source": [
    "# This is our dataframe with no 'survived'column\n",
    "noSur = tcc.drop(['survived'],axis=1)"
   ]
  },
  {
   "cell_type": "code",
   "execution_count": 128,
   "metadata": {
    "collapsed": false,
    "deletable": true,
    "editable": true,
    "scrolled": true
   },
   "outputs": [],
   "source": [
    "# scale the data\n",
    "ptcc = pp.scale(tcc)"
   ]
  },
  {
   "cell_type": "code",
   "execution_count": 232,
   "metadata": {
    "collapsed": true
   },
   "outputs": [],
   "source": [
    "# scale this as well\n",
    "ptc = pp.scale(noSur,copy=False)"
   ]
  },
  {
   "cell_type": "code",
   "execution_count": 233,
   "metadata": {
    "collapsed": true,
    "deletable": true,
    "editable": true
   },
   "outputs": [],
   "source": [
    "from sklearn.metrics import silhouette_score"
   ]
  },
  {
   "cell_type": "code",
   "execution_count": 246,
   "metadata": {
    "collapsed": false,
    "deletable": true,
    "editable": true
   },
   "outputs": [],
   "source": [
    "# set parameters for cluster analysis\n",
    "from sklearn.cluster import KMeans\n",
    "kmeans = KMeans(n_clusters=3)\n",
    "y_kmeans = kmeans.fit_predict(ptcc)"
   ]
  },
  {
   "cell_type": "code",
   "execution_count": 247,
   "metadata": {
    "collapsed": true
   },
   "outputs": [],
   "source": [
    "# version with no 'survived'\n",
    "kmeans1 = KMeans(n_clusters=3)\n",
    "y_kmeans1 = kmeans.fit_predict(ptc)"
   ]
  },
  {
   "cell_type": "code",
   "execution_count": 249,
   "metadata": {
    "collapsed": false,
    "deletable": true,
    "editable": true
   },
   "outputs": [],
   "source": [
    "tcc['cluster'] = y_kmeans"
   ]
  },
  {
   "cell_type": "code",
   "execution_count": 250,
   "metadata": {
    "collapsed": false,
    "scrolled": false
   },
   "outputs": [],
   "source": [
    "# version with no 'survived'\n",
    "noSur['cluster'] = y_kmeans1"
   ]
  },
  {
   "cell_type": "code",
   "execution_count": 251,
   "metadata": {
    "collapsed": false,
    "deletable": true,
    "editable": true,
    "scrolled": true
   },
   "outputs": [
    {
     "data": {
      "text/html": [
       "<div>\n",
       "<style>\n",
       "    .dataframe thead tr:only-child th {\n",
       "        text-align: right;\n",
       "    }\n",
       "\n",
       "    .dataframe thead th {\n",
       "        text-align: left;\n",
       "    }\n",
       "\n",
       "    .dataframe tbody tr th {\n",
       "        vertical-align: top;\n",
       "    }\n",
       "</style>\n",
       "<table border=\"1\" class=\"dataframe\">\n",
       "  <thead>\n",
       "    <tr style=\"text-align: right;\">\n",
       "      <th></th>\n",
       "      <th>survived</th>\n",
       "      <th>pclass</th>\n",
       "      <th>sex</th>\n",
       "      <th>age</th>\n",
       "      <th>sibsp</th>\n",
       "      <th>parch</th>\n",
       "      <th>child</th>\n",
       "      <th>famsize</th>\n",
       "    </tr>\n",
       "    <tr>\n",
       "      <th>cluster</th>\n",
       "      <th></th>\n",
       "      <th></th>\n",
       "      <th></th>\n",
       "      <th></th>\n",
       "      <th></th>\n",
       "      <th></th>\n",
       "      <th></th>\n",
       "      <th></th>\n",
       "    </tr>\n",
       "  </thead>\n",
       "  <tbody>\n",
       "    <tr>\n",
       "      <th>0</th>\n",
       "      <td>0.771562</td>\n",
       "      <td>2.102564</td>\n",
       "      <td>0.000000</td>\n",
       "      <td>29.243314</td>\n",
       "      <td>0.445221</td>\n",
       "      <td>0.449883</td>\n",
       "      <td>0.000000</td>\n",
       "      <td>1.895105</td>\n",
       "    </tr>\n",
       "    <tr>\n",
       "      <th>1</th>\n",
       "      <td>0.196005</td>\n",
       "      <td>2.349563</td>\n",
       "      <td>1.000000</td>\n",
       "      <td>31.107748</td>\n",
       "      <td>0.243446</td>\n",
       "      <td>0.144819</td>\n",
       "      <td>1.000000</td>\n",
       "      <td>1.388265</td>\n",
       "    </tr>\n",
       "    <tr>\n",
       "      <th>2</th>\n",
       "      <td>0.151899</td>\n",
       "      <td>2.784810</td>\n",
       "      <td>0.531646</td>\n",
       "      <td>20.907810</td>\n",
       "      <td>3.379747</td>\n",
       "      <td>2.468354</td>\n",
       "      <td>0.531646</td>\n",
       "      <td>6.848101</td>\n",
       "    </tr>\n",
       "  </tbody>\n",
       "</table>\n",
       "</div>"
      ],
      "text/plain": [
       "         survived    pclass       sex        age     sibsp     parch  \\\n",
       "cluster                                                                \n",
       "0        0.771562  2.102564  0.000000  29.243314  0.445221  0.449883   \n",
       "1        0.196005  2.349563  1.000000  31.107748  0.243446  0.144819   \n",
       "2        0.151899  2.784810  0.531646  20.907810  3.379747  2.468354   \n",
       "\n",
       "            child   famsize  \n",
       "cluster                      \n",
       "0        0.000000  1.895105  \n",
       "1        1.000000  1.388265  \n",
       "2        0.531646  6.848101  "
      ]
     },
     "execution_count": 251,
     "metadata": {},
     "output_type": "execute_result"
    }
   ],
   "source": [
    "tcc.groupby('cluster').mean()"
   ]
  },
  {
   "cell_type": "code",
   "execution_count": 252,
   "metadata": {
    "collapsed": false,
    "scrolled": true
   },
   "outputs": [
    {
     "data": {
      "text/html": [
       "<div>\n",
       "<style>\n",
       "    .dataframe thead tr:only-child th {\n",
       "        text-align: right;\n",
       "    }\n",
       "\n",
       "    .dataframe thead th {\n",
       "        text-align: left;\n",
       "    }\n",
       "\n",
       "    .dataframe tbody tr th {\n",
       "        vertical-align: top;\n",
       "    }\n",
       "</style>\n",
       "<table border=\"1\" class=\"dataframe\">\n",
       "  <thead>\n",
       "    <tr style=\"text-align: right;\">\n",
       "      <th></th>\n",
       "      <th>pclass</th>\n",
       "      <th>sex</th>\n",
       "      <th>age</th>\n",
       "      <th>sibsp</th>\n",
       "      <th>parch</th>\n",
       "      <th>child</th>\n",
       "      <th>famsize</th>\n",
       "    </tr>\n",
       "    <tr>\n",
       "      <th>cluster</th>\n",
       "      <th></th>\n",
       "      <th></th>\n",
       "      <th></th>\n",
       "      <th></th>\n",
       "      <th></th>\n",
       "      <th></th>\n",
       "      <th></th>\n",
       "    </tr>\n",
       "  </thead>\n",
       "  <tbody>\n",
       "    <tr>\n",
       "      <th>0</th>\n",
       "      <td>2.349563</td>\n",
       "      <td>1.000000</td>\n",
       "      <td>31.107748</td>\n",
       "      <td>0.243446</td>\n",
       "      <td>0.144819</td>\n",
       "      <td>1.000000</td>\n",
       "      <td>1.388265</td>\n",
       "    </tr>\n",
       "    <tr>\n",
       "      <th>1</th>\n",
       "      <td>2.107981</td>\n",
       "      <td>0.000000</td>\n",
       "      <td>29.230943</td>\n",
       "      <td>0.436620</td>\n",
       "      <td>0.436620</td>\n",
       "      <td>0.000000</td>\n",
       "      <td>1.873239</td>\n",
       "    </tr>\n",
       "    <tr>\n",
       "      <th>2</th>\n",
       "      <td>2.731707</td>\n",
       "      <td>0.512195</td>\n",
       "      <td>21.277037</td>\n",
       "      <td>3.317073</td>\n",
       "      <td>2.463415</td>\n",
       "      <td>0.512195</td>\n",
       "      <td>6.780488</td>\n",
       "    </tr>\n",
       "  </tbody>\n",
       "</table>\n",
       "</div>"
      ],
      "text/plain": [
       "           pclass       sex        age     sibsp     parch     child   famsize\n",
       "cluster                                                                       \n",
       "0        2.349563  1.000000  31.107748  0.243446  0.144819  1.000000  1.388265\n",
       "1        2.107981  0.000000  29.230943  0.436620  0.436620  0.000000  1.873239\n",
       "2        2.731707  0.512195  21.277037  3.317073  2.463415  0.512195  6.780488"
      ]
     },
     "execution_count": 252,
     "metadata": {},
     "output_type": "execute_result"
    }
   ],
   "source": [
    "noSur.groupby('cluster').mean()"
   ]
  },
  {
   "cell_type": "markdown",
   "metadata": {
    "deletable": true,
    "editable": true
   },
   "source": [
    "** It is clear from comparing the two tables that both are the same regardless of presence of 'survived' column. From the table, we can see that cluster #0 for the first table (or cluster #1 for 2nd table) has the highest average survive rate ; this cluster of population are from the second class, female, around 29 years old, and approx. family sized of 2. The 'child' column seems to be off, as we are taking the mean.**"
   ]
  },
  {
   "cell_type": "code",
   "execution_count": 115,
   "metadata": {
    "collapsed": false,
    "deletable": true,
    "editable": true
   },
   "outputs": [],
   "source": [
    "from sklearn.pipeline import Pipeline"
   ]
  },
  {
   "cell_type": "code",
   "execution_count": null,
   "metadata": {
    "collapsed": true,
    "deletable": true,
    "editable": true
   },
   "outputs": [],
   "source": [
    "#X_complete = a.drop(['species'], axis=1)"
   ]
  },
  {
   "cell_type": "code",
   "execution_count": 116,
   "metadata": {
    "collapsed": true,
    "deletable": true,
    "editable": true
   },
   "outputs": [],
   "source": [
    "# standarize data & run KMeans\n",
    "pipe = Pipeline([('scale', pp.StandardScaler()),('cluster', KMeans())])"
   ]
  },
  {
   "cell_type": "code",
   "execution_count": 117,
   "metadata": {
    "collapsed": true,
    "deletable": true,
    "editable": true
   },
   "outputs": [],
   "source": [
    "# this contains the cluster\n",
    "pipe = Pipeline([('cluster', KMeans())])"
   ]
  },
  {
   "cell_type": "code",
   "execution_count": 121,
   "metadata": {
    "collapsed": true,
    "deletable": true,
    "editable": true
   },
   "outputs": [],
   "source": [
    "cluster__n_clusters = [2,3,4,5,6]"
   ]
  },
  {
   "cell_type": "code",
   "execution_count": 147,
   "metadata": {
    "collapsed": false,
    "deletable": true,
    "editable": true
   },
   "outputs": [],
   "source": [
    "# for loop to run our pipeline and display in a dataframe\n",
    "score = pd.DataFrame(columns=['clusters', 'silhouette_score', 'labels'])\n",
    "for n_cluster in cluster__n_clusters:\n",
    "    pipe = pipe.set_params(cluster__n_clusters = n_cluster)\n",
    "    labels = pipe.fit_predict(X)\n",
    "    silhouette_avg = silhouette_score(X, labels)\n",
    "    score = score.append({'clusters':n_cluster, 'silhouette_score': silhouette_avg, 'labels': labels}, ignore_index=True)"
   ]
  },
  {
   "cell_type": "code",
   "execution_count": 133,
   "metadata": {
    "collapsed": false,
    "deletable": true,
    "editable": true
   },
   "outputs": [
    {
     "data": {
      "text/html": [
       "<div>\n",
       "<style>\n",
       "    .dataframe thead tr:only-child th {\n",
       "        text-align: right;\n",
       "    }\n",
       "\n",
       "    .dataframe thead th {\n",
       "        text-align: left;\n",
       "    }\n",
       "\n",
       "    .dataframe tbody tr th {\n",
       "        vertical-align: top;\n",
       "    }\n",
       "</style>\n",
       "<table border=\"1\" class=\"dataframe\">\n",
       "  <thead>\n",
       "    <tr style=\"text-align: right;\">\n",
       "      <th></th>\n",
       "      <th>clusters</th>\n",
       "      <th>silhouette_score</th>\n",
       "      <th>labels</th>\n",
       "    </tr>\n",
       "  </thead>\n",
       "  <tbody>\n",
       "    <tr>\n",
       "      <th>0</th>\n",
       "      <td>2</td>\n",
       "      <td>0.577424</td>\n",
       "      <td>[0, 0, 0, 1, 1, 1, 1, 1, 1, 0, 0, 0, 1, 0, 0, ...</td>\n",
       "    </tr>\n",
       "    <tr>\n",
       "      <th>3</th>\n",
       "      <td>5</td>\n",
       "      <td>0.531470</td>\n",
       "      <td>[1, 2, 4, 0, 3, 0, 3, 3, 0, 4, 4, 2, 3, 2, 4, ...</td>\n",
       "    </tr>\n",
       "    <tr>\n",
       "      <th>1</th>\n",
       "      <td>3</td>\n",
       "      <td>0.528492</td>\n",
       "      <td>[1, 2, 2, 0, 0, 2, 0, 0, 0, 1, 2, 2, 0, 2, 2, ...</td>\n",
       "    </tr>\n",
       "    <tr>\n",
       "      <th>2</th>\n",
       "      <td>4</td>\n",
       "      <td>0.519830</td>\n",
       "      <td>[2, 3, 0, 1, 1, 3, 1, 1, 1, 0, 0, 0, 1, 3, 0, ...</td>\n",
       "    </tr>\n",
       "    <tr>\n",
       "      <th>4</th>\n",
       "      <td>6</td>\n",
       "      <td>0.509647</td>\n",
       "      <td>[3, 0, 0, 2, 4, 5, 2, 4, 2, 1, 1, 0, 4, 0, 1, ...</td>\n",
       "    </tr>\n",
       "  </tbody>\n",
       "</table>\n",
       "</div>"
      ],
      "text/plain": [
       "  clusters  silhouette_score  \\\n",
       "0        2          0.577424   \n",
       "3        5          0.531470   \n",
       "1        3          0.528492   \n",
       "2        4          0.519830   \n",
       "4        6          0.509647   \n",
       "\n",
       "                                              labels  \n",
       "0  [0, 0, 0, 1, 1, 1, 1, 1, 1, 0, 0, 0, 1, 0, 0, ...  \n",
       "3  [1, 2, 4, 0, 3, 0, 3, 3, 0, 4, 4, 2, 3, 2, 4, ...  \n",
       "1  [1, 2, 2, 0, 0, 2, 0, 0, 0, 1, 2, 2, 0, 2, 2, ...  \n",
       "2  [2, 3, 0, 1, 1, 3, 1, 1, 1, 0, 0, 0, 1, 3, 0, ...  \n",
       "4  [3, 0, 0, 2, 4, 5, 2, 4, 2, 1, 1, 0, 4, 0, 1, ...  "
      ]
     },
     "execution_count": 133,
     "metadata": {},
     "output_type": "execute_result"
    }
   ],
   "source": [
    "score.sort_values(by='silhouette_score', ascending=False)"
   ]
  },
  {
   "cell_type": "markdown",
   "metadata": {
    "deletable": true,
    "editable": true
   },
   "source": [
    "**Best silhouette_score is for 2 clusters; the number is highest/closest to 1 out of all 5 scores. This means that each clusters has relatively less overlap than the other outcomes based on different number of clusters. Referring to the previous KMeans table (see below), with 2 clusters, cluster #1 has the higher average survival rate; see below for code ran with 2 cluster setting. **"
   ]
  },
  {
   "cell_type": "code",
   "execution_count": 254,
   "metadata": {
    "collapsed": true
   },
   "outputs": [],
   "source": [
    "tcc1 = tcc.copy()"
   ]
  },
  {
   "cell_type": "code",
   "execution_count": 262,
   "metadata": {
    "collapsed": true
   },
   "outputs": [],
   "source": [
    "# set parameters for cluster analysis\n",
    "kmeans2 = KMeans(n_clusters=2)\n",
    "y_kmeans2 = kmeans2.fit_predict(ptcc)"
   ]
  },
  {
   "cell_type": "code",
   "execution_count": 263,
   "metadata": {
    "collapsed": true
   },
   "outputs": [],
   "source": [
    "tcc1['cluster'] = y_kmeans2"
   ]
  },
  {
   "cell_type": "code",
   "execution_count": 264,
   "metadata": {
    "collapsed": false,
    "scrolled": true
   },
   "outputs": [
    {
     "data": {
      "text/html": [
       "<div>\n",
       "<style>\n",
       "    .dataframe thead tr:only-child th {\n",
       "        text-align: right;\n",
       "    }\n",
       "\n",
       "    .dataframe thead th {\n",
       "        text-align: left;\n",
       "    }\n",
       "\n",
       "    .dataframe tbody tr th {\n",
       "        vertical-align: top;\n",
       "    }\n",
       "</style>\n",
       "<table border=\"1\" class=\"dataframe\">\n",
       "  <thead>\n",
       "    <tr style=\"text-align: right;\">\n",
       "      <th></th>\n",
       "      <th>survived</th>\n",
       "      <th>pclass</th>\n",
       "      <th>sex</th>\n",
       "      <th>age</th>\n",
       "      <th>sibsp</th>\n",
       "      <th>parch</th>\n",
       "      <th>child</th>\n",
       "      <th>famsize</th>\n",
       "    </tr>\n",
       "    <tr>\n",
       "      <th>cluster</th>\n",
       "      <th></th>\n",
       "      <th></th>\n",
       "      <th></th>\n",
       "      <th></th>\n",
       "      <th></th>\n",
       "      <th></th>\n",
       "      <th></th>\n",
       "      <th></th>\n",
       "    </tr>\n",
       "  </thead>\n",
       "  <tbody>\n",
       "    <tr>\n",
       "      <th>0</th>\n",
       "      <td>0.196005</td>\n",
       "      <td>2.349563</td>\n",
       "      <td>1.000000</td>\n",
       "      <td>31.107748</td>\n",
       "      <td>0.243446</td>\n",
       "      <td>0.144819</td>\n",
       "      <td>1.000000</td>\n",
       "      <td>1.388265</td>\n",
       "    </tr>\n",
       "    <tr>\n",
       "      <th>1</th>\n",
       "      <td>0.675197</td>\n",
       "      <td>2.208661</td>\n",
       "      <td>0.082677</td>\n",
       "      <td>27.947045</td>\n",
       "      <td>0.901575</td>\n",
       "      <td>0.763780</td>\n",
       "      <td>0.082677</td>\n",
       "      <td>2.665354</td>\n",
       "    </tr>\n",
       "  </tbody>\n",
       "</table>\n",
       "</div>"
      ],
      "text/plain": [
       "         survived    pclass       sex        age     sibsp     parch  \\\n",
       "cluster                                                                \n",
       "0        0.196005  2.349563  1.000000  31.107748  0.243446  0.144819   \n",
       "1        0.675197  2.208661  0.082677  27.947045  0.901575  0.763780   \n",
       "\n",
       "            child   famsize  \n",
       "cluster                      \n",
       "0        1.000000  1.388265  \n",
       "1        0.082677  2.665354  "
      ]
     },
     "execution_count": 264,
     "metadata": {},
     "output_type": "execute_result"
    }
   ],
   "source": [
    "tcc1.groupby('cluster').mean()"
   ]
  },
  {
   "cell_type": "markdown",
   "metadata": {
    "deletable": true,
    "editable": true
   },
   "source": [
    "### Sources:\n",
    "https://www.youtube.com/watch?v=0GrciaGYzV0 - TITANIC RANDOM FOREST EXAMPLE EXAMPLE\n",
    "\n",
    "http://scikit-learn.org/stable/modules/generated/sklearn.preprocessing.scale.html - standardize dataset with sklearn\n",
    "\n",
    "http://pandas.pydata.org/pandas-docs/stable/ - Pandas documentation<br>\n",
    "\n",
    "Directions from TA of MSIS2802\n",
    "\n"
   ]
  }
 ],
 "metadata": {
  "kernelspec": {
   "display_name": "Python 3",
   "language": "python",
   "name": "python3"
  },
  "language_info": {
   "codemirror_mode": {
    "name": "ipython",
    "version": 3
   },
   "file_extension": ".py",
   "mimetype": "text/x-python",
   "name": "python",
   "nbconvert_exporter": "python",
   "pygments_lexer": "ipython3",
   "version": "3.5.2"
  },
  "toc": {
   "nav_menu": {},
   "number_sections": true,
   "sideBar": true,
   "skip_h1_title": false,
   "title_cell": "Table of Contents",
   "title_sidebar": "Contents",
   "toc_cell": false,
   "toc_position": {},
   "toc_section_display": true,
   "toc_window_display": false
  },
  "varInspector": {
   "cols": {
    "lenName": 16,
    "lenType": 16,
    "lenVar": 40
   },
   "kernels_config": {
    "python": {
     "delete_cmd_postfix": "",
     "delete_cmd_prefix": "del ",
     "library": "var_list.py",
     "varRefreshCmd": "print(var_dic_list())"
    },
    "r": {
     "delete_cmd_postfix": ") ",
     "delete_cmd_prefix": "rm(",
     "library": "var_list.r",
     "varRefreshCmd": "cat(var_dic_list()) "
    }
   },
   "types_to_exclude": [
    "module",
    "function",
    "builtin_function_or_method",
    "instance",
    "_Feature"
   ],
   "window_display": false
  }
 },
 "nbformat": 4,
 "nbformat_minor": 2
}
