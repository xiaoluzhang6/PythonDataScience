{
 "cells": [
  {
   "cell_type": "markdown",
   "metadata": {
    "ExecuteTime": {
     "end_time": "2018-01-23T04:31:51.255588Z",
     "start_time": "2018-01-23T04:31:51.252836Z"
    }
   },
   "source": [
    "# Homework 5 - Gender Differences in University Enrollment"
   ]
  },
  {
   "cell_type": "markdown",
   "metadata": {},
   "source": [
    "The objective of this homework is to practice visualizing data. To successfully complete this homework, you may use any resources available to you. \n",
    "\n",
    "Get the `universities.csv` data. This is data from the [National Center for Education Statistics](https://nces.ed.gov/ipeds/datacenter/DataFiles.aspx). Develop **three** plots:\n",
    "1. A boxplot of the average number of total enrollment for the states in the U.S. West\n",
    "    * The States in the U.S. West are\n",
    "        * Alaska\n",
    "        * Arizona\n",
    "        * California\n",
    "        * Colorado\n",
    "        * Hawaii\n",
    "        * Idaho\n",
    "        * Montana\n",
    "        * Nevada\n",
    "        * New Mexico\n",
    "        * Oregon\n",
    "        * Utah\n",
    "        * Washington\n",
    "        * Wyoming (see prepared list `uswest`)\n",
    "    * Order the plot based on the number of institutions in the state\n",
    "2. A boxplot of the average number of enrollment per gender category (hue) and state in the U.S. West\n",
    "    * Please notice that enrollment numbers for men and women are in two separate columns.\n",
    "    * Hue requires one column, which means you have to 'melt' the dataset ([Link](https://pandas.pydata.org/pandas-docs/stable/generated/pandas.melt.html)).\n",
    "    * The results should be a dataframe with two rows (one for men, one for women) for each university\n",
    "3. A ordered barplot of the ratio of admissions for men and women for universities in the Bay Area\n",
    "    * We assume that the Bay Area is characterized with zip codes that start with `950` and `94`\n",
    "    * Focus on institutions with more than 1,000 enrollments.\n",
    "    * Develop the ratio of admissions for women and for men. Standardize this ratio on the mean. \n",
    "4. Interpret you plots in terms of gender differences. \n",
    "\n",
    "Hints:\n",
    "* Make sure your plots are nicely formatted (including axes label).\n",
    "* Explain what you are doing.\n",
    "* Use references."
   ]
  },
  {
   "cell_type": "code",
   "execution_count": 1,
   "metadata": {
    "ExecuteTime": {
     "end_time": "2018-02-18T04:01:17.718069Z",
     "start_time": "2018-02-18T04:01:17.713798Z"
    }
   },
   "outputs": [],
   "source": [
    "from IPython.core.interactiveshell import InteractiveShell\n",
    "InteractiveShell.ast_node_interactivity = \"all\""
   ]
  },
  {
   "cell_type": "code",
   "execution_count": 339,
   "metadata": {
    "ExecuteTime": {
     "end_time": "2018-02-20T07:14:06.567770Z",
     "start_time": "2018-02-20T07:14:06.562820Z"
    }
   },
   "outputs": [],
   "source": [
    "import warnings\n",
    "warnings.filterwarnings('ignore')"
   ]
  },
  {
   "cell_type": "code",
   "execution_count": 408,
   "metadata": {
    "ExecuteTime": {
     "end_time": "2018-02-20T08:02:01.609799Z",
     "start_time": "2018-02-20T08:02:01.593147Z"
    }
   },
   "outputs": [],
   "source": [
    "import numpy as np\n",
    "import pandas as pd\n",
    "import matplotlib.pyplot as plt\n",
    "%matplotlib inline"
   ]
  },
  {
   "cell_type": "code",
   "execution_count": 165,
   "metadata": {
    "ExecuteTime": {
     "end_time": "2018-02-18T09:00:22.214714Z",
     "start_time": "2018-02-18T09:00:22.209556Z"
    }
   },
   "outputs": [],
   "source": [
    "import seaborn as sns"
   ]
  },
  {
   "cell_type": "code",
   "execution_count": 12,
   "metadata": {
    "ExecuteTime": {
     "end_time": "2018-02-18T04:29:41.802736Z",
     "start_time": "2018-02-18T04:29:41.431495Z"
    }
   },
   "outputs": [],
   "source": [
    "c = students = pd.read_csv('https://raw.githubusercontent.com/mschermann/msis2802winter2018homework/master/\\\n",
    "universities.csv')"
   ]
  },
  {
   "cell_type": "code",
   "execution_count": 13,
   "metadata": {
    "ExecuteTime": {
     "end_time": "2018-02-18T04:29:42.789982Z",
     "start_time": "2018-02-18T04:29:42.782555Z"
    }
   },
   "outputs": [],
   "source": [
    "uswest = ['AK','AZ','CA', 'CO', 'HI', 'ID', 'MT', 'NV', 'NM', 'OR', 'UT', 'WA', 'WY']"
   ]
  },
  {
   "cell_type": "markdown",
   "metadata": {},
   "source": [
    "### 1) A boxplot of the average number of total enrollment for the states in the U.S. West<br><br>\n",
    "**'west' is a series with just the 'uswest' states from above. First, groupby states and find the enrollment mean for those states. Then, create a new column to count number of institutions in that state. Finally, sort data by the count.**"
   ]
  },
  {
   "cell_type": "code",
   "execution_count": 487,
   "metadata": {
    "ExecuteTime": {
     "end_time": "2018-02-20T09:12:49.555783Z",
     "start_time": "2018-02-20T09:12:49.539215Z"
    },
    "scrolled": true
   },
   "outputs": [],
   "source": [
    "west = students[students['STABBR'].isin(uswest)].groupby(['STABBR','UNITID'])['ENRLT'].mean()"
   ]
  },
  {
   "cell_type": "code",
   "execution_count": 488,
   "metadata": {
    "ExecuteTime": {
     "end_time": "2018-02-20T09:12:51.083245Z",
     "start_time": "2018-02-20T09:12:51.075947Z"
    }
   },
   "outputs": [],
   "source": [
    "dfwest = pd.DataFrame(west)"
   ]
  },
  {
   "cell_type": "code",
   "execution_count": 489,
   "metadata": {
    "ExecuteTime": {
     "end_time": "2018-02-20T09:12:52.507377Z",
     "start_time": "2018-02-20T09:12:52.497327Z"
    }
   },
   "outputs": [],
   "source": [
    "dfwest.reset_index(inplace=True)\n"
   ]
  },
  {
   "cell_type": "code",
   "execution_count": 490,
   "metadata": {
    "ExecuteTime": {
     "end_time": "2018-02-20T09:12:59.479763Z",
     "start_time": "2018-02-20T09:12:59.472286Z"
    }
   },
   "outputs": [
    {
     "data": {
      "text/plain": [
       "Index(['STABBR', 'UNITID', 'ENRLT'], dtype='object')"
      ]
     },
     "execution_count": 490,
     "metadata": {},
     "output_type": "execute_result"
    }
   ],
   "source": [
    "dfwest.columns"
   ]
  },
  {
   "cell_type": "code",
   "execution_count": 482,
   "metadata": {
    "ExecuteTime": {
     "end_time": "2018-02-20T09:12:18.057510Z",
     "start_time": "2018-02-20T09:12:18.036356Z"
    }
   },
   "outputs": [],
   "source": [
    "dfwest['count'] = dfwest.groupby('STABBR')['STABBR'].transform(pd.Series.value_counts)"
   ]
  },
  {
   "cell_type": "code",
   "execution_count": 483,
   "metadata": {
    "ExecuteTime": {
     "end_time": "2018-02-20T09:12:20.512452Z",
     "start_time": "2018-02-20T09:12:20.505627Z"
    }
   },
   "outputs": [],
   "source": [
    "dfwest1 = dfwest.sort_values(by='count', ascending=False)"
   ]
  },
  {
   "cell_type": "code",
   "execution_count": 484,
   "metadata": {
    "ExecuteTime": {
     "end_time": "2018-02-20T09:12:22.525131Z",
     "start_time": "2018-02-20T09:12:22.045237Z"
    }
   },
   "outputs": [
    {
     "data": {
      "text/plain": [
       "[Text(0,0.5,'Enrollment'), Text(0.5,0,'States')]"
      ]
     },
     "execution_count": 484,
     "metadata": {},
     "output_type": "execute_result"
    },
    {
     "data": {
      "text/plain": [
       "Text(0.5,1,'Avg Total Enrollments in Western States')"
      ]
     },
     "execution_count": 484,
     "metadata": {},
     "output_type": "execute_result"
    },
    {
     "data": {
      "text/plain": [
       "<matplotlib.figure.Figure at 0x7f29a8d67eb8>"
      ]
     },
     "execution_count": 484,
     "metadata": {},
     "output_type": "execute_result"
    },
    {
     "data": {
      "image/png": "[encoded data removed]",
      "text/plain": [
       "<matplotlib.figure.Figure at 0x7f29a8d67390>"
      ]
     },
     "metadata": {},
     "output_type": "display_data"
    },
    {
     "data": {
      "text/plain": [
       "<matplotlib.figure.Figure at 0x7f29a8d67eb8>"
      ]
     },
     "metadata": {},
     "output_type": "display_data"
    }
   ],
   "source": [
    "st = sns.boxplot( x='STABBR',y= 'ENRLT', data=dfwest1)\n",
    "st.set(xlabel='States', ylabel='Enrollment')\n",
    "st.set_title('Avg Total Enrollments in Western States')\n",
    "plt.figure(figsize=(60,20))"
   ]
  },
  {
   "cell_type": "markdown",
   "metadata": {},
   "source": [
    "**This plot is generated with all NaN values in place, which could distort the data quiet alot when mean is calculated. See below for plot with all NaN values removed**"
   ]
  },
  {
   "cell_type": "code",
   "execution_count": 493,
   "metadata": {
    "ExecuteTime": {
     "end_time": "2018-02-20T09:13:51.892396Z",
     "start_time": "2018-02-20T09:13:51.884848Z"
    }
   },
   "outputs": [],
   "source": [
    "# This is data with NaN values dropped\n",
    "dfwestN = dfwest[np.isfinite(dfwest['ENRLT'])]"
   ]
  },
  {
   "cell_type": "code",
   "execution_count": 494,
   "metadata": {
    "ExecuteTime": {
     "end_time": "2018-02-20T09:14:30.534937Z",
     "start_time": "2018-02-20T09:14:29.852090Z"
    }
   },
   "outputs": [],
   "source": [
    "dfwestN['count'] = dfwestN.groupby('STABBR')['STABBR'].transform(pd.Series.value_counts)"
   ]
  },
  {
   "cell_type": "code",
   "execution_count": 497,
   "metadata": {
    "ExecuteTime": {
     "end_time": "2018-02-20T09:15:36.831891Z",
     "start_time": "2018-02-20T09:15:36.824749Z"
    }
   },
   "outputs": [],
   "source": [
    "dfwestN1 = dfwestN.sort_values(by='count', ascending=False)"
   ]
  },
  {
   "cell_type": "code",
   "execution_count": 498,
   "metadata": {
    "ExecuteTime": {
     "end_time": "2018-02-20T09:15:41.604900Z",
     "start_time": "2018-02-20T09:15:41.119661Z"
    }
   },
   "outputs": [
    {
     "data": {
      "text/plain": [
       "[Text(0,0.5,'Enrollment'), Text(0.5,0,'States')]"
      ]
     },
     "execution_count": 498,
     "metadata": {},
     "output_type": "execute_result"
    },
    {
     "data": {
      "text/plain": [
       "Text(0.5,1,'Avg Total Enrollments in Western States')"
      ]
     },
     "execution_count": 498,
     "metadata": {},
     "output_type": "execute_result"
    },
    {
     "data": {
      "text/plain": [
       "<matplotlib.figure.Figure at 0x7f29a8ed7630>"
      ]
     },
     "execution_count": 498,
     "metadata": {},
     "output_type": "execute_result"
    },
    {
     "data": {
      "image/png": "[encoded data removed]",
      "text/plain": [
       "<matplotlib.figure.Figure at 0x7f29a8e097f0>"
      ]
     },
     "metadata": {},
     "output_type": "display_data"
    },
    {
     "data": {
      "text/plain": [
       "<matplotlib.figure.Figure at 0x7f29a8ed7630>"
      ]
     },
     "metadata": {},
     "output_type": "display_data"
    }
   ],
   "source": [
    "st = sns.boxplot( x='STABBR',y= 'ENRLT', data=dfwestN1)\n",
    "st.set(xlabel='States', ylabel='Enrollment')\n",
    "st.set_title('Avg Total Enrollments in Western States')\n",
    "plt.figure(figsize=(60,20))"
   ]
  },
  {
   "cell_type": "markdown",
   "metadata": {},
   "source": [
    "**There is a significant numbers of outliers for states with alot of universities(most significantly California), which is not suprising, as the enrollment rates for schools will vary due to capacity. This could also explain the various medians for each school; larger schools gets more enrollments which offsets the smaller institutions with very few enrollments**<br><br>\n",
    "\n",
    "**It needs to be noted that alot of schools did not have enrollment data available, thus States such as Utah or Arizona changed rank after NaN values were droped. Enrollment numbers might also have something to do with area size of the State (more open space = bigger schools).**"
   ]
  },
  {
   "cell_type": "markdown",
   "metadata": {},
   "source": [
    "### 2) A boxplot of the average number of enrollment per gender category (hue) and state in the U.S. West<br><br>\n",
    "**To plot the enrollment numbers for different genders, we melt the data to create new columns (or to pivot) for the genders and enrollments for the gender.**"
   ]
  },
  {
   "cell_type": "code",
   "execution_count": 451,
   "metadata": {
    "ExecuteTime": {
     "end_time": "2018-02-20T08:51:46.215712Z",
     "start_time": "2018-02-20T08:51:46.201810Z"
    }
   },
   "outputs": [],
   "source": [
    "melted = pd.melt(west3, id_vars=['INSTNM','STABBR'], var_name='GENDER',value_name='GENDER_ENRLMT')"
   ]
  },
  {
   "cell_type": "code",
   "execution_count": 452,
   "metadata": {
    "ExecuteTime": {
     "end_time": "2018-02-20T08:51:47.656066Z",
     "start_time": "2018-02-20T08:51:47.643959Z"
    }
   },
   "outputs": [],
   "source": [
    "# Find mean of enrollment according to gender\n",
    "genMean = melted.groupby(['STABBR','GENDER','INSTNM'])['GENDER_ENRLMT'].mean()"
   ]
  },
  {
   "cell_type": "code",
   "execution_count": 460,
   "metadata": {
    "ExecuteTime": {
     "end_time": "2018-02-20T08:53:27.781548Z",
     "start_time": "2018-02-20T08:53:27.776132Z"
    },
    "scrolled": true
   },
   "outputs": [],
   "source": [
    "# Turn series into dataframe in order to plot\n",
    "dfgen = pd.DataFrame(genMean)"
   ]
  },
  {
   "cell_type": "code",
   "execution_count": 463,
   "metadata": {
    "ExecuteTime": {
     "end_time": "2018-02-20T08:54:49.654280Z",
     "start_time": "2018-02-20T08:54:49.642140Z"
    }
   },
   "outputs": [],
   "source": [
    "# Rename columns\n",
    "dfgen.reset_index(inplace=True)\n",
    "dfgen.columns = ['State','Gender','Institution','Gender Enrollment']"
   ]
  },
  {
   "cell_type": "code",
   "execution_count": 470,
   "metadata": {
    "ExecuteTime": {
     "end_time": "2018-02-20T08:56:06.359141Z",
     "start_time": "2018-02-20T08:56:05.597786Z"
    }
   },
   "outputs": [
    {
     "data": {
      "text/plain": [
       "[Text(0,0.5,'Enrollment'), Text(0.5,0,'States')]"
      ]
     },
     "execution_count": 470,
     "metadata": {},
     "output_type": "execute_result"
    },
    {
     "data": {
      "text/plain": [
       "Text(0.5,1,'Avg Enrollments per Gender in Western States')"
      ]
     },
     "execution_count": 470,
     "metadata": {},
     "output_type": "execute_result"
    },
    {
     "data": {
      "image/png": "[encoded data removed]",
      "text/plain": [
       "<matplotlib.figure.Figure at 0x7f29adced470>"
      ]
     },
     "metadata": {},
     "output_type": "display_data"
    }
   ],
   "source": [
    "genderplot = sns.boxplot(x=\"State\", y=\"Gender Enrollment\", hue=\"Gender\",\n",
    "                 data=dfgen, palette=\"Set2\")\n",
    "genderplot.set(xlabel='States', ylabel='Enrollment')\n",
    "genderplot.set_title('Avg Enrollments per Gender in Western States')\n",
    "\n"
   ]
  },
  {
   "cell_type": "markdown",
   "metadata": {},
   "source": [
    "**Just looking at the trend in enrollment based on gender, we can see that overall, gender is quiet balanced, in exception to states such as Hawaii, Nevada, or Oregan. It is suprising to see more women are enrolled in Universities as opposed to older generations of Americans. The largest gender disparities could be seen in states such as California and Hawaii, but this could also be due to data distortion; there are alot of universities in California whereas there is very few in Hawaii.**"
   ]
  },
  {
   "cell_type": "markdown",
   "metadata": {},
   "source": [
    "### 3) A ordered barplot of the ratio of admissions for men and women for universities in the Bay Area<BR>\n",
    "We assume that the Bay Area is characterized with zip codes that start with 950 and 94<br>\n",
    "Focus on institutions with more than 1,000 enrollments.<br>\n",
    "Develop the ratio of admissions for women and for men. Standardize this ratio on the mean.<br><br>\n",
    "\n",
    "**First, we find the admissions ratio of women and men for each school and fill these into two new columns. Then, we find the overall mean of admission ratio for both genders in all schools of the bay area. Finally, we normalize the mean admission ratio for both genders and for each school by dividing the origial ratio by the computed overall mean admission ratio; these will be put into two new columns. In total, we should have 4 new columns, two for original admission ratio of both genders and two for normalized admission ratio.**"
   ]
  },
  {
   "cell_type": "code",
   "execution_count": 348,
   "metadata": {
    "ExecuteTime": {
     "end_time": "2018-02-20T07:21:17.743577Z",
     "start_time": "2018-02-20T07:21:17.730169Z"
    }
   },
   "outputs": [],
   "source": [
    "# filter to get data for Bay Area\n",
    "bay = students[(students['ZIP'].str.startswith('950'))|(students['ZIP'].str.startswith('94'))& (students['ENRLT']>1000)]"
   ]
  },
  {
   "cell_type": "code",
   "execution_count": 357,
   "metadata": {
    "ExecuteTime": {
     "end_time": "2018-02-20T07:29:11.941107Z",
     "start_time": "2018-02-20T07:29:10.443962Z"
    }
   },
   "outputs": [],
   "source": [
    "# Find admission ratio\n",
    "bay['Total Admission'] = bay['ADMSSNW']+bay['ADMSSNM']\n",
    "bay['Female Admission Ratio'] = bay['ADMSSNW']/bay['Total Admission']\n",
    "bay['Male Admission Ratio'] = bay['ADMSSNM']/bay['Total Admission']"
   ]
  },
  {
   "cell_type": "markdown",
   "metadata": {},
   "source": [
    "**The resulting dataframe contains some schools with NaN values for enrollment ; we will filter those out as well.**"
   ]
  },
  {
   "cell_type": "code",
   "execution_count": 358,
   "metadata": {
    "ExecuteTime": {
     "end_time": "2018-02-20T07:29:13.645341Z",
     "start_time": "2018-02-20T07:29:13.639494Z"
    }
   },
   "outputs": [],
   "source": [
    "bay1 = bay[np.isfinite(bay['ENRLT'])]"
   ]
  },
  {
   "cell_type": "code",
   "execution_count": 361,
   "metadata": {
    "ExecuteTime": {
     "end_time": "2018-02-20T07:31:41.113275Z",
     "start_time": "2018-02-20T07:31:41.104796Z"
    }
   },
   "outputs": [],
   "source": [
    "# find overall mean of each gender for all schools in the Bay Area\n",
    "f_ratiomean = bay1['Female Admission Ratio'].mean()\n",
    "m_ratiomean = bay1['Male Admission Ratio'].mean()"
   ]
  },
  {
   "cell_type": "code",
   "execution_count": 382,
   "metadata": {
    "ExecuteTime": {
     "end_time": "2018-02-20T07:46:55.350242Z",
     "start_time": "2018-02-20T07:46:54.309517Z"
    }
   },
   "outputs": [],
   "source": [
     "# Normalize gender ratios based on mean\n",
    "bay1['Female Ratio'] = bay1['Female Admission Ratio']/f_ratiomean\n",
    "bay1['Male Ratio'] = bay1['Male Admission Ratio']/m_ratiomean\n",
    "bay2 = bay1[['INSTNM','Female Ratio','Male Ratio']]"
   ]
  },
  {
   "cell_type": "code",
   "execution_count": 466,
   "metadata": {
    "ExecuteTime": {
     "end_time": "2018-02-20T08:55:45.592897Z",
     "start_time": "2018-02-20T08:55:45.582568Z"
    }
   },
   "outputs": [],
   "source": [
    "# Melt the data & sort\n",
    "meltedgen = pd.melt(bay2, id_vars=['INSTNM'], var_name='Gender',value_name='Ratio')\n",
    "meltedSort = meltedgen.sort_values(by=['Gender','Ratio'],ascending=False)"
   ]
  },
  {
   "cell_type": "code",
   "execution_count": 467,
   "metadata": {
    "ExecuteTime": {
     "end_time": "2018-02-20T08:55:47.073304Z",
     "start_time": "2018-02-20T08:55:47.064100Z"
    }
   },
   "outputs": [],
   "source": [
    "# Reset index to solidify changes\n",
    "meltedSort.reset_index(inplace=True)"
   ]
  },
  {
   "cell_type": "code",
   "execution_count": 468,
   "metadata": {
    "ExecuteTime": {
     "end_time": "2018-02-20T08:55:48.783367Z",
     "start_time": "2018-02-20T08:55:48.281062Z"
    }
   },
   "outputs": [
    {
     "data": {
      "text/plain": [
       "[Text(0,0.5,'Admission Ratio'), Text(0.5,0,'School Name')]"
      ]
     },
     "execution_count": 468,
     "metadata": {},
     "output_type": "execute_result"
    },
    {
     "data": {
      "text/plain": [
       "Text(0.5,1,'Admission Ratio for Schools in the Bay Area')"
      ]
     },
     "execution_count": 468,
     "metadata": {},
     "output_type": "execute_result"
    },
    {
     "data": {
      "text/plain": [
       "[Text(0,0,'Stanford University'),\n",
       " Text(0,0,'University of California-Berkeley'),\n",
       " Text(0,0,'University of California-Santa Cruz'),\n",
       " Text(0,0,'Santa Clara University'),\n",
       " Text(0,0,'San Francisco State University'),\n",
       " Text(0,0,'California State University-East Bay'),\n",
       " Text(0,0,'Sonoma State University'),\n",
       " Text(0,0,'University of San Francisco')]"
      ]
     },
     "execution_count": 468,
     "metadata": {},
     "output_type": "execute_result"
    },
    {
     "data": {
      "text/plain": [
       "<matplotlib.figure.Figure at 0x7f29bacbd080>"
      ]
     },
     "execution_count": 468,
     "metadata": {},
     "output_type": "execute_result"
    },
    {
     "data": {
      "image/png": "[encoded data removed]",
      "text/plain": [
       "<matplotlib.figure.Figure at 0x7f29aae7e710>"
      ]
     },
     "metadata": {},
     "output_type": "display_data"
    },
    {
     "data": {
      "text/plain": [
       "<matplotlib.figure.Figure at 0x7f29bacbd080>"
      ]
     },
     "metadata": {},
     "output_type": "display_data"
    }
   ],
   "source": [
    "\n",
    "genratio = sns.barplot(x=\"INSTNM\", y=\"Ratio\", hue=\"Gender\",\n",
    "                 data= meltedSort, palette=\"Set2\")\n",
    "genratio.set(xlabel='School Name', ylabel='Admission Ratio')\n",
    "genratio.set_title('Admission Ratio for Schools in the Bay Area')\n",
    "\n",
    "labels = meltedSort.INSTNM.values[:]\n",
    "genratio.set_xticklabels(labels, rotation=80)\n",
    "\n",
    "plt.tight_layout()\n",
    "plt.figure(figsize=(60,20))\n"
   ]
  },
  {
   "cell_type": "markdown",
   "metadata": {},
   "source": [
    "**Ratios above 1.0 means that the admission rate is above average and vice versa. The gender disparity is the greatest in Schools such as Stanford and Berkeley; Santa Clara fits somewhere in the middle, with admission rate close to 1.0 for both genders. It would be interesting to do an additional study to examine the correlation between the types of programs offered by these schools; typically liberal arts type of programs might have more women than men, and the opposite is true for more technical programs. At a glance, this could explain the gender disparity between the schools on both ends of the plot.**"
   ]
  },
  {
   "cell_type": "markdown",
   "metadata": {},
   "source": [
    "### Sources:<br>\n",
    "https://stackoverflow.com/questions/30787391/sorting-entire-csv-by-frequency-of-occurence-in-one-column -sort by count<br>\n",
    "https://stackoverflow.com/questions/33165734/update-index-after-sorting-data-frame - reindex after sorting<br>\n",
    "https://stackoverflow.com/questions/31632637/label-axes-on-seaborn-barplot -label axis in seaboard<br>\n",
    "https://stackoverflow.com/questions/42406233/how-to-add-title-to-seaborn-boxplot -set title for chart in seaborn<br>\n",
    "https://stackoverflow.com/questions/45201514/edit-seaborn-legend -modify legend (didn’t use, for future ref)<br>\n",
    "https://pandas.pydata.org/pandas-docs/stable/generated/pandas.Series.str.startswith.html - string filter<br>\n",
    "https://stackoverflow.com/questions/13413590/how-to-drop-rows-of-pandas-dataframe-whose-value-in-certain-columns-is-nan -filter nan<br>\n",
    "https://stackoverflow.com/questions/23160730/plotting-formatting-seaborn-chart-from-pandas-dataframe - rotate axis<br>"
   ]
  }
 ],
 "metadata": {
  "kernelspec": {
   "display_name": "Python 3",
   "language": "python",
   "name": "python3"
  },
  "language_info": {
   "codemirror_mode": {
    "name": "ipython",
    "version": 3
   },
   "file_extension": ".py",
   "mimetype": "text/x-python",
   "name": "python",
   "nbconvert_exporter": "python",
   "pygments_lexer": "ipython3",
   "version": "3.6.4"
  },
  "toc": {
   "nav_menu": {},
   "number_sections": true,
   "sideBar": true,
   "skip_h1_title": false,
   "title_cell": "Table of Contents",
   "title_sidebar": "Contents",
   "toc_cell": false,
   "toc_position": {},
   "toc_section_display": "block",
   "toc_window_display": false
  },
  "varInspector": {
   "cols": {
    "lenName": 16,
    "lenType": 16,
    "lenVar": 40
   },
   "kernels_config": {
    "python": {
     "delete_cmd_postfix": "",
     "delete_cmd_prefix": "del ",
     "library": "var_list.py",
     "varRefreshCmd": "print(var_dic_list())"
    },
    "r": {
     "delete_cmd_postfix": ") ",
     "delete_cmd_prefix": "rm(",
     "library": "var_list.r",
     "varRefreshCmd": "cat(var_dic_list()) "
    }
   },
   "types_to_exclude": [
    "module",
    "function",
    "builtin_function_or_method",
    "instance",
    "_Feature"
   ],
   "window_display": false
  }
 },
 "nbformat": 4,
 "nbformat_minor": 2
}
