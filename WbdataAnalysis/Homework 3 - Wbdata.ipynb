{
 "cells": [
  {
   "cell_type": "markdown",
   "metadata": {
    "ExecuteTime": {
     "end_time": "2018-01-23T04:31:51.255588Z",
     "start_time": "2018-01-23T04:31:51.252836Z"
    }
   },
   "source": [
    "# Homework 3 - Immigration, the stock market, and GDP"
   ]
  },
  {
   "cell_type": "markdown",
   "metadata": {},
   "source": [
    "The objective of this homework is to practice working with Pandas Dataframes. To successfully complete this homework, you may use any resources available to you. \n",
    "\n",
    "Answer the following question: What has a higher correlation with the GDP in the US: stock market returns or immigration?\n",
    "\n",
    "You need to accomplish the following tasks:\n",
    "1. Install the [wbdata](http://wbdata.readthedocs.io/en/latest/) package for API access to Worldbank data.\n",
    "2. Explore the databases `Population estimates and projections`, `Global Financial Development`, and `World Development Indicators`.\n",
    "3. Get the data on `GDP per capita growth (annual %)` as a dataframe.\n",
    "4. Get the data on `Net immigration` as a dataframe (Make sure that you also have a percentage value for this). \n",
    "5. Get the data on `Stock market return (%, year-on-year)` as a dataframe.\n",
    "5. Explore the data and note the issues. \n",
    "5. Clean and combine the data.\n",
    "6. What is the correlation between the GDP and net immigration and stock market returns. "
   ]
  },
  {
   "cell_type": "code",
   "execution_count": 2,
   "metadata": {
    "ExecuteTime": {
     "end_time": "2018-01-28T22:38:25.376466Z",
     "start_time": "2018-01-28T22:38:25.369181Z"
    }
   },
   "outputs": [],
   "source": [
    "from IPython.core.interactiveshell import InteractiveShell\n",
    "InteractiveShell.ast_node_interactivity = \"all\""
   ]
  },
  {
   "cell_type": "code",
   "execution_count": 70,
   "metadata": {
    "ExecuteTime": {
     "end_time": "2018-01-30T00:20:25.251766Z",
     "start_time": "2018-01-30T00:20:25.242954Z"
    }
   },
   "outputs": [],
   "source": [
    "import wbdata\n",
    "import pandas as pd"
   ]
  },
  {
   "cell_type": "markdown",
   "metadata": {},
   "source": [
    "## 1)Check the database for available resources:<br>\n",
    "- we see that #40, 32, and 2 are the database needed"
   ]
  },
  {
   "cell_type": "code",
   "execution_count": 4,
   "metadata": {
    "ExecuteTime": {
     "end_time": "2018-01-27T00:17:47.837991Z",
     "start_time": "2018-01-27T00:17:47.359018Z"
    },
    "scrolled": true
   },
   "outputs": [
    {
     "name": "stdout",
     "output_type": "stream",
     "text": [
      "11\tAfrica Development Indicators\n",
      "36\tStatistical Capacity Indicators\n",
      "31\tCountry Policy and Institutional Assessment\n",
      "41\tCountry Partnership Strategy for India (FY2013 - 17)\n",
      "1 \tDoing Business\n",
      "30\tExporter Dynamics Database ��� Indicators at Country-Year Level\n",
      "12\tEducation Statistics\n",
      "13\tEnterprise Surveys\n",
      "28\tGlobal Financial Inclusion\n",
      "33\tG20 Financial Inclusion Indicators\n",
      "14\tGender Statistics\n",
      "15\tGlobal Economic Monitor\n",
      "27\tGlobal Economic Prospects\n",
      "32\tGlobal Financial Development\n",
      "21\tGlobal Economic Monitor Commodities\n",
      "55\tCommodity Prices- History and Projections\n",
      "34\tGlobal Partnership for Education\n",
      "29\tThe Atlas of Social Protection: Indicators of Resilience and Equity\n",
      "16\tHealth Nutrition and Population Statistics\n",
      "39\tHealth Nutrition and Population Statistics by Wealth Quintile\n",
      "40\tPopulation estimates and projections\n",
      "18\tIDA Results Measurement System\n",
      "45\tIndonesia Database for Policy and Economic Research\n",
      "6 \tInternational Debt Statistics\n",
      "54\tJoint External Debt Hub\n",
      "25\tJobs\n",
      "37\tLAC Equity Lab\n",
      "19\tMillennium Development Goals\n",
      "24\tPoverty and Equity\n",
      "20\tQuarterly Public Sector Debt\n",
      "23\tQuarterly External Debt Statistics GDDS\n",
      "22\tQuarterly External Debt Statistics SDDS\n",
      "44\tReadiness for Investment in Sustainable Energy\n",
      "46\tSustainable Development Goals \n",
      "35\tSustainable Energy for All\n",
      "5 \tSubnational Malnutrition Database\n",
      "38\tSubnational Poverty\n",
      "50\tSubnational Population\n",
      "58\tUniversal Health Coverage\n",
      "43\tWealth accounting\n",
      "57\tWDI Database Archives\n",
      "2 \tWorld Development Indicators\n",
      "3 \tWorldwide Governance Indicators\n"
     ]
    }
   ],
   "source": [
    "wbdata.get_source()"
   ]
  },
  {
   "cell_type": "markdown",
   "metadata": {},
   "source": [
    "## 2) Select data: <br>\n",
    "- we can then select the sources to find the code to the corresponding data we need to generate the dataframes."
   ]
  },
  {
   "cell_type": "code",
   "execution_count": 120,
   "metadata": {
    "ExecuteTime": {
     "end_time": "2018-01-30T21:57:18.002302Z",
     "start_time": "2018-01-30T21:57:17.990886Z"
    }
   },
   "outputs": [],
   "source": [
    "# wbdata.get_indicator(source=40)\n",
    "# wbdata.get_indicator(source=2)\n",
    "# wbdata.get_indicator(source=32)"
   ]
  },
  {
   "cell_type": "markdown",
   "metadata": {},
   "source": [
    "## 3) Generate Dataframes: <br>\n",
    " - We can now generate dataframes from the data selected; we can also set the country code to 'USA'.<br>\n",
    " - For the 'Net Immigrations' dataframe, we need an additional percentage column; this is calculated below using total population of the same year. "
   ]
  },
  {
   "cell_type": "code",
   "execution_count": 68,
   "metadata": {
    "ExecuteTime": {
     "end_time": "2018-01-30T00:16:15.361278Z",
     "start_time": "2018-01-30T00:16:15.345214Z"
    }
   },
   "outputs": [],
   "source": [
    "# Total population\n",
    "indicators = {\"SP.POP.TOTL\":\"Population estimates and projections\"}\n",
    "totalPop = wbdata.get_dataframe(indicators, country = 'USA')\n",
    "#totalPop"
   ]
  },
  {
   "cell_type": "code",
   "execution_count": 119,
   "metadata": {
    "ExecuteTime": {
     "end_time": "2018-01-30T19:37:11.275512Z",
     "start_time": "2018-01-30T19:37:11.252282Z"
    },
    "scrolled": true
   },
   "outputs": [
    {
     "data": {
      "text/plain": [
       "Population estimates and projections    47\n",
       "dtype: int64"
      ]
     },
     "execution_count": 119,
     "metadata": {},
     "output_type": "execute_result"
    }
   ],
   "source": [
    "# Net immigration\n",
    "indicators = {\"SM.POP.NETM\":\"Population estimates and projections\"}\n",
    "df1 = wbdata.get_dataframe(indicators,  country = 'USA')\n",
    "\n",
    "# check total NaN values in dataframe\n",
    "df1.isnull().sum()\n"
   ]
  },
  {
   "cell_type": "code",
   "execution_count": 121,
   "metadata": {
    "ExecuteTime": {
     "end_time": "2018-01-30T21:59:28.494394Z",
     "start_time": "2018-01-30T21:59:28.482823Z"
    }
   },
   "outputs": [],
   "source": [
    "joinPop = pd.merge(totalPop, df1, left_index=True, right_index=True)\n",
    "joinPop = joinPop.rename(columns={'Population estimates and projections_x': 'Total Population', 'Population estimates and projections_y': 'Net Immigration'})\n"
   ]
  },
  {
   "cell_type": "markdown",
   "metadata": {},
   "source": [
    "- A new column called 'Percent Value' is created by dividing values of the the columns 'Net Immigration' and 'Total Population'"
   ]
  },
  {
   "cell_type": "code",
   "execution_count": 122,
   "metadata": {
    "ExecuteTime": {
     "end_time": "2018-01-30T21:59:33.907804Z",
     "start_time": "2018-01-30T21:59:33.895783Z"
    }
   },
   "outputs": [],
   "source": [
    "joinPop['Percent Value'] = joinPop['Net Immigration'] / joinPop['Total Population']\n"
   ]
  },
  {
   "cell_type": "markdown",
   "metadata": {},
   "source": [
    "- All NaN values are dropped"
   ]
  },
  {
   "cell_type": "code",
   "execution_count": 96,
   "metadata": {
    "ExecuteTime": {
     "end_time": "2018-01-30T01:02:30.035866Z",
     "start_time": "2018-01-30T01:02:30.023103Z"
    }
   },
   "outputs": [],
   "source": [
    "df0 = joinPop.dropna()\n",
    "netImmigration = df0.drop('Total Population', axis=1)\n"
   ]
  },
  {
   "cell_type": "code",
   "execution_count": 150,
   "metadata": {
    "ExecuteTime": {
     "end_time": "2018-01-30T22:38:06.896758Z",
     "start_time": "2018-01-30T22:38:06.872356Z"
    }
   },
   "outputs": [
    {
     "data": {
      "text/plain": [
       "GDP per Capita Growth (annual %)    2\n",
       "dtype: int64"
      ]
     },
     "execution_count": 150,
     "metadata": {},
     "output_type": "execute_result"
    }
   ],
   "source": [
    "# GDP per capita growth (annual %)\n",
    "indicators = {\"NY.GDP.PCAP.KD.ZG\":\"World Development Indicators\"}\n",
    "gdpGrowth = wbdata.get_dataframe(indicators, country = 'USA')\n",
    "gdpGrowth = gdpGrowth.rename(columns={'World Development Indicators': 'GDP per Capita Growth (annual %)'})\n",
    "\n",
    "# check total NaN values in dataframe\n",
    "gdpGrowth.isnull().sum()"
   ]
  },
  {
   "cell_type": "code",
   "execution_count": 149,
   "metadata": {
    "ExecuteTime": {
     "end_time": "2018-01-30T22:37:58.899209Z",
     "start_time": "2018-01-30T22:37:58.865944Z"
    }
   },
   "outputs": [
    {
     "data": {
      "text/plain": [
       "Stock Market Return    1\n",
       "dtype: int64"
      ]
     },
     "execution_count": 149,
     "metadata": {},
     "output_type": "execute_result"
    }
   ],
   "source": [
    "# Stock Market Return (%, year on year)\n",
    "indicators = {\"GFDD.OM.02\":\"Global Financial Development\"}\n",
    "stockReturn = wbdata.get_dataframe(indicators, country = 'USA')\n",
    "stockReturn = stockReturn.rename(columns={'Global Financial Development': 'Stock Market Return'})\n",
    "\n",
    "# check total NaN values in dataframe\n",
    "stockReturn.isnull().sum()"
   ]
  },
  {
   "cell_type": "markdown",
   "metadata": {},
   "source": [
    "## 4) Cleaning up:<br>\n",
    "- As majority of NaN values exists in the Net Immigration dataframe, by dropping them from that dataframe and then joining the GDP and Stock Market dataframes to it, we are ignoring the years where there is no data for Immigration (since we are merging the dataframes on index, and in this case, its the date)"
   ]
  },
  {
   "cell_type": "markdown",
   "metadata": {},
   "source": [
    "- Here, we are merging the completed Net Immigration dataframe with the other two dataframes, GDP growth and Stock Market Return."
   ]
  },
  {
   "cell_type": "code",
   "execution_count": 140,
   "metadata": {
    "ExecuteTime": {
     "end_time": "2018-01-30T22:32:25.346423Z",
     "start_time": "2018-01-30T22:32:25.336178Z"
    }
   },
   "outputs": [],
   "source": [
    "merge1 = netImmigration.join(gdpGrowth)\n"
   ]
  },
  {
   "cell_type": "code",
   "execution_count": 145,
   "metadata": {
    "ExecuteTime": {
     "end_time": "2018-01-30T22:35:27.996356Z",
     "start_time": "2018-01-30T22:35:27.978059Z"
    }
   },
   "outputs": [],
   "source": [
    "merge2 = merge1.join(stockReturn)\n"
   ]
  },
  {
   "cell_type": "markdown",
   "metadata": {},
   "source": [
    "- Below is the combined dataframe. After dropping all NaN values (47 in Net Immigration, 1 in every other dataframe), we are left with the below data. There is a  5 year gap between each row; this is due to immigration data, where the data is collected over a five year period."
   ]
  },
  {
   "cell_type": "code",
   "execution_count": 146,
   "metadata": {
    "ExecuteTime": {
     "end_time": "2018-01-30T22:35:30.890816Z",
     "start_time": "2018-01-30T22:35:30.862359Z"
    }
   },
   "outputs": [
    {
     "data": {
      "text/html": [
       "<div>\n",
       "<style scoped>\n",
       "    .dataframe tbody tr th:only-of-type {\n",
       "        vertical-align: middle;\n",
       "    }\n",
       "\n",
       "    .dataframe tbody tr th {\n",
       "        vertical-align: top;\n",
       "    }\n",
       "\n",
       "    .dataframe thead th {\n",
       "        text-align: right;\n",
       "    }\n",
       "</style>\n",
       "<table border=\"1\" class=\"dataframe\">\n",
       "  <thead>\n",
       "    <tr style=\"text-align: right;\">\n",
       "      <th></th>\n",
       "      <th>Net Immigration</th>\n",
       "      <th>Percent Value</th>\n",
       "      <th>GDP per Capita Growth (annual %)</th>\n",
       "      <th>Stock Market Return</th>\n",
       "    </tr>\n",
       "    <tr>\n",
       "      <th>date</th>\n",
       "      <th></th>\n",
       "      <th></th>\n",
       "      <th></th>\n",
       "      <th></th>\n",
       "    </tr>\n",
       "  </thead>\n",
       "  <tbody>\n",
       "    <tr>\n",
       "      <th>2012</th>\n",
       "      <td>4500000.0</td>\n",
       "      <td>0.014331</td>\n",
       "      <td>1.463851</td>\n",
       "      <td>8.81</td>\n",
       "    </tr>\n",
       "    <tr>\n",
       "      <th>2007</th>\n",
       "      <td>5033689.0</td>\n",
       "      <td>0.016710</td>\n",
       "      <td>0.815188</td>\n",
       "      <td>12.72</td>\n",
       "    </tr>\n",
       "    <tr>\n",
       "      <th>2002</th>\n",
       "      <td>5206538.0</td>\n",
       "      <td>0.018102</td>\n",
       "      <td>0.846126</td>\n",
       "      <td>-16.77</td>\n",
       "    </tr>\n",
       "    <tr>\n",
       "      <th>1997</th>\n",
       "      <td>8612074.0</td>\n",
       "      <td>0.031586</td>\n",
       "      <td>3.236587</td>\n",
       "      <td>30.27</td>\n",
       "    </tr>\n",
       "    <tr>\n",
       "      <th>1992</th>\n",
       "      <td>4516808.0</td>\n",
       "      <td>0.017608</td>\n",
       "      <td>2.129114</td>\n",
       "      <td>10.52</td>\n",
       "    </tr>\n",
       "    <tr>\n",
       "      <th>1987</th>\n",
       "      <td>3428740.0</td>\n",
       "      <td>0.014151</td>\n",
       "      <td>2.541097</td>\n",
       "      <td>21.41</td>\n",
       "    </tr>\n",
       "    <tr>\n",
       "      <th>1982</th>\n",
       "      <td>3402260.0</td>\n",
       "      <td>0.014686</td>\n",
       "      <td>-2.841549</td>\n",
       "      <td>-6.51</td>\n",
       "    </tr>\n",
       "    <tr>\n",
       "      <th>1977</th>\n",
       "      <td>3926811.0</td>\n",
       "      <td>0.017830</td>\n",
       "      <td>3.561747</td>\n",
       "      <td>-3.78</td>\n",
       "    </tr>\n",
       "    <tr>\n",
       "      <th>1972</th>\n",
       "      <td>2940497.0</td>\n",
       "      <td>0.014009</td>\n",
       "      <td>4.142406</td>\n",
       "      <td>11.00</td>\n",
       "    </tr>\n",
       "    <tr>\n",
       "      <th>1967</th>\n",
       "      <td>1549465.0</td>\n",
       "      <td>0.007798</td>\n",
       "      <td>1.389951</td>\n",
       "      <td>7.96</td>\n",
       "    </tr>\n",
       "    <tr>\n",
       "      <th>1962</th>\n",
       "      <td>1829274.0</td>\n",
       "      <td>0.009806</td>\n",
       "      <td>4.480669</td>\n",
       "      <td>-5.96</td>\n",
       "    </tr>\n",
       "  </tbody>\n",
       "</table>\n",
       "</div>"
      ],
      "text/plain": [
       "      Net Immigration  Percent Value  GDP per Capita Growth (annual %)  \\\n",
       "date                                                                     \n",
       "2012        4500000.0       0.014331                          1.463851   \n",
       "2007        5033689.0       0.016710                          0.815188   \n",
       "2002        5206538.0       0.018102                          0.846126   \n",
       "1997        8612074.0       0.031586                          3.236587   \n",
       "1992        4516808.0       0.017608                          2.129114   \n",
       "1987        3428740.0       0.014151                          2.541097   \n",
       "1982        3402260.0       0.014686                         -2.841549   \n",
       "1977        3926811.0       0.017830                          3.561747   \n",
       "1972        2940497.0       0.014009                          4.142406   \n",
       "1967        1549465.0       0.007798                          1.389951   \n",
       "1962        1829274.0       0.009806                          4.480669   \n",
       "\n",
       "      Stock Market Return  \n",
       "date                       \n",
       "2012                 8.81  \n",
       "2007                12.72  \n",
       "2002               -16.77  \n",
       "1997                30.27  \n",
       "1992                10.52  \n",
       "1987                21.41  \n",
       "1982                -6.51  \n",
       "1977                -3.78  \n",
       "1972                11.00  \n",
       "1967                 7.96  \n",
       "1962                -5.96  "
      ]
     },
     "execution_count": 146,
     "metadata": {},
     "output_type": "execute_result"
    }
   ],
   "source": [
    "merge2"
   ]
  },
  {
   "cell_type": "code",
   "execution_count": null,
   "metadata": {},
   "outputs": [],
   "source": []
  },
  {
   "cell_type": "markdown",
   "metadata": {},
   "source": [
    "### Data Analysis:<br>\n",
    "- We first take a look at the max Stock Market Return value; this happend in 1997, the same year we had the max value for immigration. We can conclude that Stock Market Return is positively correlated to the immigration rate.<br><br>\n",
    "\n",
    "- The GDP per Capita Growth on the other hand, is negatively related to immigration and stock market return. We can see this by the Max and Min taken for each column; when GDP is at max, the resulting immigration and stock market return is on the lower end, closer to both column's min. values. Mean can also serve as a reference point here; when GDP is at max, both immigration and stock market return values are below their mean.\n"
   ]
  },
  {
   "cell_type": "code",
   "execution_count": 158,
   "metadata": {
    "ExecuteTime": {
     "end_time": "2018-01-30T23:42:31.783948Z",
     "start_time": "2018-01-30T23:42:31.766775Z"
    }
   },
   "outputs": [
    {
     "data": {
      "text/plain": [
       "Net Immigration                     8.612074e+06\n",
       "Percent Value                       3.158574e-02\n",
       "GDP per Capita Growth (annual %)    3.236587e+00\n",
       "Stock Market Return                 3.027000e+01\n",
       "Name: 1997, dtype: float64"
      ]
     },
     "execution_count": 158,
     "metadata": {},
     "output_type": "execute_result"
    }
   ],
   "source": [
    "# Return the row with max value for stock market\n",
    "merge2.loc[merge2[\"Stock Market Return\"].idxmax]"
   ]
  },
  {
   "cell_type": "code",
   "execution_count": 161,
   "metadata": {
    "ExecuteTime": {
     "end_time": "2018-01-30T23:53:41.152300Z",
     "start_time": "2018-01-30T23:53:41.129539Z"
    }
   },
   "outputs": [
    {
     "data": {
      "text/plain": [
       "Net Immigration                     1.829274e+06\n",
       "Percent Value                       9.806442e-03\n",
       "GDP per Capita Growth (annual %)    4.480669e+00\n",
       "Stock Market Return                -5.960000e+00\n",
       "Name: 1962, dtype: float64"
      ]
     },
     "execution_count": 161,
     "metadata": {},
     "output_type": "execute_result"
    }
   ],
   "source": [
    "# Return the row with max value for GDP\n",
    "merge2.loc[merge2['GDP per Capita Growth (annual %)'].idxmax]"
   ]
  },
  {
   "cell_type": "code",
   "execution_count": 165,
   "metadata": {
    "ExecuteTime": {
     "end_time": "2018-01-30T23:57:00.741159Z",
     "start_time": "2018-01-30T23:57:00.724182Z"
    }
   },
   "outputs": [
    {
     "data": {
      "text/plain": [
       "Net Immigration                     8.612074e+06\n",
       "Percent Value                       3.158574e-02\n",
       "GDP per Capita Growth (annual %)    3.236587e+00\n",
       "Stock Market Return                 3.027000e+01\n",
       "Name: 1997, dtype: float64"
      ]
     },
     "execution_count": 165,
     "metadata": {},
     "output_type": "execute_result"
    }
   ],
   "source": [
    "# Return the row with max value for immigration %\n",
    "merge2.loc[merge2['Percent Value'].idxmax]"
   ]
  },
  {
   "cell_type": "code",
   "execution_count": 167,
   "metadata": {
    "ExecuteTime": {
     "end_time": "2018-01-31T00:24:11.363122Z",
     "start_time": "2018-01-31T00:24:11.336250Z"
    }
   },
   "outputs": [
    {
     "data": {
      "text/plain": [
       "30.27"
      ]
     },
     "execution_count": 167,
     "metadata": {},
     "output_type": "execute_result"
    },
    {
     "data": {
      "text/plain": [
       "-16.77"
      ]
     },
     "execution_count": 167,
     "metadata": {},
     "output_type": "execute_result"
    },
    {
     "data": {
      "text/plain": [
       "6.333636363636364"
      ]
     },
     "execution_count": 167,
     "metadata": {},
     "output_type": "execute_result"
    }
   ],
   "source": [
    "merge2['Stock Market Return'].max()\n",
    "merge2['Stock Market Return'].min()\n",
    "merge2['Stock Market Return'].mean()"
   ]
  },
  {
   "cell_type": "code",
   "execution_count": 166,
   "metadata": {
    "ExecuteTime": {
     "end_time": "2018-01-31T00:23:56.880898Z",
     "start_time": "2018-01-31T00:23:56.821399Z"
    }
   },
   "outputs": [
    {
     "data": {
      "text/plain": [
       "0.03158574325984662"
      ]
     },
     "execution_count": 166,
     "metadata": {},
     "output_type": "execute_result"
    },
    {
     "data": {
      "text/plain": [
       "0.007797541165103265"
      ]
     },
     "execution_count": 166,
     "metadata": {},
     "output_type": "execute_result"
    },
    {
     "data": {
      "text/plain": [
       "0.016056212909710706"
      ]
     },
     "execution_count": 166,
     "metadata": {},
     "output_type": "execute_result"
    }
   ],
   "source": [
    "merge2['Percent Value'].max()\n",
    "merge2['Percent Value'].min()\n",
    "merge2['Percent Value'].mean()"
   ]
  },
  {
   "cell_type": "code",
   "execution_count": 168,
   "metadata": {
    "ExecuteTime": {
     "end_time": "2018-01-31T00:24:23.593813Z",
     "start_time": "2018-01-31T00:24:23.570156Z"
    }
   },
   "outputs": [
    {
     "data": {
      "text/plain": [
       "4.48066935423344"
      ]
     },
     "execution_count": 168,
     "metadata": {},
     "output_type": "execute_result"
    },
    {
     "data": {
      "text/plain": [
       "-2.84154866453498"
      ]
     },
     "execution_count": 168,
     "metadata": {},
     "output_type": "execute_result"
    },
    {
     "data": {
      "text/plain": [
       "1.9786534390025714"
      ]
     },
     "execution_count": 168,
     "metadata": {},
     "output_type": "execute_result"
    }
   ],
   "source": [
    "merge2['GDP per Capita Growth (annual %)'].max()\n",
    "merge2['GDP per Capita Growth (annual %)'].min()\n",
    "merge2['GDP per Capita Growth (annual %)'].mean()"
   ]
  },
  {
   "cell_type": "markdown",
   "metadata": {},
   "source": [
    "### Sources:<br>\n",
    "\n",
    "http://wbdata.readthedocs.io/en/latest/  -Wbdata documentation <br>\n",
    "\n",
    "https://stackoverflow.com/questions/40468069/python-pandas-merge-two-dataframes-by-index  - join on index <br>\n",
    "\n",
    "https://stackoverflow.com/questions/11346283/renaming-columns-in-pandas   -renaming columns <br>\n",
    "\n",
    "https://stackoverflow.com/questions/34023918/make-new-column-in-panda-dataframe-by-adding-values-from-other-columns/34023971  - create new column with values from existing columns <br>\n",
    "\n",
    "https://stackoverflow.com/questions/26266362/how-to-count-the-nan-values-in-the-column-in-panda-data-frame -count NaN values in columns <br>\n",
    "\n",
    "https://stackoverflow.com/questions/13413590/how-to-drop-rows-of-pandas-dataframe-whose-value-in-certain-columns-is-nan  - dropping Nan values (see middle page examples) <br>"
   ]
  }
 ],
 "metadata": {
  "kernelspec": {
   "display_name": "Python 3",
   "language": "python",
   "name": "python3"
  },
  "language_info": {
   "codemirror_mode": {
    "name": "ipython",
    "version": 3
   },
   "file_extension": ".py",
   "mimetype": "text/x-python",
   "name": "python",
   "nbconvert_exporter": "python",
   "pygments_lexer": "ipython3",
   "version": "3.6.4"
  },
  "toc": {
   "nav_menu": {},
   "number_sections": true,
   "sideBar": true,
   "skip_h1_title": false,
   "title_cell": "Table of Contents",
   "title_sidebar": "Contents",
   "toc_cell": false,
   "toc_position": {},
   "toc_section_display": "block",
   "toc_window_display": false
  },
  "varInspector": {
   "cols": {
    "lenName": 16,
    "lenType": 16,
    "lenVar": 40
   },
   "kernels_config": {
    "python": {
     "delete_cmd_postfix": "",
     "delete_cmd_prefix": "del ",
     "library": "var_list.py",
     "varRefreshCmd": "print(var_dic_list())"
    },
    "r": {
     "delete_cmd_postfix": ") ",
     "delete_cmd_prefix": "rm(",
     "library": "var_list.r",
     "varRefreshCmd": "cat(var_dic_list()) "
    }
   },
   "types_to_exclude": [
    "module",
    "function",
    "builtin_function_or_method",
    "instance",
    "_Feature"
   ],
   "window_display": false
  }
 },
 "nbformat": 4,
 "nbformat_minor": 2
}
