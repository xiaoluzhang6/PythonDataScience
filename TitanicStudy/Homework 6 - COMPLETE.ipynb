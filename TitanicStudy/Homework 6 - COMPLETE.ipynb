{
 "cells": [
  {
   "cell_type": "markdown",
   "metadata": {
    "deletable": true,
    "editable": true
   },
   "source": [
    "# Homework 6 - Women and children first?!"
   ]
  },
  {
   "cell_type": "markdown",
   "metadata": {
    "deletable": true,
    "editable": true
   },
   "source": [
    "The objective of this homework is to practice simple decision trees. To successfully complete this homework, you may use any resources available to you. \n",
    "\n",
    "Get the `titanic3.csv` data (Source: [Link](http://biostat.mc.vanderbilt.edu/wiki/pub/Main/DataSets/titanic3info.txt)).\n",
    "\n",
    "1. Analyze the data using pandas.\n",
    "    * Create a column that specifies whether the person is a child (age <= 10)\n",
    "    * Group the data by `sex`, `child`, `pclass` and interpret the survival rate.\n",
    "2. Develop a decision tree with depth of 1.\n",
    "    * Preprocess the `sex` column using LabelEncoder\n",
    "    * Develop the decision tree\n",
    "    * Visually reproduce the decision tree using a seaborn barchart.\n",
    "    * Use the t-test from scipy.stats to statistically reproduce the decision.\n",
    "    * Interpret the decision tree.\n",
    "3. Develop a decision tree with depth of 2.\n",
    "    * Develop the decision tree\n",
    "    * Visually reproduce the decision tree using seaborn barcharts (left side and right side)\n",
    "    * Use the ranksums test from scipy.stats to statistically reproduce the decisions.\n",
    "    * Interpret the decision tree. \n",
    "    \n",
    "Hints:\n",
    "* Explain what you are doing.\n",
    "* Use references."
   ]
  },
  {
   "cell_type": "code",
   "execution_count": 427,
   "metadata": {
    "ExecuteTime": {
     "end_time": "2018-02-26T05:06:28.024979Z",
     "start_time": "2018-02-26T05:06:27.764059Z"
    },
    "collapsed": true,
    "deletable": true,
    "editable": true
   },
   "outputs": [],
   "source": [
    "import numpy as np\n",
    "import pandas as pd\n",
    "import seaborn as sns"
   ]
  },
  {
   "cell_type": "code",
   "execution_count": 428,
   "metadata": {
    "ExecuteTime": {
     "end_time": "2018-02-26T05:06:28.651100Z",
     "start_time": "2018-02-26T05:06:28.629754Z"
    },
    "collapsed": true,
    "deletable": true,
    "editable": true
   },
   "outputs": [],
   "source": [
    "import sklearn as sk\n",
    "import sklearn.tree as tree\n",
    "import sklearn.preprocessing as pp\n",
    "import sklearn.metrics as sm\n",
    "from sklearn.tree import DecisionTreeClassifier"
   ]
  },
  {
   "cell_type": "code",
   "execution_count": 429,
   "metadata": {
    "ExecuteTime": {
     "end_time": "2018-02-26T05:06:31.127805Z",
     "start_time": "2018-02-26T05:06:31.117741Z"
    },
    "collapsed": true,
    "deletable": true,
    "editable": true
   },
   "outputs": [],
   "source": [
    "from IPython.core.interactiveshell import InteractiveShell\n",
    "InteractiveShell.ast_node_interactivity = \"all\""
   ]
  },
  {
   "cell_type": "code",
   "execution_count": 430,
   "metadata": {
    "collapsed": true,
    "deletable": true,
    "editable": true
   },
   "outputs": [],
   "source": [
    "import warnings\n",
    "warnings.filterwarnings('ignore')"
   ]
  },
  {
   "cell_type": "code",
   "execution_count": 431,
   "metadata": {
    "ExecuteTime": {
     "end_time": "2018-02-24T02:26:08.328105Z",
     "start_time": "2018-02-24T02:26:08.319183Z"
    },
    "collapsed": true,
    "deletable": true,
    "editable": true
   },
   "outputs": [],
   "source": [
    "%matplotlib inline"
   ]
  },
  {
   "cell_type": "code",
   "execution_count": 432,
   "metadata": {
    "ExecuteTime": {
     "end_time": "2018-02-24T02:26:09.849252Z",
     "start_time": "2018-02-24T02:26:09.522654Z"
    },
    "collapsed": true,
    "deletable": true,
    "editable": true
   },
   "outputs": [],
   "source": [
    "tc = pd.read_csv(\"https://raw.githubusercontent.com/mschermann/msis2802winter2018homework/master/\\\n",
    "titanic3.csv\")"
   ]
  },
  {
   "cell_type": "code",
   "execution_count": 433,
   "metadata": {
    "ExecuteTime": {
     "end_time": "2018-02-24T02:26:18.286365Z",
     "start_time": "2018-02-24T02:26:18.276769Z"
    },
    "collapsed": false,
    "deletable": true,
    "editable": true
   },
   "outputs": [
    {
     "data": {
      "text/plain": [
       "Index(['pclass', 'survived', 'name', 'sex', 'age', 'sibsp', 'parch', 'ticket',\n",
       "       'fare', 'cabin', 'embarked', 'boat', 'body', 'home.dest'],\n",
       "      dtype='object')"
      ]
     },
     "execution_count": 433,
     "metadata": {},
     "output_type": "execute_result"
    }
   ],
   "source": [
    "tc.columns"
   ]
  },
  {
   "cell_type": "markdown",
   "metadata": {
    "deletable": true,
    "editable": true
   },
   "source": [
    "## Description of the dataset\n",
    "\n",
    "Each row is a passenger on the Titanic. The columns report attributes for the passengers:\n",
    "\n",
    "| Column | Description | Relevant for this homework|\n",
    "|--------|-------------|--------|\n",
    "|`survived`|1 = survived, 0 = died | **X**|\n",
    "|`pclass`| 1 = first class, 2 = second class, 3 = third class |**X**|\n",
    "|`name`| Name of the passenger| |\n",
    "|`sex`| male or female|**X**|\n",
    "|`age`| age in years|**X**|\n",
    "|`sibsp`| The number of siblings or spouses that are also traveling on the Titanic| |\n",
    "|`parch`| The number of parents or childen that are also traveling on the Titanic| |\n",
    "|`ticket`|The ticket number| |\n",
    "|`fare`| The ticket price | |\n",
    "|`cabin`| The cabin number | |\n",
    "|`embarked`| The starting city | |\n",
    "|`boat`| The emergency boat number | |\n",
    "|`body`| The identification number of the body | |\n",
    "|`home.dest`| The destination of the passenger | |"
   ]
  },
  {
   "cell_type": "markdown",
   "metadata": {
    "ExecuteTime": {
     "end_time": "2018-02-13T19:56:42.551866Z",
     "start_time": "2018-02-13T19:56:42.546282Z"
    },
    "deletable": true,
    "editable": true
   },
   "source": [
    "## Women and children first?"
   ]
  },
  {
   "cell_type": "markdown",
   "metadata": {
    "ExecuteTime": {
     "end_time": "2018-02-13T21:57:06.601910Z",
     "start_time": "2018-02-13T21:57:06.595430Z"
    },
    "deletable": true,
    "editable": true
   },
   "source": [
    "### Create a column that specifies whether the person is a child (10 years or younger)\n"
   ]
  },
  {
   "cell_type": "code",
   "execution_count": 434,
   "metadata": {
    "collapsed": false,
    "deletable": true,
    "editable": true
   },
   "outputs": [],
   "source": [
    "tc1 = tc.copy()"
   ]
  },
  {
   "cell_type": "code",
   "execution_count": 435,
   "metadata": {
    "collapsed": true,
    "deletable": true,
    "editable": true
   },
   "outputs": [],
   "source": [
    "# create function to code child column;\n",
    "# those below age 10 is equal to 1.0 and is a child\n",
    "\n",
    "def child(x):\n",
    "    if x <= 10.0000:\n",
    "        return 1.0\n",
    "    else:\n",
    "        return 0.0"
   ]
  },
  {
   "cell_type": "code",
   "execution_count": 436,
   "metadata": {
    "collapsed": false,
    "deletable": true,
    "editable": true
   },
   "outputs": [],
   "source": [
    "# apply to age column and find those who are children\n",
    "tc1['child'] = tc1['age'].apply(lambda x:child(x))"
   ]
  },
  {
   "cell_type": "markdown",
   "metadata": {
    "deletable": true,
    "editable": true
   },
   "source": [
    "### Group the data by `sex`, `child`, `pclass` and interpret the survival rate."
   ]
  },
  {
   "cell_type": "code",
   "execution_count": 437,
   "metadata": {
    "collapsed": false,
    "deletable": true,
    "editable": true
   },
   "outputs": [
    {
     "data": {
      "text/plain": [
       "sex     child  pclass\n",
       "female  0.0    1.0       0.972028\n",
       "               2.0       0.873684\n",
       "               3.0       0.491979\n",
       "        1.0    1.0       0.000000\n",
       "               2.0       1.000000\n",
       "               3.0       0.482759\n",
       "male    0.0    1.0       0.329545\n",
       "               2.0       0.087500\n",
       "               3.0       0.138528\n",
       "        1.0    1.0       1.000000\n",
       "               2.0       1.000000\n",
       "               3.0       0.354839\n",
       "Name: survived, dtype: float64"
      ]
     },
     "execution_count": 437,
     "metadata": {},
     "output_type": "execute_result"
    }
   ],
   "source": [
    "tc1.groupby(['sex','child','pclass'])['survived'].mean()"
   ]
  },
  {
   "cell_type": "markdown",
   "metadata": {
    "ExecuteTime": {
     "end_time": "2018-02-13T21:58:44.757490Z",
     "start_time": "2018-02-13T21:58:44.747773Z"
    },
    "deletable": true,
    "editable": true
   },
   "source": [
    "## Decision Tree with depth of 1"
   ]
  },
  {
   "cell_type": "markdown",
   "metadata": {
    "deletable": true,
    "editable": true
   },
   "source": [
    "### Restrict your analysis on the relevant columns (check table above)."
   ]
  },
  {
   "cell_type": "code",
   "execution_count": 438,
   "metadata": {
    "collapsed": false,
    "deletable": true,
    "editable": true
   },
   "outputs": [],
   "source": [
    "tc2 = tc1[['survived','pclass','sex','age','child']]"
   ]
  },
  {
   "cell_type": "markdown",
   "metadata": {
    "deletable": true,
    "editable": true
   },
   "source": [
    "### Preprocess the `sex` column<br>\n",
    "- recode the 'sex' column into numeric codes"
   ]
  },
  {
   "cell_type": "code",
   "execution_count": 439,
   "metadata": {
    "collapsed": false,
    "deletable": true,
    "editable": true
   },
   "outputs": [],
   "source": [
    "# drop NaN values\n",
    "tcc = tc2.dropna()"
   ]
  },
  {
   "cell_type": "code",
   "execution_count": 440,
   "metadata": {
    "collapsed": false,
    "deletable": true,
    "editable": true
   },
   "outputs": [],
   "source": [
    "import sklearn.preprocessing as pp\n",
    "le = pp.LabelEncoder()\n",
    "tcc['sex'] = le.fit_transform(tcc['sex'].astype(str))"
   ]
  },
  {
   "cell_type": "markdown",
   "metadata": {
    "ExecuteTime": {
     "end_time": "2018-02-13T22:00:07.023548Z",
     "start_time": "2018-02-13T22:00:07.018363Z"
    },
    "deletable": true,
    "editable": true
   },
   "source": [
    "### Clean the dataset<br>\n",
    "- here we set our 'X', or past events thats used to predict 'y'<br>\n",
    "- it is basically everything but 'y' we have stated above, so we drop it to get 'X'"
   ]
  },
  {
   "cell_type": "raw",
   "metadata": {
    "collapsed": true,
    "deletable": true,
    "editable": true
   },
   "source": [
    "X = tcc.drop(['survived'],axis=1)\n"
   ]
  },
  {
   "cell_type": "code",
   "execution_count": 441,
   "metadata": {
    "collapsed": true
   },
   "outputs": [],
   "source": [
    "y = tcc['survived']"
   ]
  },
  {
   "cell_type": "markdown",
   "metadata": {
    "deletable": true,
    "editable": true
   },
   "source": [
    "### Build the decision tree"
   ]
  },
  {
   "cell_type": "markdown",
   "metadata": {
    "deletable": true,
    "editable": true
   },
   "source": [
    "**Build** and **visualize** a decision tree with depth of 1 (i.e., one root and two leaf nodes) to find differences between passengers who survived and those who did not. "
   ]
  },
  {
   "cell_type": "code",
   "execution_count": 442,
   "metadata": {
    "collapsed": false,
    "deletable": true,
    "editable": true
   },
   "outputs": [],
   "source": [
    "dtc = DecisionTreeClassifier(max_depth=1).fit(X,y)"
   ]
  },
  {
   "cell_type": "code",
   "execution_count": 443,
   "metadata": {
    "ExecuteTime": {
     "end_time": "2018-02-13T22:28:28.050493Z",
     "start_time": "2018-02-13T22:28:27.962900Z"
    },
    "collapsed": false,
    "deletable": true,
    "editable": true
   },
   "outputs": [
    {
     "data": {
      "image/svg+xml": [
       "<?xml version=\"1.0\" encoding=\"UTF-8\" standalone=\"no\"?>\n",
       "<!DOCTYPE svg PUBLIC \"-//W3C//DTD SVG 1.1//EN\"\n",
       " \"http://www.w3.org/Graphics/SVG/1.1/DTD/svg11.dtd\">\n",
       "<!-- Generated by graphviz version 2.40.1 (20161225.0304)\n",
       " -->\n",
       "<!-- Title: Tree Pages: 1 -->\n",
       "<svg width=\"328pt\" height=\"186pt\"\n",
       " viewBox=\"0.00 0.00 328.05 186.00\" xmlns=\"http://www.w3.org/2000/svg\" xmlns:xlink=\"http://www.w3.org/1999/xlink\">\n",
       "<g id=\"graph0\" class=\"graph\" transform=\"scale(1 1) rotate(0) translate(4 182)\">\n",
       "<title>Tree</title>\n",
       "<polygon fill=\"#ffffff\" stroke=\"transparent\" points=\"-4,4 -4,-182 324.0508,-182 324.0508,4 -4,4\"/>\n",
       "<!-- 0 -->\n",
       "<g id=\"node1\" class=\"node\">\n",
       "<title>0</title>\n",
       "<path fill=\"#e58139\" fill-opacity=\"0.309804\" stroke=\"#000000\" d=\"M223.0762,-178C223.0762,-178 95.9746,-178 95.9746,-178 89.9746,-178 83.9746,-172 83.9746,-166 83.9746,-166 83.9746,-112 83.9746,-112 83.9746,-106 89.9746,-100 95.9746,-100 95.9746,-100 223.0762,-100 223.0762,-100 229.0762,-100 235.0762,-106 235.0762,-112 235.0762,-112 235.0762,-166 235.0762,-166 235.0762,-172 229.0762,-178 223.0762,-178\"/>\n",
       "<text text-anchor=\"start\" x=\"131.1699\" y=\"-162.8\" font-family=\"Helvetica,sans-Serif\" font-size=\"14.00\" fill=\"#000000\">sex ≤ 0.5</text>\n",
       "<text text-anchor=\"start\" x=\"123.1343\" y=\"-148.8\" font-family=\"Helvetica,sans-Serif\" font-size=\"14.00\" fill=\"#000000\">gini = 0.483</text>\n",
       "<text text-anchor=\"start\" x=\"101.7412\" y=\"-134.8\" font-family=\"Helvetica,sans-Serif\" font-size=\"14.00\" fill=\"#000000\">samples = 100.0%</text>\n",
       "<text text-anchor=\"start\" x=\"92\" y=\"-120.8\" font-family=\"Helvetica,sans-Serif\" font-size=\"14.00\" fill=\"#000000\">value = [0.592, 0.408]</text>\n",
       "<text text-anchor=\"start\" x=\"101.7515\" y=\"-106.8\" font-family=\"Helvetica,sans-Serif\" font-size=\"14.00\" fill=\"#000000\">class = not survive</text>\n",
       "</g>\n",
       "<!-- 1 -->\n",
       "<g id=\"node2\" class=\"node\">\n",
       "<title>1</title>\n",
       "<path fill=\"#399de5\" fill-opacity=\"0.670588\" stroke=\"#000000\" d=\"M139.0762,-64C139.0762,-64 11.9746,-64 11.9746,-64 5.9746,-64 -.0254,-58 -.0254,-52 -.0254,-52 -.0254,-12 -.0254,-12 -.0254,-6 5.9746,0 11.9746,0 11.9746,0 139.0762,0 139.0762,0 145.0762,0 151.0762,-6 151.0762,-12 151.0762,-12 151.0762,-52 151.0762,-52 151.0762,-58 145.0762,-64 139.0762,-64\"/>\n",
       "<text text-anchor=\"start\" x=\"39.1343\" y=\"-48.8\" font-family=\"Helvetica,sans-Serif\" font-size=\"14.00\" fill=\"#000000\">gini = 0.372</text>\n",
       "<text text-anchor=\"start\" x=\"21.6343\" y=\"-34.8\" font-family=\"Helvetica,sans-Serif\" font-size=\"14.00\" fill=\"#000000\">samples = 37.1%</text>\n",
       "<text text-anchor=\"start\" x=\"8\" y=\"-20.8\" font-family=\"Helvetica,sans-Serif\" font-size=\"14.00\" fill=\"#000000\">value = [0.247, 0.753]</text>\n",
       "<text text-anchor=\"start\" x=\"25.5342\" y=\"-6.8\" font-family=\"Helvetica,sans-Serif\" font-size=\"14.00\" fill=\"#000000\">class = survived</text>\n",
       "</g>\n",
       "<!-- 0&#45;&gt;1 -->\n",
       "<g id=\"edge1\" class=\"edge\">\n",
       "<title>0&#45;&gt;1</title>\n",
       "<path fill=\"none\" stroke=\"#000000\" d=\"M128.7239,-99.7647C121.6974,-90.8144 114.2199,-81.2894 107.1593,-72.2955\"/>\n",
       "<polygon fill=\"#000000\" stroke=\"#000000\" points=\"109.7452,-69.9214 100.8171,-64.2169 104.2391,-74.2439 109.7452,-69.9214\"/>\n",
       "<text text-anchor=\"middle\" x=\"97.8283\" y=\"-84.8376\" font-family=\"Helvetica,sans-Serif\" font-size=\"14.00\" fill=\"#000000\">True</text>\n",
       "</g>\n",
       "<!-- 2 -->\n",
       "<g id=\"node3\" class=\"node\">\n",
       "<title>2</title>\n",
       "<path fill=\"#e58139\" fill-opacity=\"0.741176\" stroke=\"#000000\" d=\"M308.0762,-64C308.0762,-64 180.9746,-64 180.9746,-64 174.9746,-64 168.9746,-58 168.9746,-52 168.9746,-52 168.9746,-12 168.9746,-12 168.9746,-6 174.9746,0 180.9746,0 180.9746,0 308.0762,0 308.0762,0 314.0762,0 320.0762,-6 320.0762,-12 320.0762,-12 320.0762,-52 320.0762,-52 320.0762,-58 314.0762,-64 308.0762,-64\"/>\n",
       "<text text-anchor=\"start\" x=\"208.1343\" y=\"-48.8\" font-family=\"Helvetica,sans-Serif\" font-size=\"14.00\" fill=\"#000000\">gini = 0.326</text>\n",
       "<text text-anchor=\"start\" x=\"190.6343\" y=\"-34.8\" font-family=\"Helvetica,sans-Serif\" font-size=\"14.00\" fill=\"#000000\">samples = 62.9%</text>\n",
       "<text text-anchor=\"start\" x=\"177\" y=\"-20.8\" font-family=\"Helvetica,sans-Serif\" font-size=\"14.00\" fill=\"#000000\">value = [0.795, 0.205]</text>\n",
       "<text text-anchor=\"start\" x=\"186.7515\" y=\"-6.8\" font-family=\"Helvetica,sans-Serif\" font-size=\"14.00\" fill=\"#000000\">class = not survive</text>\n",
       "</g>\n",
       "<!-- 0&#45;&gt;2 -->\n",
       "<g id=\"edge2\" class=\"edge\">\n",
       "<title>0&#45;&gt;2</title>\n",
       "<path fill=\"none\" stroke=\"#000000\" d=\"M190.6936,-99.7647C197.8037,-90.8144 205.3702,-81.2894 212.5149,-72.2955\"/>\n",
       "<polygon fill=\"#000000\" stroke=\"#000000\" points=\"215.4529,-74.224 218.9325,-64.2169 209.9718,-69.8699 215.4529,-74.224\"/>\n",
       "<text text-anchor=\"middle\" x=\"221.7785\" y=\"-84.8544\" font-family=\"Helvetica,sans-Serif\" font-size=\"14.00\" fill=\"#000000\">False</text>\n",
       "</g>\n",
       "</g>\n",
       "</svg>\n"
      ],
      "text/plain": [
       "<graphviz.files.Source at 0x125a869e8>"
      ]
     },
     "execution_count": 443,
     "metadata": {},
     "output_type": "execute_result"
    }
   ],
   "source": [
    "# Visualize our decision tree\n",
    "import graphviz\n",
    "dot_data = tree.export_graphviz(dtc, out_file=None, \n",
    "                         feature_names=list(X.columns),  \n",
    "                         class_names = ['survived' if i == 1 else 'not survive' for i in dtc.classes_] ,\n",
    "                         filled=True, rounded=True,  \n",
    "                         special_characters=True, \n",
    "                         proportion=True,\n",
    "                        )  \n",
    "graph = graphviz.Source(dot_data)  \n",
    "graph "
   ]
  },
  {
   "cell_type": "markdown",
   "metadata": {
    "deletable": true,
    "editable": true
   },
   "source": [
    "** 37.1% of the passengers were female and ended up at the left branch, and 62.9% were male and ended up on right branch. For female passengers (sex<=0.5), about 75% survived and 25% who didn't. We interpret this from the value=[0.247,0.753]. The first number is the % of y value (survived) is equal to 0(not survived) and the second number is % of y value equal to 1(survived). In this case, 75.3% of female passenger survived, while only 20.5% of male passenger survived. This is also shown visually by the seaborn plot below.**"
   ]
  },
  {
   "cell_type": "markdown",
   "metadata": {
    "ExecuteTime": {
     "end_time": "2018-02-13T22:04:37.179367Z",
     "start_time": "2018-02-13T22:04:37.172592Z"
    },
    "deletable": true,
    "editable": true
   },
   "source": [
    "### Visually reproduce the decision tree using a seaborn factorplot.\n"
   ]
  },
  {
   "cell_type": "code",
   "execution_count": 444,
   "metadata": {
    "collapsed": false,
    "deletable": true,
    "editable": true
   },
   "outputs": [
    {
     "data": {
      "text/plain": [
       "<seaborn.axisgrid.FacetGrid at 0x124b66b70>"
      ]
     },
     "execution_count": 444,
     "metadata": {},
     "output_type": "execute_result"
    },
    {
     "data": {
      "image/png": "[encoded data removed]",
      "text/plain": [
       "<matplotlib.figure.Figure at 0x1258aa128>"
      ]
     },
     "metadata": {},
     "output_type": "display_data"
    }
   ],
   "source": [
    "sns.factorplot(x='sex', y='survived', hue='sex', data=tc,kind = 'bar',)"
   ]
  },
  {
   "cell_type": "markdown",
   "metadata": {
    "ExecuteTime": {
     "end_time": "2018-02-13T22:05:16.232383Z",
     "start_time": "2018-02-13T22:05:16.227762Z"
    },
    "deletable": true,
    "editable": true
   },
   "source": [
    "### Use the t-test from `scipy.stats` to statistically reproduce the decision."
   ]
  },
  {
   "cell_type": "code",
   "execution_count": 445,
   "metadata": {
    "collapsed": false,
    "deletable": true,
    "editable": true
   },
   "outputs": [],
   "source": [
    "import scipy.stats as stats\n",
    "from scipy.stats import ttest_ind"
   ]
  },
  {
   "cell_type": "code",
   "execution_count": 446,
   "metadata": {
    "collapsed": false,
    "deletable": true,
    "editable": true
   },
   "outputs": [],
   "source": [
    "a = tcc[tcc['sex']==0]\n",
    "b= tcc[tcc['sex']==1]"
   ]
  },
  {
   "cell_type": "code",
   "execution_count": 447,
   "metadata": {
    "collapsed": false,
    "deletable": true,
    "editable": true
   },
   "outputs": [
    {
     "data": {
      "text/plain": [
       "20.622130510238705"
      ]
     },
     "execution_count": 447,
     "metadata": {},
     "output_type": "execute_result"
    },
    {
     "data": {
      "text/plain": [
       "1.566605331038222e-79"
      ]
     },
     "execution_count": 447,
     "metadata": {},
     "output_type": "execute_result"
    }
   ],
   "source": [
    "t_stat, p_val = stats.ttest_ind(a['survived'],b['survived'], axis=0)\n",
    "t_stat\n",
    "p_val"
   ]
  },
  {
   "cell_type": "markdown",
   "metadata": {
    "deletable": true,
    "editable": true
   },
   "source": [
    "**Here, we are comparing the different gender groups and their survival rate. the very small p-value indicates that the difference we found in survival rates between the gender groups are very significant; they did not occur by chance.**"
   ]
  },
  {
   "cell_type": "markdown",
   "metadata": {
    "deletable": true,
    "editable": true
   },
   "source": [
    "## Develop a decision tree with depth of 2"
   ]
  },
  {
   "cell_type": "markdown",
   "metadata": {
    "deletable": true,
    "editable": true
   },
   "source": [
    "<b>Build</b> and <b>show</b> a decision tree of <b>depth = 2</b> to find the differences between those who survived and those who didn't. Your tree should have four leaves."
   ]
  },
  {
   "cell_type": "code",
   "execution_count": 448,
   "metadata": {
    "collapsed": false,
    "deletable": true,
    "editable": true
   },
   "outputs": [],
   "source": [
    "dtc2 = DecisionTreeClassifier(max_depth=2).fit(X,y)"
   ]
  },
  {
   "cell_type": "markdown",
   "metadata": {
    "deletable": true,
    "editable": true
   },
   "source": [
    "You need to adapt the `XXX` in the following code to visualize the decision tree."
   ]
  },
  {
   "cell_type": "code",
   "execution_count": 449,
   "metadata": {
    "ExecuteTime": {
     "end_time": "2018-02-13T22:26:10.584737Z",
     "start_time": "2018-02-13T22:26:10.539010Z"
    },
    "collapsed": false,
    "deletable": true,
    "editable": true
   },
   "outputs": [
    {
     "data": {
      "image/svg+xml": [
       "<?xml version=\"1.0\" encoding=\"UTF-8\" standalone=\"no\"?>\n",
       "<!DOCTYPE svg PUBLIC \"-//W3C//DTD SVG 1.1//EN\"\n",
       " \"http://www.w3.org/Graphics/SVG/1.1/DTD/svg11.dtd\">\n",
       "<!-- Generated by graphviz version 2.40.1 (20161225.0304)\n",
       " -->\n",
       "<!-- Title: Tree Pages: 1 -->\n",
       "<svg width=\"626pt\" height=\"300pt\"\n",
       " viewBox=\"0.00 0.00 625.54 300.00\" xmlns=\"http://www.w3.org/2000/svg\" xmlns:xlink=\"http://www.w3.org/1999/xlink\">\n",
       "<g id=\"graph0\" class=\"graph\" transform=\"scale(1 1) rotate(0) translate(4 296)\">\n",
       "<title>Tree</title>\n",
       "<polygon fill=\"#ffffff\" stroke=\"transparent\" points=\"-4,4 -4,-296 621.5371,-296 621.5371,4 -4,4\"/>\n",
       "<!-- 0 -->\n",
       "<g id=\"node1\" class=\"node\">\n",
       "<title>0</title>\n",
       "<polygon fill=\"#e58139\" fill-opacity=\"0.309804\" stroke=\"#000000\" points=\"378.3064,-292 238.2307,-292 238.2307,-214 378.3064,-214 378.3064,-292\"/>\n",
       "<text text-anchor=\"start\" x=\"282.8457\" y=\"-276.8\" font-family=\"Times,serif\" font-size=\"14.00\" fill=\"#000000\">sex ≤ 0.5</text>\n",
       "<text text-anchor=\"start\" x=\"274.1812\" y=\"-262.8\" font-family=\"Times,serif\" font-size=\"14.00\" fill=\"#000000\">gini = 0.483</text>\n",
       "<text text-anchor=\"start\" x=\"256.688\" y=\"-248.8\" font-family=\"Times,serif\" font-size=\"14.00\" fill=\"#000000\">samples = 100.0%</text>\n",
       "<text text-anchor=\"start\" x=\"246\" y=\"-234.8\" font-family=\"Times,serif\" font-size=\"14.00\" fill=\"#000000\">value = [0.592, 0.408]</text>\n",
       "<text text-anchor=\"start\" x=\"255.9121\" y=\"-220.8\" font-family=\"Times,serif\" font-size=\"14.00\" fill=\"#000000\">class = not survive</text>\n",
       "</g>\n",
       "<!-- 1 -->\n",
       "<g id=\"node2\" class=\"node\">\n",
       "<title>1</title>\n",
       "<polygon fill=\"#399de5\" fill-opacity=\"0.670588\" stroke=\"#000000\" points=\"299.3064,-178 159.2307,-178 159.2307,-100 299.3064,-100 299.3064,-178\"/>\n",
       "<text text-anchor=\"start\" x=\"196.0698\" y=\"-162.8\" font-family=\"Times,serif\" font-size=\"14.00\" fill=\"#000000\">pclass ≤ 2.5</text>\n",
       "<text text-anchor=\"start\" x=\"195.1812\" y=\"-148.8\" font-family=\"Times,serif\" font-size=\"14.00\" fill=\"#000000\">gini = 0.372</text>\n",
       "<text text-anchor=\"start\" x=\"181.188\" y=\"-134.8\" font-family=\"Times,serif\" font-size=\"14.00\" fill=\"#000000\">samples = 37.1%</text>\n",
       "<text text-anchor=\"start\" x=\"167\" y=\"-120.8\" font-family=\"Times,serif\" font-size=\"14.00\" fill=\"#000000\">value = [0.247, 0.753]</text>\n",
       "<text text-anchor=\"start\" x=\"184.1069\" y=\"-106.8\" font-family=\"Times,serif\" font-size=\"14.00\" fill=\"#000000\">class = survived</text>\n",
       "</g>\n",
       "<!-- 0&#45;&gt;1 -->\n",
       "<g id=\"edge1\" class=\"edge\">\n",
       "<title>0&#45;&gt;1</title>\n",
       "<path fill=\"none\" stroke=\"#000000\" d=\"M281.0812,-213.7677C275.0607,-205.0798 268.6162,-195.7801 262.3889,-186.794\"/>\n",
       "<polygon fill=\"#000000\" stroke=\"#000000\" points=\"265.0786,-184.5304 256.506,-178.3046 259.3251,-188.5176 265.0786,-184.5304\"/>\n",
       "<text text-anchor=\"middle\" x=\"252.0451\" y=\"-198.7034\" font-family=\"Times,serif\" font-size=\"14.00\" fill=\"#000000\">True</text>\n",
       "</g>\n",
       "<!-- 4 -->\n",
       "<g id=\"node5\" class=\"node\">\n",
       "<title>4</title>\n",
       "<polygon fill=\"#e58139\" fill-opacity=\"0.741176\" stroke=\"#000000\" points=\"458.3064,-178 318.2307,-178 318.2307,-100 458.3064,-100 458.3064,-178\"/>\n",
       "<text text-anchor=\"start\" x=\"362.4629\" y=\"-162.8\" font-family=\"Times,serif\" font-size=\"14.00\" fill=\"#000000\">age ≤ 9.5</text>\n",
       "<text text-anchor=\"start\" x=\"354.1812\" y=\"-148.8\" font-family=\"Times,serif\" font-size=\"14.00\" fill=\"#000000\">gini = 0.326</text>\n",
       "<text text-anchor=\"start\" x=\"340.188\" y=\"-134.8\" font-family=\"Times,serif\" font-size=\"14.00\" fill=\"#000000\">samples = 62.9%</text>\n",
       "<text text-anchor=\"start\" x=\"326\" y=\"-120.8\" font-family=\"Times,serif\" font-size=\"14.00\" fill=\"#000000\">value = [0.795, 0.205]</text>\n",
       "<text text-anchor=\"start\" x=\"335.9121\" y=\"-106.8\" font-family=\"Times,serif\" font-size=\"14.00\" fill=\"#000000\">class = not survive</text>\n",
       "</g>\n",
       "<!-- 0&#45;&gt;4 -->\n",
       "<g id=\"edge4\" class=\"edge\">\n",
       "<title>0&#45;&gt;4</title>\n",
       "<path fill=\"none\" stroke=\"#000000\" d=\"M335.8,-213.7677C341.9596,-204.9903 348.5575,-195.5883 354.9239,-186.5161\"/>\n",
       "<polygon fill=\"#000000\" stroke=\"#000000\" points=\"357.807,-188.5007 360.6863,-178.3046 352.0771,-184.4797 357.807,-188.5007\"/>\n",
       "<text text-anchor=\"middle\" x=\"365.002\" y=\"-198.7293\" font-family=\"Times,serif\" font-size=\"14.00\" fill=\"#000000\">False</text>\n",
       "</g>\n",
       "<!-- 2 -->\n",
       "<g id=\"node3\" class=\"node\">\n",
       "<title>2</title>\n",
       "<polygon fill=\"#399de5\" fill-opacity=\"0.925490\" stroke=\"#000000\" points=\"140.3064,-64 .2307,-64 .2307,0 140.3064,0 140.3064,-64\"/>\n",
       "<text text-anchor=\"start\" x=\"36.1812\" y=\"-48.8\" font-family=\"Times,serif\" font-size=\"14.00\" fill=\"#000000\">gini = 0.126</text>\n",
       "<text text-anchor=\"start\" x=\"22.188\" y=\"-34.8\" font-family=\"Times,serif\" font-size=\"14.00\" fill=\"#000000\">samples = 22.6%</text>\n",
       "<text text-anchor=\"start\" x=\"8\" y=\"-20.8\" font-family=\"Times,serif\" font-size=\"14.00\" fill=\"#000000\">value = [0.068, 0.932]</text>\n",
       "<text text-anchor=\"start\" x=\"25.1069\" y=\"-6.8\" font-family=\"Times,serif\" font-size=\"14.00\" fill=\"#000000\">class = survived</text>\n",
       "</g>\n",
       "<!-- 1&#45;&gt;2 -->\n",
       "<g id=\"edge2\" class=\"edge\">\n",
       "<title>1&#45;&gt;2</title>\n",
       "<path fill=\"none\" stroke=\"#000000\" d=\"M170.9657,-99.7647C156.3701,-89.9426 140.7462,-79.4284 126.2655,-69.6835\"/>\n",
       "<polygon fill=\"#000000\" stroke=\"#000000\" points=\"128.1384,-66.7252 117.888,-64.0458 124.2302,-72.5326 128.1384,-66.7252\"/>\n",
       "</g>\n",
       "<!-- 3 -->\n",
       "<g id=\"node4\" class=\"node\">\n",
       "<title>3</title>\n",
       "<polygon fill=\"#e58139\" fill-opacity=\"0.098039\" stroke=\"#000000\" points=\"299.3064,-64 159.2307,-64 159.2307,0 299.3064,0 299.3064,-64\"/>\n",
       "<text text-anchor=\"start\" x=\"195.1812\" y=\"-48.8\" font-family=\"Times,serif\" font-size=\"14.00\" fill=\"#000000\">gini = 0.499</text>\n",
       "<text text-anchor=\"start\" x=\"181.188\" y=\"-34.8\" font-family=\"Times,serif\" font-size=\"14.00\" fill=\"#000000\">samples = 14.5%</text>\n",
       "<text text-anchor=\"start\" x=\"167\" y=\"-20.8\" font-family=\"Times,serif\" font-size=\"14.00\" fill=\"#000000\">value = [0.526, 0.474]</text>\n",
       "<text text-anchor=\"start\" x=\"176.9121\" y=\"-6.8\" font-family=\"Times,serif\" font-size=\"14.00\" fill=\"#000000\">class = not survive</text>\n",
       "</g>\n",
       "<!-- 1&#45;&gt;3 -->\n",
       "<g id=\"edge3\" class=\"edge\">\n",
       "<title>1&#45;&gt;3</title>\n",
       "<path fill=\"none\" stroke=\"#000000\" d=\"M229.2686,-99.7647C229.2686,-91.4537 229.2686,-82.6472 229.2686,-74.2305\"/>\n",
       "<polygon fill=\"#000000\" stroke=\"#000000\" points=\"232.7687,-74.2168 229.2686,-64.2169 225.7687,-74.2169 232.7687,-74.2168\"/>\n",
       "</g>\n",
       "<!-- 5 -->\n",
       "<g id=\"node6\" class=\"node\">\n",
       "<title>5</title>\n",
       "<polygon fill=\"#399de5\" fill-opacity=\"0.278431\" stroke=\"#000000\" points=\"458.3064,-64 318.2307,-64 318.2307,0 458.3064,0 458.3064,-64\"/>\n",
       "<text text-anchor=\"start\" x=\"354.1812\" y=\"-48.8\" font-family=\"Times,serif\" font-size=\"14.00\" fill=\"#000000\">gini = 0.487</text>\n",
       "<text text-anchor=\"start\" x=\"343.688\" y=\"-34.8\" font-family=\"Times,serif\" font-size=\"14.00\" fill=\"#000000\">samples = 4.1%</text>\n",
       "<text text-anchor=\"start\" x=\"326\" y=\"-20.8\" font-family=\"Times,serif\" font-size=\"14.00\" fill=\"#000000\">value = [0.419, 0.581]</text>\n",
       "<text text-anchor=\"start\" x=\"343.1069\" y=\"-6.8\" font-family=\"Times,serif\" font-size=\"14.00\" fill=\"#000000\">class = survived</text>\n",
       "</g>\n",
       "<!-- 4&#45;&gt;5 -->\n",
       "<g id=\"edge5\" class=\"edge\">\n",
       "<title>4&#45;&gt;5</title>\n",
       "<path fill=\"none\" stroke=\"#000000\" d=\"M388.2686,-99.7647C388.2686,-91.4537 388.2686,-82.6472 388.2686,-74.2305\"/>\n",
       "<polygon fill=\"#000000\" stroke=\"#000000\" points=\"391.7687,-74.2168 388.2686,-64.2169 384.7687,-74.2169 391.7687,-74.2168\"/>\n",
       "</g>\n",
       "<!-- 6 -->\n",
       "<g id=\"node7\" class=\"node\">\n",
       "<title>6</title>\n",
       "<polygon fill=\"#e58139\" fill-opacity=\"0.780392\" stroke=\"#000000\" points=\"617.3064,-64 477.2307,-64 477.2307,0 617.3064,0 617.3064,-64\"/>\n",
       "<text text-anchor=\"start\" x=\"513.1812\" y=\"-48.8\" font-family=\"Times,serif\" font-size=\"14.00\" fill=\"#000000\">gini = 0.294</text>\n",
       "<text text-anchor=\"start\" x=\"499.188\" y=\"-34.8\" font-family=\"Times,serif\" font-size=\"14.00\" fill=\"#000000\">samples = 58.8%</text>\n",
       "<text text-anchor=\"start\" x=\"485\" y=\"-20.8\" font-family=\"Times,serif\" font-size=\"14.00\" fill=\"#000000\">value = [0.821, 0.179]</text>\n",
       "<text text-anchor=\"start\" x=\"494.9121\" y=\"-6.8\" font-family=\"Times,serif\" font-size=\"14.00\" fill=\"#000000\">class = not survive</text>\n",
       "</g>\n",
       "<!-- 4&#45;&gt;6 -->\n",
       "<g id=\"edge6\" class=\"edge\">\n",
       "<title>4&#45;&gt;6</title>\n",
       "<path fill=\"none\" stroke=\"#000000\" d=\"M446.5714,-99.7647C461.167,-89.9426 476.7909,-79.4284 491.2716,-69.6835\"/>\n",
       "<polygon fill=\"#000000\" stroke=\"#000000\" points=\"493.3069,-72.5326 499.6492,-64.0458 489.3987,-66.7252 493.3069,-72.5326\"/>\n",
       "</g>\n",
       "</g>\n",
       "</svg>\n"
      ],
      "text/plain": [
       "<graphviz.files.Source at 0x125b5d080>"
      ]
     },
     "execution_count": 449,
     "metadata": {},
     "output_type": "execute_result"
    }
   ],
   "source": [
    "dot_data = tree.export_graphviz(dtc2, out_file=None, \n",
    "                         feature_names=list(X.columns),  \n",
    "                         class_names = ['survived' if i == 1 else 'not survive' for i in dtc2.classes_] ,\n",
    "                         filled=True, \n",
    "                         special_characters=True,\n",
    "                               proportion=True)  \n",
    "graph = graphviz.Source(dot_data)  \n",
    "graph "
   ]
  },
  {
   "cell_type": "markdown",
   "metadata": {
    "deletable": true,
    "editable": true
   },
   "source": [
    "**In this decision tree, we are first splitting by gender. On the left side of the first split, we have all the female passengers. This branch is further split by class, where the left bottom branch are those who are female and are from classes 1 and 2; 93.2% of this population survived.**<br><br>\n",
    "\n",
    "**Going down the right side of the first split, we have all the male passengers. This is further split into children(down right side) which are those who are aged below 9.5. The bottom left branch (age<=9.5 is true) tells us that 58.1% of this population survived, which are the male children.**"
   ]
  },
  {
   "cell_type": "markdown",
   "metadata": {
    "deletable": true,
    "editable": true
   },
   "source": [
    "###  Visually reproduce the left side of the decision tree using seaborn barcharts<br>\n",
    "- Seperate the data first by gender (we need only female), and then seperate by class (those in class 1 & 2)<br>\n",
    "- do this by creating new columns with filtered data corresponding to the column name<br>"
   ]
  },
  {
   "cell_type": "code",
   "execution_count": 450,
   "metadata": {
    "collapsed": false,
    "deletable": true,
    "editable": true
   },
   "outputs": [],
   "source": [
    "# get only the female passenger data\n",
    "female = tcc[tcc.sex <=0.5]"
   ]
  },
  {
   "cell_type": "code",
   "execution_count": 451,
   "metadata": {
    "collapsed": false,
    "deletable": true,
    "editable": true
   },
   "outputs": [],
   "source": [
    "# create column with female passengers in classes 1 & 2\n",
    "tcc['sex<=0.5'] = tcc.sex<=0.5\n",
    "female['pclass<=2.5'] = female.pclass<=2.5"
   ]
  },
  {
   "cell_type": "code",
   "execution_count": 452,
   "metadata": {
    "collapsed": false,
    "deletable": true,
    "editable": true
   },
   "outputs": [
    {
     "data": {
      "text/plain": [
       "<matplotlib.axes._subplots.AxesSubplot at 0x124dc3f28>"
      ]
     },
     "execution_count": 452,
     "metadata": {},
     "output_type": "execute_result"
    },
    {
     "data": {
      "image/png": "[encoded data removed]",
      "text/plain": [
       "<matplotlib.figure.Figure at 0x125f1f278>"
      ]
     },
     "metadata": {},
     "output_type": "display_data"
    }
   ],
   "source": [
    "sns.barplot(x= 'pclass<=2.5', y='survived',data=female)"
   ]
  },
  {
   "cell_type": "markdown",
   "metadata": {
    "deletable": true,
    "editable": true
   },
   "source": [
    "**This chart shows that of the female passengers, those who are from classes 1 and 2 survived at a rate of 93.2%. Those from 3rd class had a much lower survival rate.**"
   ]
  },
  {
   "cell_type": "markdown",
   "metadata": {
    "deletable": true,
    "editable": true
   },
   "source": [
    "### Use the ranksums test from scipy.stats to statistically reproduce the decision on the left side.\n"
   ]
  },
  {
   "cell_type": "markdown",
   "metadata": {
    "deletable": true,
    "editable": true
   },
   "source": [
    "x = the y value(surviveal rate) where pclass<=2.5<br>\n",
    "y = the y value(survival rate) where pclaass>=2.5<br>"
   ]
  },
  {
   "cell_type": "code",
   "execution_count": 453,
   "metadata": {
    "collapsed": false,
    "deletable": true,
    "editable": true
   },
   "outputs": [],
   "source": [
    "x = female.survived[female.pclass<=2.5]\n",
    "y = female.survived[female.pclass>=2.5]"
   ]
  },
  {
   "cell_type": "code",
   "execution_count": 454,
   "metadata": {
    "collapsed": false,
    "deletable": true,
    "editable": true
   },
   "outputs": [
    {
     "data": {
      "text/plain": [
       "RanksumsResult(statistic=7.6264271930953198, pvalue=2.4134913208883318e-14)"
      ]
     },
     "execution_count": 454,
     "metadata": {},
     "output_type": "execute_result"
    }
   ],
   "source": [
    "from scipy.stats import ranksums\n",
    "stats.ranksums(x, y)"
   ]
  },
  {
   "cell_type": "markdown",
   "metadata": {
    "deletable": true,
    "editable": true
   },
   "source": [
    "**Similar to the t-test, this small pvalue shows the difference between the two groups (female in 1 & 2 class vs female in 3rd class) are significantly different; our results in survival rate are a result of difference in classes.**"
   ]
  },
  {
   "cell_type": "markdown",
   "metadata": {
    "deletable": true,
    "editable": true
   },
   "source": [
    "###  Visually reproduce the right side of the decision tree using seaborn barcharts"
   ]
  },
  {
   "cell_type": "code",
   "execution_count": 455,
   "metadata": {
    "collapsed": false,
    "deletable": true,
    "editable": true
   },
   "outputs": [],
   "source": [
    "tcc['sex>=0.5'] = tcc.sex>=0.5"
   ]
  },
  {
   "cell_type": "code",
   "execution_count": 456,
   "metadata": {
    "collapsed": true,
    "deletable": true,
    "editable": true
   },
   "outputs": [],
   "source": [
    "male = tcc[tcc.sex>=0.5]\n",
    "male['age<=9.5'] = male.age<=9.5"
   ]
  },
  {
   "cell_type": "code",
   "execution_count": 457,
   "metadata": {
    "collapsed": false,
    "deletable": true,
    "editable": true
   },
   "outputs": [
    {
     "data": {
      "text/plain": [
       "<matplotlib.axes._subplots.AxesSubplot at 0x105d99be0>"
      ]
     },
     "execution_count": 457,
     "metadata": {},
     "output_type": "execute_result"
    },
    {
     "data": {
      "image/png": "[encoded data removed]",
      "text/plain": [
       "<matplotlib.figure.Figure at 0x124beb780>"
      ]
     },
     "metadata": {},
     "output_type": "display_data"
    }
   ],
   "source": [
    "sns.barplot(x= 'age<=9.5', y='survived',data=male)"
   ]
  },
  {
   "cell_type": "markdown",
   "metadata": {
    "deletable": true,
    "editable": true
   },
   "source": [
    "**This chart shows that of the male passengers, those who are children (below 10 yrs old) have a higher survival rate.**"
   ]
  },
  {
   "cell_type": "markdown",
   "metadata": {
    "deletable": true,
    "editable": true
   },
   "source": [
    "### Use the ranksums test from scipy.stats to statistically reproduce the decisions on the right side.\n"
   ]
  },
  {
   "cell_type": "code",
   "execution_count": 458,
   "metadata": {
    "collapsed": true,
    "deletable": true,
    "editable": true
   },
   "outputs": [],
   "source": [
    "x1 = male.survived[male.age<=9.5]\n",
    "y1 = male.survived[male.age>=9.5]"
   ]
  },
  {
   "cell_type": "code",
   "execution_count": 459,
   "metadata": {
    "collapsed": false,
    "deletable": true,
    "editable": true
   },
   "outputs": [
    {
     "data": {
      "text/plain": [
       "RanksumsResult(statistic=4.4166379535516365, pvalue=1.0024793022808227e-05)"
      ]
     },
     "execution_count": 459,
     "metadata": {},
     "output_type": "execute_result"
    }
   ],
   "source": [
    "stats.ranksums(x1, y1)"
   ]
  },
  {
   "cell_type": "markdown",
   "metadata": {
    "deletable": true,
    "editable": true
   },
   "source": [
    "** Similar to the previous ransum result, the pvalue is very small, indicating significance in the difference between the two group the test is based on (those male who are children and those male who are older than 10 yrs old).**<br><br>\n",
    "\n",
    "** In conclusion, those who are female and in upper classes (1 & 2) have the highest survival rate, while those who are male and survived are children. In general, the hypothesis of high survival rates among women and children were true. Lower classes have lower survival rates, potentially due to large population and crowded spaces below decks makes a hazard when it comes to evacuation; this makes lower class passengers have low survival rate to begin with.**"
   ]
  },
  {
   "cell_type": "markdown",
   "metadata": {
    "deletable": true,
    "editable": true
   },
   "source": [
    "### Sources:<br>\n",
    "https://towardsdatascience.com/inferential-statistics-series-t-test-using-numpy-2718f8f9bf2f - t-test<br>\n",
    "https://stackoverflow.com/questions/22611446/perform-2-sample-t-test -t-test example<br>\n",
    "https://docs.scipy.org/doc/scipy/reference/generated/scipy.stats.ttest_ind.html - t-test<br>\n",
    "https://en.wikipedia.org/wiki/Mann–Whitney_U_test - ransum test<br>\n",
    "https://docs.scipy.org/doc/scipy-0.19.1/reference/generated/scipy.stats.ranksums.html - ranksum test<br>"
   ]
  }
 ],
 "metadata": {
  "kernelspec": {
   "display_name": "Python 3",
   "language": "python",
   "name": "python3"
  },
  "language_info": {
   "codemirror_mode": {
    "name": "ipython",
    "version": 3
   },
   "file_extension": ".py",
   "mimetype": "text/x-python",
   "name": "python",
   "nbconvert_exporter": "python",
   "pygments_lexer": "ipython3",
   "version": "3.5.2"
  },
  "toc": {
   "nav_menu": {},
   "number_sections": true,
   "sideBar": true,
   "skip_h1_title": false,
   "title_cell": "Table of Contents",
   "title_sidebar": "Contents",
   "toc_cell": false,
   "toc_position": {},
   "toc_section_display": true,
   "toc_window_display": false
  },
  "varInspector": {
   "cols": {
    "lenName": 16,
    "lenType": 16,
    "lenVar": 40
   },
   "kernels_config": {
    "python": {
     "delete_cmd_postfix": "",
     "delete_cmd_prefix": "del ",
     "library": "var_list.py",
     "varRefreshCmd": "print(var_dic_list())"
    },
    "r": {
     "delete_cmd_postfix": ") ",
     "delete_cmd_prefix": "rm(",
     "library": "var_list.r",
     "varRefreshCmd": "cat(var_dic_list()) "
    }
   },
   "types_to_exclude": [
    "module",
    "function",
    "builtin_function_or_method",
    "instance",
    "_Feature"
   ],
   "window_display": false
  }
 },
 "nbformat": 4,
 "nbformat_minor": 2
}
