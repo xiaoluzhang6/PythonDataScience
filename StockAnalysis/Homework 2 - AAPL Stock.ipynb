{
 "cells": [
  {
   "cell_type": "markdown",
   "metadata": {
    "ExecuteTime": {
     "end_time": "2018-01-09T22:16:12.534253Z",
     "start_time": "2018-01-09T22:16:12.530354Z"
    }
   },
   "source": [
    "# Homework 2: Simple Stock Analysis"
   ]
  },
  {
   "cell_type": "markdown",
   "metadata": {},
   "source": [
    "The objective of this homework is to practice working with **Pandas Series**. To successfully complete this homework, you may use any resources available to you."
   ]
  },
  {
   "cell_type": "markdown",
   "metadata": {
    "ExecuteTime": {
     "end_time": "2018-01-09T22:43:29.993598Z",
     "start_time": "2018-01-09T22:43:29.974919Z"
    }
   },
   "source": [
    "You need to accomplish the following tasks:\n",
    "1. Download the Apple stock data for the timeframe of 1982 to today.\n",
    "1. Use the %magic command to activate inline matplotlib graphs\n",
    "2. Provide an overview of the `Close` series of the Apple stock.\n",
    "3. Identify three approaches of obtaining the maximum closing price. What is the difference between the approaches?\n",
    "3. Find the timeframes with the highest stock price surge in five days. Can you explain why these five dates?\n",
    "4. Resample the `Close` series to represent business quarters with a financial year that ends in September.\n",
    "3. Identify series of four quarters with the an overall surge in the stock prices that is larger than 100 percent. Can you explain why the larges surge happened? Visualize it.\n",
    "\n",
    "If you use tutorials/code snippets that you find on the internet to complete this task, make sure that you reference them. Also make sure that the Jupyter notebook is free of mistakes, well-documented, and professionally formatted before you submit it.\n",
    "\n",
    "This homework is due on **Tuesday, 23 2018**.\n",
    "\n",
    "*This homework is based on an assignment created by Michele Samorani.*"
   ]
  },
  {
   "cell_type": "markdown",
   "metadata": {},
   "source": [
    "Lets' make sure that we allow multiple outputs."
   ]
  },
  {
   "cell_type": "code",
   "execution_count": 10,
   "metadata": {
    "ExecuteTime": {
     "end_time": "2018-01-23T09:40:03.003599Z",
     "start_time": "2018-01-23T09:40:02.991304Z"
    }
   },
   "outputs": [],
   "source": [
    "from IPython.core.interactiveshell import InteractiveShell\n",
    "InteractiveShell.ast_node_interactivity = \"all\""
   ]
  },
  {
   "cell_type": "markdown",
   "metadata": {},
   "source": [
    "Install the [pandas-datareader package](https://pandas-datareader.readthedocs.io/en/latest/). This package allows you to obtain stock information."
   ]
  },
  {
   "cell_type": "code",
   "execution_count": 11,
   "metadata": {
    "ExecuteTime": {
     "end_time": "2018-01-23T09:40:04.965775Z",
     "start_time": "2018-01-23T09:40:04.956145Z"
    }
   },
   "outputs": [],
   "source": [
    "import pandas_datareader.data as dr\n",
    "from pandas_datareader import data\n",
    "import pandas as pd\n",
    "import datetime\n"
   ]
  },
  {
   "cell_type": "markdown",
   "metadata": {},
   "source": [
    "* Write a function that has the ticker symbol and the start/enddate as input and that returns a dataframe with the stock information.\n",
    "* Use the function to get the stock information for Apple from 1982 to today."
   ]
  },
  {
   "cell_type": "code",
   "execution_count": 12,
   "metadata": {
    "ExecuteTime": {
     "end_time": "2018-01-23T09:40:07.976612Z",
     "start_time": "2018-01-23T09:40:07.959062Z"
    }
   },
   "outputs": [],
   "source": [
    "# Define function to return stock price\n",
    "def getStockPrice(tickr, startYear, startMonth, startDay, endYear, endMonth, endDay):\n",
    "    start = datetime.datetime(startYear, startMonth, startDay)\n",
    "    end = datetime.datetime(endYear, endMonth, endDay) \n",
    "    readData = dr.DataReader(tickr, \"yahoo\",start,end)\n",
    "    return pd.DataFrame(readData)\n"
   ]
  },
  {
   "cell_type": "code",
   "execution_count": 13,
   "metadata": {
    "ExecuteTime": {
     "end_time": "2018-01-23T09:40:12.437351Z",
     "start_time": "2018-01-23T09:40:10.571805Z"
    }
   },
   "outputs": [
    {
     "data": {
      "text/html": [
       "<div>\n",
       "<style scoped>\n",
       "    .dataframe tbody tr th:only-of-type {\n",
       "        vertical-align: middle;\n",
       "    }\n",
       "\n",
       "    .dataframe tbody tr th {\n",
       "        vertical-align: top;\n",
       "    }\n",
       "\n",
       "    .dataframe thead th {\n",
       "        text-align: right;\n",
       "    }\n",
       "</style>\n",
       "<table border=\"1\" class=\"dataframe\">\n",
       "  <thead>\n",
       "    <tr style=\"text-align: right;\">\n",
       "      <th></th>\n",
       "      <th>Open</th>\n",
       "      <th>High</th>\n",
       "      <th>Low</th>\n",
       "      <th>Close</th>\n",
       "      <th>Adj Close</th>\n",
       "      <th>Volume</th>\n",
       "    </tr>\n",
       "    <tr>\n",
       "      <th>Date</th>\n",
       "      <th></th>\n",
       "      <th></th>\n",
       "      <th></th>\n",
       "      <th></th>\n",
       "      <th></th>\n",
       "      <th></th>\n",
       "    </tr>\n",
       "  </thead>\n",
       "  <tbody>\n",
       "    <tr>\n",
       "      <th>1982-01-04</th>\n",
       "      <td>0.395089</td>\n",
       "      <td>0.395089</td>\n",
       "      <td>0.392857</td>\n",
       "      <td>0.392857</td>\n",
       "      <td>0.321458</td>\n",
       "      <td>17813600</td>\n",
       "    </tr>\n",
       "    <tr>\n",
       "      <th>1982-01-05</th>\n",
       "      <td>0.377232</td>\n",
       "      <td>0.377232</td>\n",
       "      <td>0.372768</td>\n",
       "      <td>0.372768</td>\n",
       "      <td>0.305020</td>\n",
       "      <td>8960000</td>\n",
       "    </tr>\n",
       "    <tr>\n",
       "      <th>1982-01-06</th>\n",
       "      <td>0.370536</td>\n",
       "      <td>0.370536</td>\n",
       "      <td>0.368304</td>\n",
       "      <td>0.368304</td>\n",
       "      <td>0.301367</td>\n",
       "      <td>16520000</td>\n",
       "    </tr>\n",
       "    <tr>\n",
       "      <th>1982-01-07</th>\n",
       "      <td>0.343750</td>\n",
       "      <td>0.343750</td>\n",
       "      <td>0.339286</td>\n",
       "      <td>0.339286</td>\n",
       "      <td>0.277623</td>\n",
       "      <td>17511200</td>\n",
       "    </tr>\n",
       "    <tr>\n",
       "      <th>1982-01-08</th>\n",
       "      <td>0.354911</td>\n",
       "      <td>0.357143</td>\n",
       "      <td>0.354911</td>\n",
       "      <td>0.354911</td>\n",
       "      <td>0.290408</td>\n",
       "      <td>14151200</td>\n",
       "    </tr>\n",
       "  </tbody>\n",
       "</table>\n",
       "</div>"
      ],
      "text/plain": [
       "                Open      High       Low     Close  Adj Close    Volume\n",
       "Date                                                                   \n",
       "1982-01-04  0.395089  0.395089  0.392857  0.392857   0.321458  17813600\n",
       "1982-01-05  0.377232  0.377232  0.372768  0.372768   0.305020   8960000\n",
       "1982-01-06  0.370536  0.370536  0.368304  0.368304   0.301367  16520000\n",
       "1982-01-07  0.343750  0.343750  0.339286  0.339286   0.277623  17511200\n",
       "1982-01-08  0.354911  0.357143  0.354911  0.354911   0.290408  14151200"
      ]
     },
     "execution_count": 13,
     "metadata": {},
     "output_type": "execute_result"
    }
   ],
   "source": [
    "# Return Apple stock price\n",
    "aapl = getStockPrice(\"AAPL\",1982, 1, 1, 2018, 1, 23)\n",
    "aapl.head()\n"
   ]
  },
  {
   "cell_type": "markdown",
   "metadata": {
    "ExecuteTime": {
     "end_time": "2018-01-17T02:59:18.307999Z",
     "start_time": "2018-01-17T02:59:18.295456Z"
    }
   },
   "source": [
    "Use the %magic command to activate inline matplotlib graphs and plot the `Close` series."
   ]
  },
  {
   "cell_type": "code",
   "execution_count": 23,
   "metadata": {
    "ExecuteTime": {
     "end_time": "2018-01-23T10:14:46.770156Z",
     "start_time": "2018-01-23T10:14:46.717411Z"
    }
   },
   "outputs": [
    {
     "data": {
      "text/plain": [
       "Date\n",
       "1982-01-04    0.392857\n",
       "1982-01-05    0.372768\n",
       "1982-01-06    0.368304\n",
       "1982-01-07    0.339286\n",
       "1982-01-08    0.354911\n",
       "Name: Close, dtype: float64"
      ]
     },
     "execution_count": 23,
     "metadata": {},
     "output_type": "execute_result"
    }
   ],
   "source": [
    "#Create series with just the closing price\n",
    "closePrice = aapl['Close']\n",
    "closePrice.head(5)"
   ]
  },
  {
   "cell_type": "code",
   "execution_count": 27,
   "metadata": {
    "ExecuteTime": {
     "end_time": "2018-01-23T10:18:03.223840Z",
     "start_time": "2018-01-23T10:18:02.509243Z"
    }
   },
   "outputs": [
    {
     "name": "stdout",
     "output_type": "stream",
     "text": [
      "Populating the interactive namespace from numpy and matplotlib\n"
     ]
    },
    {
     "data": {
      "text/plain": [
       "<matplotlib.axes._subplots.AxesSubplot at 0x7f5ef98dcac8>"
      ]
     },
     "execution_count": 27,
     "metadata": {},
     "output_type": "execute_result"
    },
    {
     "data": {
      "text/plain": [
       "Text(0.5,0.98,'Apple Stock Price')"
      ]
     },
     "execution_count": 27,
     "metadata": {},
     "output_type": "execute_result"
    },
    {
     "data": {
      "text/plain": [
       "Text(0.5,0,'Year')"
      ]
     },
     "execution_count": 27,
     "metadata": {},
     "output_type": "execute_result"
    },
    {
     "data": {
      "text/plain": [
       "Text(0,0.5,'Closing Price')"
      ]
     },
     "execution_count": 27,
     "metadata": {},
     "output_type": "execute_result"
    },
    {
     "data": {
      "image/png": "[encoded data removed]",
      "text/plain": [
       "<matplotlib.figure.Figure at 0x7f5eff7f5f98>"
      ]
     },
     "metadata": {},
     "output_type": "display_data"
    }
   ],
   "source": [
    "from matplotlib.dates import MonthLocator, WeekdayLocator, DateFormatter\n",
    "%pylab inline\n",
    "pylab.rcParams['figure.figsize'] = (15, 9)   # Change the size of plots\n",
    "\n",
    "closePrice.plot(grid = True) # Plot the adjusted closing price of AAPL\n",
    "\n",
    "plt.suptitle('Apple Stock Price')\n",
    "plt.xlabel('Year')\n",
    "plt.ylabel('Closing Price')"
   ]
  },
  {
   "cell_type": "markdown",
   "metadata": {},
   "source": [
    "Provide an overview of the Close series of the Apple stock."
   ]
  },
  {
   "cell_type": "markdown",
   "metadata": {},
   "source": [
    "Identify three approaches of obtaining the maximum closing price. What is the difference between the approaches?<br><br>\n",
    "\n",
    "**1st Method: this returns the largest value in the object.<br>\n",
    "2nd Method: this sorts the values of the column; default order is ascending,  so we can use '-1'to indicate that we want the last value in the column to get the largest value. We could also set ascending order to false, and get the first and largest value in the column.<br>\n",
    "3rd Method: this returns the 'n' largest values in the column, where n is the number of values you want to retrieve. For example, we only the first largest value in the column, so we would put '0' for the first item in the column.**"
   ]
  },
  {
   "cell_type": "code",
   "execution_count": 16,
   "metadata": {
    "ExecuteTime": {
     "end_time": "2018-01-23T09:40:29.044198Z",
     "start_time": "2018-01-23T09:40:29.009524Z"
    }
   },
   "outputs": [
    {
     "data": {
      "text/plain": [
       "179.259995"
      ]
     },
     "execution_count": 16,
     "metadata": {},
     "output_type": "execute_result"
    }
   ],
   "source": [
    "closePrice.max()"
   ]
  },
  {
   "cell_type": "code",
   "execution_count": 17,
   "metadata": {
    "ExecuteTime": {
     "end_time": "2018-01-23T09:40:30.685088Z",
     "start_time": "2018-01-23T09:40:30.666862Z"
    }
   },
   "outputs": [
    {
     "data": {
      "text/plain": [
       "179.259995"
      ]
     },
     "execution_count": 17,
     "metadata": {},
     "output_type": "execute_result"
    },
    {
     "data": {
      "text/plain": [
       "179.259995"
      ]
     },
     "execution_count": 17,
     "metadata": {},
     "output_type": "execute_result"
    }
   ],
   "source": [
    "closePrice.sort_values()[-1]\n",
    "closePrice.sort_values(ascending=False)[0]"
   ]
  },
  {
   "cell_type": "code",
   "execution_count": 18,
   "metadata": {
    "ExecuteTime": {
     "end_time": "2018-01-23T09:40:33.148813Z",
     "start_time": "2018-01-23T09:40:33.133331Z"
    }
   },
   "outputs": [
    {
     "data": {
      "text/plain": [
       "179.259995"
      ]
     },
     "execution_count": 18,
     "metadata": {},
     "output_type": "execute_result"
    }
   ],
   "source": [
    "closePrice.nlargest()[0]"
   ]
  },
  {
   "cell_type": "markdown",
   "metadata": {},
   "source": [
    "Find the five timeframes with the highest stock price surge in five days (in % compared to the closing cost of the previous trading day). Do you notice something? Can you explain what happend during the timeframes?<br><br>\n",
    "\n",
    "**The method used here is pct_change, which calculates the percent change with a set period; here it is set to 5, which is 5 days window. nlargest is used to get the five largest stock price surge.**<br><br>\n",
    "\n",
    "**Highest surge happened within three days of eachother, for example, in 1997, highest surge time frames were consecutively starting August 1st, 2nd, and 3rd; in 1998, highest surge was between January 1st and 6th, as well as January 3rd and 8th. These are not sudden surgest that happen over one day, but has a pattern that starts to rise on day one and continues to reach its peak, then finally starts to go downward.**"
   ]
  },
  {
   "cell_type": "code",
   "execution_count": 29,
   "metadata": {
    "ExecuteTime": {
     "end_time": "2018-01-23T10:34:31.093379Z",
     "start_time": "2018-01-23T10:34:31.047972Z"
    }
   },
   "outputs": [
    {
     "data": {
      "text/plain": [
       "Date\n",
       "1997-08-07    0.667858\n",
       "1997-08-06    0.514388\n",
       "1998-01-06    0.442857\n",
       "1997-08-08    0.397393\n",
       "1998-01-08    0.385715\n",
       "Name: Close, dtype: float64"
      ]
     },
     "execution_count": 29,
     "metadata": {},
     "output_type": "execute_result"
    }
   ],
   "source": [
    "priceChange = closePrice.pct_change(periods=5)\n",
    "priceChange.nlargest(5)"
   ]
  },
  {
   "cell_type": "code",
   "execution_count": 59,
   "metadata": {
    "ExecuteTime": {
     "end_time": "2018-01-23T11:43:25.990537Z",
     "start_time": "2018-01-23T11:43:25.958122Z"
    },
    "scrolled": true
   },
   "outputs": [
    {
     "name": "stdout",
     "output_type": "stream",
     "text": [
      "Populating the interactive namespace from numpy and matplotlib\n"
     ]
    }
   ],
   "source": [
    "from matplotlib.dates import MonthLocator, WeekdayLocator, DateFormatter\n",
    "%pylab inline\n",
    "pylab.rcParams['figure.figsize'] = (15, 9)\n",
    "#qrt = closePrice.resample('Q').mean().plot\n"
   ]
  },
  {
   "cell_type": "markdown",
   "metadata": {},
   "source": [
    "Resample the Close series to represent business quarters with a financial year that ends in September.<br><br>\n",
    "\n",
    "**We are taking a date cut-off from 1982 October, because since financial year ends in September, there is not enough data to take and do comparison if Apple stocks started in January 1982.**"
   ]
  },
  {
   "cell_type": "code",
   "execution_count": 81,
   "metadata": {
    "ExecuteTime": {
     "end_time": "2018-01-24T00:08:02.350006Z",
     "start_time": "2018-01-24T00:08:02.331358Z"
    },
    "scrolled": true
   },
   "outputs": [],
   "source": [
    "# Find quarterly average\n",
    "qrt = closePrice.resample('Q').mean()"
   ]
  },
  {
   "cell_type": "code",
   "execution_count": 112,
   "metadata": {
    "ExecuteTime": {
     "end_time": "2018-01-24T00:42:13.733598Z",
     "start_time": "2018-01-24T00:42:13.721088Z"
    }
   },
   "outputs": [],
   "source": [
    "# With resampling, Pandas pads series with mock data; we set a limit and cut off financial year to September\n",
    "yrEnd = qrt['1982-10-01':'2017-09-30']"
   ]
  },
  {
   "cell_type": "markdown",
   "metadata": {
    "ExecuteTime": {
     "end_time": "2018-01-17T03:02:56.165199Z",
     "start_time": "2018-01-17T03:02:56.147414Z"
    }
   },
   "source": [
    "Identify series of four quarters with the an overall surge in the stock prices that is larger than 100 percent. \n",
    "Can you explain why the largest surge happened?.<br><br>\n",
    "\n",
    "**Apple was newly found in 1980, trading at two dollars per share, and the market was very optimistic. Right up until 1983 before Steve Jobs left, stock price has be risen to a peak of eight dollars per share. There is a sharp dive in 1985 when Jobs left the company. In 2004, there is a sharp bump in stock price when the new and revamped iPod mini hit the market; many investors jumped onto the bandwagon. See source list for full article (Fortune.com)**"
   ]
  },
  {
   "cell_type": "code",
   "execution_count": 114,
   "metadata": {
    "ExecuteTime": {
     "end_time": "2018-01-24T00:48:36.087901Z",
     "start_time": "2018-01-24T00:48:36.038972Z"
    }
   },
   "outputs": [
    {
     "data": {
      "text/plain": [
       "Date\n",
       "1982-09-30    2.444128\n",
       "2004-06-30    1.757936\n",
       "1982-06-30    1.746507\n",
       "1999-06-30    1.679568\n",
       "1986-12-31    1.558831\n",
       "1999-03-31    1.341118\n",
       "2004-03-31    1.309986\n",
       "2004-09-30    1.280507\n",
       "1986-09-30    1.234055\n",
       "2009-03-31    1.108237\n",
       "1997-12-31    1.076402\n",
       "1985-09-30    1.074833\n",
       "2007-03-31    1.017471\n",
       "Name: Close, dtype: float64"
      ]
     },
     "execution_count": 114,
     "metadata": {},
     "output_type": "execute_result"
    }
   ],
   "source": [
    "# Calculate % change from quarter to quarter, find those with change greater than 100%\n",
    "qrtSurge = ((qrt.shift(-3)- qrt) / qrt )\n",
    "surge = qrtSurge[qrtSurge>1]\n",
    "surge.sort_values(ascending=False)\n"
   ]
  },
  {
   "cell_type": "markdown",
   "metadata": {},
   "source": [
    "Visualize the stock price for the quarters with the highest price surge."
   ]
  },
  {
   "cell_type": "code",
   "execution_count": 113,
   "metadata": {
    "ExecuteTime": {
     "end_time": "2018-01-24T00:43:29.190501Z",
     "start_time": "2018-01-24T00:43:28.662106Z"
    }
   },
   "outputs": [
    {
     "data": {
      "text/plain": [
       "<matplotlib.axes._subplots.AxesSubplot at 0x7f5ef12a57b8>"
      ]
     },
     "execution_count": 113,
     "metadata": {},
     "output_type": "execute_result"
    },
    {
     "data": {
      "text/plain": [
       "Text(0.5,0.98,'Apple Quarterly Stock Price Surge > 100%')"
      ]
     },
     "execution_count": 113,
     "metadata": {},
     "output_type": "execute_result"
    },
    {
     "data": {
      "text/plain": [
       "Text(0.5,0,'Year')"
      ]
     },
     "execution_count": 113,
     "metadata": {},
     "output_type": "execute_result"
    },
    {
     "data": {
      "text/plain": [
       "Text(0,0.5,'% Surge')"
      ]
     },
     "execution_count": 113,
     "metadata": {},
     "output_type": "execute_result"
    },
    {
     "data": {
      "image/png": "[encoded data removed]",
      "text/plain": [
       "<matplotlib.figure.Figure at 0x7f5ef0fa80f0>"
      ]
     },
     "metadata": {},
     "output_type": "display_data"
    }
   ],
   "source": [
    "# Plot the quarterly surges greater than 100%\n",
    "surge.plot()\n",
    "plt.suptitle('Apple Quarterly Stock Price Surge > 100%')\n",
    "plt.xlabel('Year')\n",
    "plt.ylabel('% Surge')"
   ]
  }
 ],
 "metadata": {
  "kernelspec": {
   "display_name": "Python 3",
   "language": "python",
   "name": "python3"
  },
  "language_info": {
   "codemirror_mode": {
    "name": "ipython",
    "version": 3
   },
   "file_extension": ".py",
   "mimetype": "text/x-python",
   "name": "python",
   "nbconvert_exporter": "python",
   "pygments_lexer": "ipython3",
   "version": "3.6.4"
  },
  "toc": {
   "nav_menu": {},
   "number_sections": true,
   "sideBar": true,
   "skip_h1_title": false,
   "toc_cell": false,
   "toc_position": {},
   "toc_section_display": "block",
   "toc_window_display": false
  },
  "varInspector": {
   "cols": {
    "lenName": 16,
    "lenType": 16,
    "lenVar": 40
   },
   "kernels_config": {
    "python": {
     "delete_cmd_postfix": "",
     "delete_cmd_prefix": "del ",
     "library": "var_list.py",
     "varRefreshCmd": "print(var_dic_list())"
    },
    "r": {
     "delete_cmd_postfix": ") ",
     "delete_cmd_prefix": "rm(",
     "library": "var_list.r",
     "varRefreshCmd": "cat(var_dic_list()) "
    }
   },
   "types_to_exclude": [
    "module",
    "function",
    "builtin_function_or_method",
    "instance",
    "_Feature"
   ],
   "window_display": false
  }
 },
 "nbformat": 4,
 "nbformat_minor": 2
}
